{
 "cells": [
  {
   "cell_type": "markdown",
   "id": "3bb6b997",
   "metadata": {},
   "source": [
    "# Assignment_1"
   ]
  },
  {
   "cell_type": "markdown",
   "id": "1966fd99",
   "metadata": {},
   "source": [
    " __Questions 1. What are keywords in python? Using the keyword library, print all the python keywords.__"
   ]
  },
  {
   "cell_type": "markdown",
   "id": "fdc13c02",
   "metadata": {},
   "source": [
    "Ans1:-Keywords in Python are reserved words that cannot be used as ordinary identifiers. They are used to define the syntax and structure of the Python language.\n",
    "To print all the Python keywords, you can make use of the keyword library. "
   ]
  },
  {
   "cell_type": "code",
   "execution_count": 1,
   "id": "15d6c871",
   "metadata": {},
   "outputs": [
    {
     "name": "stdout",
     "output_type": "stream",
     "text": [
      "['False', 'None', 'True', '__peg_parser__', 'and', 'as', 'assert', 'async', 'await', 'break', 'class', 'continue', 'def', 'del', 'elif', 'else', 'except', 'finally', 'for', 'from', 'global', 'if', 'import', 'in', 'is', 'lambda', 'nonlocal', 'not', 'or', 'pass', 'raise', 'return', 'try', 'while', 'with', 'yield']\n"
     ]
    }
   ],
   "source": [
    "# example how to see how many keywords are:-\n",
    "import keyword\n",
    "\n",
    "all_keywords = keyword.kwlist\n",
    "print(all_keywords)\n"
   ]
  },
  {
   "cell_type": "markdown",
   "id": "934fed1d",
   "metadata": {},
   "source": []
  },
  {
   "cell_type": "markdown",
   "id": "a43a40f0",
   "metadata": {},
   "source": [
    "__Question.2. What are the rules to create variables in python?__"
   ]
  },
  {
   "cell_type": "markdown",
   "id": "46b6c756",
   "metadata": {},
   "source": [
    "\n",
    "Ans 2:- variables are used to store values and give them a name. Here are the rules to create variables in Python:\n",
    "\n",
    "__Variable Names Rules__:\n",
    "\n",
    " 1.Variable names must start with a letter (a-z, A-Z) or an underscore (_).<br>\n",
    " 2.They can contain letters, numbers, and underscores.<br>\n",
    " 3.Variable names are case-sensitive, meaning myVariable and myvariable are different variables.<br>\n",
    "\n",
    "-:Example:-\n",
    "\n",
    "my_variable<br>\n",
    "_private_variable<br>\n",
    "x<br>\n",
    "age<br>\n",
    "myVar123<br>\n",
    "\n",
    "\n",
    "__Invalid Examples__:-<br>\n",
    "\n",
    "123var (starts with a number)<br>\n",
    "my-variable (contains a hyphen)<br>\n",
    "if (reserved keyword)<br>\n",
    "my variable (contains whitespace)<br>\n",
    "\n",
    "\n",
    "__Reserved Keywords__:-<br>\n",
    "\n",
    "You cannot use reserved keywords as variable names since they have predefined meanings in Python. For example, if, while, for, def, class, etc.these are some rules<br>"
   ]
  },
  {
   "cell_type": "code",
   "execution_count": 6,
   "id": "3b5639d0",
   "metadata": {},
   "outputs": [],
   "source": [
    "# Example:-\n",
    "age = 25\n",
    "name = \"John Doe\"  #these are valid variables \n",
    "is_valid = True\n"
   ]
  },
  {
   "cell_type": "markdown",
   "id": "f77574cc",
   "metadata": {},
   "source": []
  },
  {
   "cell_type": "markdown",
   "id": "749880cc",
   "metadata": {},
   "source": [
    "__Question.3. What are the standards and conventions followed for the nomenclature of variables in\n",
    "python to improve code readability and maintainability?__"
   ]
  },
  {
   "cell_type": "markdown",
   "id": "276c629d",
   "metadata": {},
   "source": [
    "\n",
    "Ans3. In Python, there are several standards and conventions followed for variable naming to improve code readability and maintainability. Here are some key guidelines:\n",
    "\n",
    "__Variable Naming__:\n",
    "\n",
    "1.Use lowercase letters for variable names.<br>\n",
    "2.Separate words in variable names with underscores (snake_case).<br>\n",
    "3.Choose descriptive and meaningful names that reflect the purpose of the variable.<br>\n",
    "4.Avoid using single characters or ambiguous names (x, temp, etc.) unless for specific purposes like counters in loops.<br>\n",
    "\n",
    "__Constants__:-<br>\n",
    "Constants, which are variables with values that should not be changed, are typically written in uppercase letters with underscores separating words (UPPER_CASE).<br>\n",
    "\n",
    "__Avoid Reserved Keywords__:-<br>\n",
    "\n",
    "Do not use reserved keywords as variable names since they have predefined meanings in Python.ex: if,else etc<br>\n",
    "\n",
    "-:Indentation and Line Length:-<br>\n",
    "\n",
    "Use consistent indentation (4 spaces) to improve readability<br>.\n",
    "Limit lines to a maximum of 79 characters. If necessary, line breaks can be used with appropriate indentation.<br>\n",
    "\n",
    "\n",
    "__Naming Conventions__:-<br>\n",
    "\n",
    "Module names: Use short, lowercase names. Avoid underscores unless necessary (my_module.py).<br>\n",
    "Package names: Use short, lowercase names. Avoid using underscores (my_package).<br>\n",
    "Class names: Follow the CapWords convention (each word capitalized) for class names (MyClass).<br>\n",
    "Function names and method names: Use lowercase with underscores (my_function()).<br>\n",
    "Private variables and methods: Use a single leading underscore (_private_variable, _private_method()).<br>\n",
    "Constants: Use uppercase with underscores (MY_CONSTANT).<br>\n",
    "Following these naming conventions and style guidelines can greatly enhance the readability and maintainability of your Python code."
   ]
  },
  {
   "cell_type": "markdown",
   "id": "2249e32c",
   "metadata": {},
   "source": [
    "__Q.4. What will happen if a keyword is used as a variable name?__"
   ]
  },
  {
   "cell_type": "markdown",
   "id": "c834b77f",
   "metadata": {},
   "source": [
    "Ans:-  Keywords are reserved words in the Python language and have predefined meanings and functionalities. They cannot be used as variable names or identifiers.\n",
    "\n",
    "When a keyword is used as a variable name, Python will raise a syntax error indicating that the name is invalid. This prevents conflicts and ensures that keywords are used for their intended purposes within the language.\n",
    "\n",
    "For example, if you attempt to use the keyword \"if\" as a variable name:"
   ]
  },
  {
   "cell_type": "code",
   "execution_count": 8,
   "id": "8da2d936",
   "metadata": {},
   "outputs": [
    {
     "ename": "SyntaxError",
     "evalue": "invalid syntax (Temp/ipykernel_3976/3835343333.py, line 1)",
     "output_type": "error",
     "traceback": [
      "\u001b[1;36m  File \u001b[1;32m\"C:\\Users\\91844\\AppData\\Local\\Temp/ipykernel_3976/3835343333.py\"\u001b[1;36m, line \u001b[1;32m1\u001b[0m\n\u001b[1;33m    if = 10  # SyntaxError: invalid syntax\u001b[0m\n\u001b[1;37m       ^\u001b[0m\n\u001b[1;31mSyntaxError\u001b[0m\u001b[1;31m:\u001b[0m invalid syntax\n"
     ]
    }
   ],
   "source": [
    "if = 10  # SyntaxError: invalid syntax\n"
   ]
  },
  {
   "cell_type": "markdown",
   "id": "e70df02a",
   "metadata": {},
   "source": [
    "__Q.5. For what purpose def keyword is used?__"
   ]
  },
  {
   "cell_type": "markdown",
   "id": "84419000",
   "metadata": {},
   "source": [
    "Ans:- \n",
    "The def keyword in Python is used to define and create user-defined functions. Functions are blocks of reusable code that perform a specific task. They help organize code into logical units and promote code reuse.\n",
    "\n",
    "When you use the def keyword, you are defining a function by specifying its name, input parameters (if any), and the code block that executes when the function is called.\n",
    "\n"
   ]
  },
  {
   "cell_type": "code",
   "execution_count": 20,
   "id": "17ae15b7",
   "metadata": {},
   "outputs": [
    {
     "name": "stdout",
     "output_type": "stream",
     "text": [
      "Hello, mohit!\n"
     ]
    }
   ],
   "source": [
    "# example:\n",
    "def greet(name):\n",
    "    print(\"Hello, \" + name + \"!\")\n",
    "    \n",
    "greet(\"mohit\")"
   ]
  },
  {
   "cell_type": "markdown",
   "id": "545928b8",
   "metadata": {},
   "source": [
    "__Q.6. What is the operation of this special character ‘\\’?__"
   ]
  },
  {
   "cell_type": "markdown",
   "id": "8ec23f46",
   "metadata": {},
   "source": [
    "Ans :-The special character '\\' in Python is called the escape character. It is used to indicate that the character immediately following it should be treated differently or have a special meaning.\n",
    "\n",
    "Here are some common uses and operations of the escape character '\\' in Python:\n",
    "\n",
    "__1.Escaping Special Characters:__<br>\n",
    "\n",
    "When you want to include special characters within a string literal, such as double quotes (\"), single quotes ('), or backslashes (\\), you can use the escape character to indicate that they should be treated as literal characters and not for their special meanings.<br>\n",
    "Example: print(\"He said, \\\"Hello!\\\"\") would print: He said, \"Hello!\".<br>\n",
    "\n",
    "__Newline Character:__\n",
    "\n",
    "The escape sequence \\n is used to represent a newline character. It is used to insert a line break within a string.<br>\n"
   ]
  },
  {
   "cell_type": "code",
   "execution_count": 24,
   "id": "f3361132",
   "metadata": {},
   "outputs": [
    {
     "name": "stdout",
     "output_type": "stream",
     "text": [
      "First line\n",
      "Second line\n",
      "He said, \"Hello!\"\n"
     ]
    }
   ],
   "source": [
    "# example:\n",
    "print(\"First line\\nSecond line\") \n",
    "print(\"He said, \\\"Hello!\\\"\")"
   ]
  },
  {
   "cell_type": "markdown",
   "id": "f5b0ef59",
   "metadata": {},
   "source": [
    "__Q.7. Give an example of the following conditions:<br>\n",
    "(i) Homogeneous list<br>\n",
    "(ii) Heterogeneous set<br>\n",
    "(iii) Homogeneous tuple__<br>"
   ]
  },
  {
   "cell_type": "markdown",
   "id": "7254ec58",
   "metadata": {},
   "source": [
    "Ans 7:-__(i) Homogeneous list:__<br>\n",
    "A homogeneous list is a list in which all elements have the same data type. Here's an example of a homogeneous list containing integers.<br>\n",
    "__exaample:<br>\n",
    "numbers = [1, 2, 3, 4, 5]<br>__\n",
    "\n",
    "__(ii) Heterogeneous set:__<br>\n",
    "A heterogeneous set is a set in which the elements can have different data types. Here's an example of a heterogeneous set.<br>\n",
    "__Example: <br>\n",
    "my_set = {1, \"hello\", True, 3.14}<br>__\n",
    "\n",
    "__(iii) Homogeneous tuple:__<br>\n",
    "A homogeneous tuple is a tuple in which all elements have the same data type. Here's an example of a homogeneous tuple containing strings.<br>\n",
    "__Example:<br>\n",
    "fruits = (\"apple\", \"banana\", \"orange\", \"mango\")__<br>\n",
    "\n",
    "\n"
   ]
  },
  {
   "cell_type": "markdown",
   "id": "661fdf21",
   "metadata": {},
   "source": [
    "__Q.8. Explain the mutable and immutable data types with proper explanation & examples.__"
   ]
  },
  {
   "cell_type": "markdown",
   "id": "80dab895",
   "metadata": {},
   "source": [
    "Ans:-  data types can be categorized as either mutable or immutable based on whether their values can be changed after they are created. Here's an explanation of mutable and immutable data types along with examples:\n",
    "\n",
    "__Mutable Data Types:<br>__\n",
    "\n",
    "Mutable data types are those whose values can be modified after they are created.<br>\n",
    "When you modify a mutable object, its memory location remains the same, but the content of the object can change.<br>\n",
    "Examples of mutable data types in Python include lists, sets, and dictionaries.<br>\n"
   ]
  },
  {
   "cell_type": "code",
   "execution_count": 27,
   "id": "65f91173",
   "metadata": {},
   "outputs": [
    {
     "name": "stdout",
     "output_type": "stream",
     "text": [
      "[10, 2, 3, 4]\n"
     ]
    }
   ],
   "source": [
    "# Example of a mutable list:\n",
    "\n",
    "numbers = [1, 2, 3, 4]\n",
    "numbers[0] = 10\n",
    "print(numbers)  # Output: [10, 2, 3, 4]"
   ]
  },
  {
   "cell_type": "markdown",
   "id": "a1a14b11",
   "metadata": {},
   "source": [
    "__Immutable Data Types:__\n",
    "\n",
    "Immutable data types are those whose values cannot be changed after they are created.<br>\n",
    "When you modify an immutable object, a new object is created with the modified value, and the original object remains unchanged.<br>\n",
    "\n",
    "Examples of immutable data types in Python include integers, floats, booleans, strings, and tuples.<br>\n"
   ]
  },
  {
   "cell_type": "code",
   "execution_count": 30,
   "id": "f4f03bfd",
   "metadata": {},
   "outputs": [
    {
     "name": "stdout",
     "output_type": "stream",
     "text": [
      "Hello, World!\n",
      "Hello\n"
     ]
    }
   ],
   "source": [
    "# Example of an immutable string:\n",
    "\n",
    "message = \"Hello\"\n",
    "modified_message = message + \", World!\"\n",
    "print(modified_message)  # Output: Hello, World!\n",
    "print(message)  # Output: Hello\n",
    "\n",
    "# In the above example, a new string is created by concatenating the original string message with \", World!\". \n",
    "# The original string remains unchanged.this is immmutable "
   ]
  },
  {
   "cell_type": "code",
   "execution_count": 32,
   "id": "836ce1ff",
   "metadata": {},
   "outputs": [
    {
     "name": "stdout",
     "output_type": "stream",
     "text": [
      "(10, 20)\n"
     ]
    }
   ],
   "source": [
    "# Example of an immutable tuple:\n",
    "\n",
    "coordinates = (10, 20)\n",
    "x, y = coordinates\n",
    "x = 5\n",
    "print(coordinates)  # Output: (10, 20)\n",
    "\n",
    "# In the above example, although we assign a new value to x, the original tuple coordinates remains unchanged."
   ]
  },
  {
   "cell_type": "markdown",
   "id": "b86890c5",
   "metadata": {},
   "source": [
    "__Q.9. Write a code to create the given structure using only for loop.__\n",
    "\n",
    "       *\n",
    "      ***\n",
    "     *****\n",
    "    *******\n",
    "    *********"
   ]
  },
  {
   "cell_type": "code",
   "execution_count": 33,
   "id": "3a477e61",
   "metadata": {},
   "outputs": [
    {
     "name": "stdout",
     "output_type": "stream",
     "text": [
      "    *\n",
      "   ***\n",
      "  *****\n",
      " *******\n",
      "*********\n"
     ]
    }
   ],
   "source": [
    "rows = 5\n",
    "\n",
    "for i in range(rows):\n",
    "    for j in range(rows - i - 1):\n",
    "        print(\" \", end=\"\")\n",
    "    for j in range(2*i + 1):\n",
    "        print(\"*\", end=\"\")\n",
    "    print()\n"
   ]
  },
  {
   "cell_type": "markdown",
   "id": "bef76f01",
   "metadata": {},
   "source": [
    "__Q.10. Write a code to create the given structure using while loop.<br>\n",
    "|||||||||<br>\n",
    "|||||||<br>\n",
    "|||||<br>\n",
    "|||<br>\n",
    "|__<br>"
   ]
  },
  {
   "cell_type": "code",
   "execution_count": 46,
   "id": "f05cd234",
   "metadata": {},
   "outputs": [
    {
     "name": "stdout",
     "output_type": "stream",
     "text": [
      "|||||||||\n",
      "|||||||\n",
      "|||||\n",
      "|||\n",
      "|\n"
     ]
    }
   ],
   "source": [
    "rows = 9\n",
    "\n",
    "\n",
    "while rows > 0:\n",
    "    print(\"|\" *rows)\n",
    "    rows -= 2\n"
   ]
  },
  {
   "cell_type": "code",
   "execution_count": null,
   "id": "a5fbf718",
   "metadata": {},
   "outputs": [],
   "source": []
  }
 ],
 "metadata": {
  "kernelspec": {
   "display_name": "Python 3 (ipykernel)",
   "language": "python",
   "name": "python3"
  },
  "language_info": {
   "codemirror_mode": {
    "name": "ipython",
    "version": 3
   },
   "file_extension": ".py",
   "mimetype": "text/x-python",
   "name": "python",
   "nbconvert_exporter": "python",
   "pygments_lexer": "ipython3",
   "version": "3.9.7"
  }
 },
 "nbformat": 4,
 "nbformat_minor": 5
}
