{
 "cells": [
  {
   "cell_type": "markdown",
   "id": "de51f6a4",
   "metadata": {},
   "source": [
    "__1. What is the role of try and exception block?__"
   ]
  },
  {
   "cell_type": "markdown",
   "id": "66256935",
   "metadata": {},
   "source": [
    "Ans:<br>\n",
    "    The try-except block is a construct used in programming languages, including Python, to handle exceptions and perform error handling. Here's how it works:<br>\n",
    "\n",
    "__1.Try block:__ The code that might raise an exception is placed within the \"try\" block. It is the section where you want to monitor for potential exceptions.<br>\n",
    "\n",
    "__2.Except block:__ If an exception occurs within the \"try\" block, the corresponding \"except\" block is executed. It allows you to define the actions or code to be executed when a particular exception type is encountered.<br>\n",
    "\n",
    "The role of the try-except block is to provide a mechanism for catching and handling exceptions gracefully. It prevents yourprogram from crashing or terminating abruptly when an exception occurs by allowing you to specify how to handle different types of exceptions. Instead of propagating the exception and halting the program's execution, the except block provides an<br> opportunity to handle the exception gracefully, log relevant information, and continue with the program's flow.<br>\n",
    "\n",
    "Here's a simple example in Python:"
   ]
  },
  {
   "cell_type": "code",
   "execution_count": 3,
   "id": "3ed06dfa",
   "metadata": {},
   "outputs": [
    {
     "name": "stdout",
     "output_type": "stream",
     "text": [
      "Cannot divide by zero!\n"
     ]
    }
   ],
   "source": [
    "try:\n",
    "    # Code that may raise an exception\n",
    "    result = 10 / 0  # Division by zero, raises ZeroDivisionError\n",
    "    print(result)   # This line won't be executed\n",
    "except ZeroDivisionError:\n",
    "    print(\"Cannot divide by zero!\")\n"
   ]
  },
  {
   "cell_type": "markdown",
   "id": "419ea675",
   "metadata": {},
   "source": [
    "__2. What is the syntax for a basic try-except block?__"
   ]
  },
  {
   "cell_type": "markdown",
   "id": "2c3422cb",
   "metadata": {},
   "source": [
    "The basic syntax for a try-except block in Python is as follows:<br>\n",
    "    try:<br>\n",
    "    # Code that may raise an exception<br>\n",
    "    # ...<br>\n",
    "except ExceptionType:<br>\n",
    "    # Code to handle the exception<br>\n",
    "    # ...<br>\n"
   ]
  },
  {
   "cell_type": "code",
   "execution_count": 6,
   "id": "527db6e4",
   "metadata": {},
   "outputs": [
    {
     "name": "stdout",
     "output_type": "stream",
     "text": [
      "Enter a number: 43\n",
      "Enter another number: 0\n",
      "Error: Division by zero is not allowed.\n"
     ]
    }
   ],
   "source": [
    "# example for try and except concept\n",
    "try:\n",
    "    num1 = int(input(\"Enter a number: \"))\n",
    "    num2 = int(input(\"Enter another number: \"))\n",
    "    result = num1 / num2\n",
    "    print(\"Result:\", result)\n",
    "except ValueError:\n",
    "    print(\"Invalid input. Please enter a valid number.\")\n",
    "except ZeroDivisionError:\n",
    "    print(\"Error: Division by zero is not allowed.\")\n"
   ]
  },
  {
   "cell_type": "markdown",
   "id": "cfc02f79",
   "metadata": {},
   "source": [
    "__3. What happens if an exception occurs inside a try block and there is no matching\n",
    "except block?__"
   ]
  },
  {
   "cell_type": "markdown",
   "id": "75b3e70e",
   "metadata": {},
   "source": [
    "Ans: If an exception occurs inside a try block and there is no matching except block to handle that specific exception type, the exception will propagate up the call stack. This means that the program will terminate, and an error message or traceback will be displayed, indicating the unhandled exception and its type.<br>\n",
    "\n",
    "When an exception is not caught and handled by an except block, the program's normal execution is interrupted, and the exception is raised to the next higher-level caller. If the exception is not caught at any level up the call stack, the default behavior is for the program to terminate and display the exception details.<br>"
   ]
  },
  {
   "cell_type": "code",
   "execution_count": 8,
   "id": "179ae261",
   "metadata": {},
   "outputs": [
    {
     "ename": "ZeroDivisionError",
     "evalue": "division by zero",
     "output_type": "error",
     "traceback": [
      "\u001b[1;31m---------------------------------------------------------------------------\u001b[0m",
      "\u001b[1;31mZeroDivisionError\u001b[0m                         Traceback (most recent call last)",
      "\u001b[1;32m~\\AppData\\Local\\Temp/ipykernel_1036/4108431520.py\u001b[0m in \u001b[0;36m<module>\u001b[1;34m\u001b[0m\n\u001b[0;32m      1\u001b[0m \u001b[1;32mtry\u001b[0m\u001b[1;33m:\u001b[0m\u001b[1;33m\u001b[0m\u001b[1;33m\u001b[0m\u001b[0m\n\u001b[1;32m----> 2\u001b[1;33m     \u001b[0mresult\u001b[0m \u001b[1;33m=\u001b[0m \u001b[1;36m10\u001b[0m \u001b[1;33m/\u001b[0m \u001b[1;36m0\u001b[0m  \u001b[1;31m# Division by zero, raises ZeroDivisionError\u001b[0m\u001b[1;33m\u001b[0m\u001b[1;33m\u001b[0m\u001b[0m\n\u001b[0m\u001b[0;32m      3\u001b[0m     \u001b[0mprint\u001b[0m\u001b[1;33m(\u001b[0m\u001b[0mresult\u001b[0m\u001b[1;33m)\u001b[0m   \u001b[1;31m# This line won't be executed\u001b[0m\u001b[1;33m\u001b[0m\u001b[1;33m\u001b[0m\u001b[0m\n\u001b[0;32m      4\u001b[0m \u001b[1;32mexcept\u001b[0m \u001b[0mValueError\u001b[0m\u001b[1;33m:\u001b[0m\u001b[1;33m\u001b[0m\u001b[1;33m\u001b[0m\u001b[0m\n\u001b[0;32m      5\u001b[0m     \u001b[0mprint\u001b[0m\u001b[1;33m(\u001b[0m\u001b[1;34m\"Caught a ValueError\"\u001b[0m\u001b[1;33m)\u001b[0m\u001b[1;33m\u001b[0m\u001b[1;33m\u001b[0m\u001b[0m\n",
      "\u001b[1;31mZeroDivisionError\u001b[0m: division by zero"
     ]
    }
   ],
   "source": [
    "try:\n",
    "    result = 10 / 0  # Division by zero, raises ZeroDivisionError\n",
    "    print(result)   # This line won't be executed\n",
    "except ValueError:\n",
    "    print(\"Caught a ValueError\")\n"
   ]
  },
  {
   "cell_type": "markdown",
   "id": "579e2bb8",
   "metadata": {},
   "source": [
    "In this case, a ZeroDivisionError occurs because we are dividing by zero. However, there is no corresponding except block to catch a ZeroDivisionError."
   ]
  },
  {
   "cell_type": "markdown",
   "id": "3176fc65",
   "metadata": {},
   "source": [
    "__4. What is the difference between using a bare except block and specifying a specific\n",
    "exception type?__"
   ]
  },
  {
   "cell_type": "markdown",
   "id": "d325c68b",
   "metadata": {},
   "source": [
    "Ans:  When handling exceptions in Python, there are two main approaches: using a bare except block and specifying a specific exception type. Here's the difference between the two:<br>\n",
    "\n",
    "__1.Bare except block:__<br>\n",
    "A bare except block is written as except: without specifying any exception type.<br>\n",
    "It catches all types of exceptions that occur within the corresponding try block, regardless of the specific exception type.<br>\n",
    "It is a general catch-all mechanism that handles any exception that is not explicitly handled by a more specific except block.<br>\n",
    "The use of a bare except block is generally discouraged because it can make it harder to diagnose and handle specific exceptions. It can also hide programming errors or unexpected issues.<br>\n"
   ]
  },
  {
   "cell_type": "code",
   "execution_count": null,
   "id": "0455e288",
   "metadata": {},
   "outputs": [],
   "source": [
    "try:\n",
    "    # Code that may raise an exception\n",
    "    # ...\n",
    "except:\n",
    "    # Code to handle any exception\n",
    "    # ...\n"
   ]
  },
  {
   "cell_type": "markdown",
   "id": "a1c564d8",
   "metadata": {},
   "source": [
    "__2.Specifying a specific exception type:__<br>\n",
    "\n",
    "-When you specify a specific exception type, such as except ValueError: or except ZeroDivisionError:, the except block will only handle exceptions of that particular type (or its derived classes).<br>\n",
    "\n",
    "-.It allows you to provide targeted and specific error handling for different types of exceptions.<br>\n",
    "\n",
    "-By explicitly stating the exception type, you can catch and handle only the expected exceptions, while allowing other exceptions to propagate up the call stack.<br>\n",
    "\n",
    "-It helps in writing more robust and maintainable code by distinguishing between different types of exceptions and providing appropriate handling for each case.<br>"
   ]
  },
  {
   "cell_type": "code",
   "execution_count": null,
   "id": "26e568c6",
   "metadata": {},
   "outputs": [],
   "source": [
    "try:\n",
    "    # Code that may raise an exception\n",
    "    # ...\n",
    "except ValueError:\n",
    "    # Code to handle a ValueError\n",
    "    # ...\n",
    "except ZeroDivisionError:\n",
    "    # Code to handle a ZeroDivisionError\n",
    "    # ...\n"
   ]
  },
  {
   "cell_type": "markdown",
   "id": "6d76b191",
   "metadata": {},
   "source": [
    "__5. Can you have nested try-except blocks in Python? If yes, then give an example.__"
   ]
  },
  {
   "cell_type": "markdown",
   "id": "42da4c20",
   "metadata": {},
   "source": [
    "Ans: <br>\n",
    "Yes, it is possible to have nested try-except blocks in Python. This means you can have a try-except block inside another try block or even inside an except block. Nested try-except blocks allow you to handle exceptions at different levels of your code and provide more granular error handling. Here's an example"
   ]
  },
  {
   "cell_type": "code",
   "execution_count": 11,
   "id": "a2e75246",
   "metadata": {},
   "outputs": [
    {
     "name": "stdout",
     "output_type": "stream",
     "text": [
      "Enter the numerator: 89\n",
      "Enter the denominator: 0\n",
      "Error: Division by zero\n"
     ]
    }
   ],
   "source": [
    "try:\n",
    "    # Outer try block\n",
    "    numerator = int(input(\"Enter the numerator: \"))\n",
    "    denominator = int(input(\"Enter the denominator: \"))\n",
    "\n",
    "    try:\n",
    "        # Inner try block\n",
    "        result = numerator / denominator\n",
    "        print(\"Result:\", result)\n",
    "    except ZeroDivisionError:\n",
    "        print(\"Error: Division by zero\")\n",
    "except ValueError:\n",
    "    print(\"Error: Invalid input\")\n"
   ]
  },
  {
   "cell_type": "markdown",
   "id": "847a94c7",
   "metadata": {},
   "source": [
    "In the above example, we have an outer try block that prompts the user to enter a numerator and a denominator. If a ValueError occurs when converting the input to integers, the outer except block handles it by printing an error message."
   ]
  },
  {
   "cell_type": "markdown",
   "id": "5fec10af",
   "metadata": {},
   "source": [
    "Within the outer try block, there is an inner try block that performs the division operation. If a ZeroDivisionError occurs due to dividing by zero, the inner except block handles it by printing an error message."
   ]
  },
  {
   "cell_type": "markdown",
   "id": "8929d71f",
   "metadata": {},
   "source": [
    "__6. Can we use multiple exception blocks, if yes then give an example.__"
   ]
  },
  {
   "cell_type": "code",
   "execution_count": 14,
   "id": "6a2224a0",
   "metadata": {},
   "outputs": [
    {
     "name": "stdout",
     "output_type": "stream",
     "text": [
      "Enter a number: 232.98\n",
      "Invalid input. Please enter a valid number.\n"
     ]
    }
   ],
   "source": [
    "#Ans:\n",
    "try:\n",
    "    # Code that may raise exceptions\n",
    "    num1 = int(input(\"Enter a number: \"))\n",
    "    num2 = int(input(\"Enter another number: \"))\n",
    "    result = num1 / num2\n",
    "    print(\"Result:\", result)\n",
    "except ValueError:\n",
    "    print(\"Invalid input. Please enter a valid number.\")\n",
    "except ZeroDivisionError:\n",
    "    print(\"Error: Division by zero is not allowed.\")\n"
   ]
  },
  {
   "cell_type": "markdown",
   "id": "b199d7c7",
   "metadata": {},
   "source": [
    "In the above example, we have two except blocks after the try block. Each except block is associated with a specific exception type:<br>\n",
    "\n",
    "1.The first except block except ValueError: handles the ValueError that may occur if the user enters a non-numeric value.<br>\n",
    "2.The second except block except ZeroDivisionError: handles the ZeroDivisionError that may occur if the user enters 0 as the second number.<br>"
   ]
  },
  {
   "cell_type": "markdown",
   "id": "e9d0cac7",
   "metadata": {},
   "source": [
    "If a ValueError occurs during the conversion of input to integers, the first except block will be executed, printing the corresponding error message. If a ZeroDivisionError occurs during the division operation, the second except block will be executed, displaying the appropriate error message."
   ]
  },
  {
   "cell_type": "markdown",
   "id": "18e1e34e",
   "metadata": {},
   "source": [
    "__7. Write the reason due to which following errors are raised:<br>\n",
    "a. EOFError<br>\n",
    "b. FloatingPointError<br>\n",
    "c. IndexError<br>\n",
    "d. MemoryError<br>\n",
    "e. OverflowError<br>\n",
    "f. TabError<br>\n",
    "g. ValueError__"
   ]
  },
  {
   "cell_type": "markdown",
   "id": "8b5e0743",
   "metadata": {},
   "source": [
    "Ans:  __EOFError:__\n",
    "\n",
    "1.Raised when there is an unexpected end of file condition while reading input from a file or standard input.<br>\n",
    "2.It typically occurs when an input operation reaches the end of a file or input stream unexpectedly.<br>"
   ]
  },
  {
   "cell_type": "code",
   "execution_count": null,
   "id": "60d8f54c",
   "metadata": {},
   "outputs": [],
   "source": [
    "try:\n",
    "    n = int(input())\n",
    "    print(n * 10)\n",
    "    \n",
    "except EOFError as e:\n",
    "    print(e)"
   ]
  },
  {
   "cell_type": "markdown",
   "id": "0f89204a",
   "metadata": {},
   "source": [
    "__b. FloatingPointError:__\n",
    "\n",
    "1.Raised when a floating-point operation fails to execute successfully.<br>\n",
    "2.It can occur due to various reasons, such as division by zero, an overflow or underflow in a floating-point calculation, or an invalid operation on a floating-point number.<br>"
   ]
  },
  {
   "cell_type": "code",
   "execution_count": null,
   "id": "d502089a",
   "metadata": {},
   "outputs": [],
   "source": [
    "try:\n",
    "    result = 1.0 / 0.0\n",
    "except FloatingPointError:\n",
    "    print(\"Error: Floating-point operation failed.\")\n"
   ]
  },
  {
   "cell_type": "markdown",
   "id": "8964e8f4",
   "metadata": {},
   "source": [
    "__c. IndexError:__\n",
    "\n",
    "Raised when an index used to access a sequence (e.g., list, tuple, string) is out of range.<br>\n",
    "It occurs when you try to access an element using an invalid index, typically an index that is negative or greater than or equal to the length of the sequence.<br>"
   ]
  },
  {
   "cell_type": "code",
   "execution_count": null,
   "id": "b1c20827",
   "metadata": {},
   "outputs": [],
   "source": [
    "try:\n",
    "    my_list = [1, 2, 3]\n",
    "    print(my_list[4])  # Accessing index 4, which is out of range\n",
    "except IndexError:\n",
    "    print(\"Error: Index is out of range.\")\n"
   ]
  },
  {
   "cell_type": "markdown",
   "id": "1fd5b168",
   "metadata": {},
   "source": [
    "__d. MemoryError:__<br>\n",
    "\n",
    "Raised when an operation fails to allocate enough memory to perform an action.<br>\n",
    "It occurs when the computer's memory is exhausted, and the program cannot allocate additional memory for a requested operation.<br>"
   ]
  },
  {
   "cell_type": "code",
   "execution_count": null,
   "id": "4fce6ca8",
   "metadata": {},
   "outputs": [],
   "source": [
    "try:\n",
    "    big_list = [0] * (10 ** 8)  # Trying to allocate a large list\n",
    "except MemoryError:\n",
    "    print(\"Error: Insufficient memory.\")\n"
   ]
  },
  {
   "cell_type": "markdown",
   "id": "b24406b6",
   "metadata": {},
   "source": [
    "__e. OverflowError:__<br>\n",
    "\n",
    "Raised when the result of an arithmetic operation exceeds the maximum representable value for a numeric type.<br>\n",
    "It occurs when a calculation results in a value that is too large to be stored or represented accurately within the given numeric type.<br>"
   ]
  },
  {
   "cell_type": "code",
   "execution_count": null,
   "id": "cbfbc6a4",
   "metadata": {},
   "outputs": [],
   "source": [
    "try:\n",
    "    result = 10 ** 1000  # Trying to calculate an extremely large number\n",
    "except OverflowError:\n",
    "    print(\"Error: Result exceeds maximum representable value.\")\n"
   ]
  },
  {
   "cell_type": "markdown",
   "id": "c967787a",
   "metadata": {},
   "source": [
    "__f. TabError:__\n",
    "\n",
    "Raised when indentation using tabs is inconsistent or incorrect.<br>\n",
    "It occurs when there are inconsistencies or mixtures of tab and space characters within the indentation of Python code, violating the indentation rules.<br>"
   ]
  },
  {
   "cell_type": "code",
   "execution_count": null,
   "id": "04610318",
   "metadata": {},
   "outputs": [],
   "source": [
    "try:\n",
    "    if True:\n",
    "   \t \tprint(\"Indented with a tab\")\n",
    "except TabError:\n",
    "    print(\"Error: Inconsistent or incorrect indentation.\")\n"
   ]
  },
  {
   "cell_type": "markdown",
   "id": "c12a4366",
   "metadata": {},
   "source": [
    "__g. ValueError:__\n",
    "\n",
    "Raised when a function receives an argument of the correct type but an invalid value.<br>\n",
    "It typically occurs when a function is called with an argument that is of the correct data type but is outside the acceptable range or doesn't satisfy other constraints defined by the function.<br>"
   ]
  },
  {
   "cell_type": "code",
   "execution_count": null,
   "id": "d87e0732",
   "metadata": {},
   "outputs": [],
   "source": [
    "try:\n",
    "    number = int(\"abc\")  # Trying to convert a non-numeric string to an integer\n",
    "except ValueError:\n",
    "    print(\"Error: Invalid value for conversion to integer.\")\n"
   ]
  },
  {
   "cell_type": "markdown",
   "id": "220b65ce",
   "metadata": {},
   "source": [
    "These examples demonstrate scenarios where each error type could be raised. Keep in mind that you may need to execute the code within the try block to observe the exceptions."
   ]
  },
  {
   "cell_type": "markdown",
   "id": "d435d88c",
   "metadata": {},
   "source": [
    "__8. Write code for the following given scenario and add try-exception block to it.<br>\n",
    "a. Program to divide two numbers<br>\n",
    "b. Program to convert a string to an integer<br>\n",
    "c. Program to access an element in a list<br>\n",
    "d. Program to handle a specific exception<br>\n",
    "e. Program to handle any exception__<br>"
   ]
  },
  {
   "cell_type": "code",
   "execution_count": 2,
   "id": "1638dcc2",
   "metadata": {},
   "outputs": [
    {
     "name": "stdout",
     "output_type": "stream",
     "text": [
      "Enter the numerator: 45\n",
      "Enter the denominator: 0\n",
      "Error: Division by zero is not allowed.\n"
     ]
    }
   ],
   "source": [
    "# a. Program to divide two numbers\n",
    "try:\n",
    "    numerator = int(input(\"Enter the numerator: \"))\n",
    "    denominator = int(input(\"Enter the denominator: \"))\n",
    "    result = numerator / denominator\n",
    "    print(\"Result:\", result)\n",
    "except ValueError:\n",
    "    print(\"Error: Invalid input. Please enter valid numbers.\")\n",
    "except ZeroDivisionError:\n",
    "    print(\"Error: Division by zero is not allowed.\")\n"
   ]
  },
  {
   "cell_type": "markdown",
   "id": "8f32155d",
   "metadata": {},
   "source": [
    "__b. Program to convert a string to an integer__"
   ]
  },
  {
   "cell_type": "code",
   "execution_count": 4,
   "id": "89e8902c",
   "metadata": {},
   "outputs": [
    {
     "name": "stdout",
     "output_type": "stream",
     "text": [
      "Enter a number: sixteen\n",
      "Error: Invalid input. Please enter a valid number.\n"
     ]
    }
   ],
   "source": [
    "try:\n",
    "    string_num = input(\"Enter a number: \")\n",
    "    integer_num = int(string_num)\n",
    "    print(\"Converted integer:\", integer_num)\n",
    "except ValueError:\n",
    "    print(\"Error: Invalid input. Please enter a valid number.\")\n"
   ]
  },
  {
   "cell_type": "markdown",
   "id": "207eb48b",
   "metadata": {},
   "source": [
    "__c. Program to access an element in a list__"
   ]
  },
  {
   "cell_type": "code",
   "execution_count": 7,
   "id": "a953c202",
   "metadata": {},
   "outputs": [
    {
     "name": "stdout",
     "output_type": "stream",
     "text": [
      "Enter the index to access: -1\n",
      "Element at index -1 is: 5\n"
     ]
    }
   ],
   "source": [
    "try:\n",
    "    my_list = [1, 2, 3, 4, 5]\n",
    "    index = int(input(\"Enter the index to access: \"))\n",
    "    element = my_list[index]\n",
    "    print(\"Element at index\", index, \"is:\", element)\n",
    "except IndexError:\n",
    "    print(\"Error: Index is out of range.\")\n",
    "except ValueError:\n",
    "    print(\"Error: Invalid input. Please enter a valid index.\")\n"
   ]
  },
  {
   "cell_type": "markdown",
   "id": "496a5f40",
   "metadata": {},
   "source": [
    "__d. Program to handle a specific exception__"
   ]
  },
  {
   "cell_type": "code",
   "execution_count": 8,
   "id": "f0968c5a",
   "metadata": {},
   "outputs": [
    {
     "name": "stdout",
     "output_type": "stream",
     "text": [
      "Enter the file name: ffff\n",
      "Error: The file does not exist.\n"
     ]
    }
   ],
   "source": [
    "try:\n",
    "    file_name = input(\"Enter the file name: \")\n",
    "    file = open(file_name, 'r')\n",
    "    # Perform operations on the file\n",
    "    file.close()\n",
    "except FileNotFoundError:\n",
    "    print(\"Error: The file does not exist.\")\n"
   ]
  },
  {
   "cell_type": "markdown",
   "id": "7dbe61a7",
   "metadata": {},
   "source": [
    "__e. Program to handle any exception__"
   ]
  },
  {
   "cell_type": "code",
   "execution_count": 10,
   "id": "9c10ed8b",
   "metadata": {},
   "outputs": [
    {
     "name": "stdout",
     "output_type": "stream",
     "text": [
      "Enter the numerator: mohity\n",
      "An error occurred: invalid literal for int() with base 10: 'mohity'\n"
     ]
    }
   ],
   "source": [
    "try:\n",
    "    # Code that may raise exceptions\n",
    "    numerator = int(input(\"Enter the numerator: \"))\n",
    "    denominator = int(input(\"Enter the denominator: \"))\n",
    "    result = numerator / denominator\n",
    "    print(\"Result:\", result)\n",
    "except Exception as e:\n",
    "    print(\"An error occurred:\", str(e))\n"
   ]
  },
  {
   "cell_type": "markdown",
   "id": "5e9a03a7",
   "metadata": {},
   "source": [
    "The except block then prints a generic error message, which includes the specific error message provided by the caught exception (str(e)). This way, any exception that occurs during the execution of the try block will be caught by the generic except block, providing a generic error message to the user."
   ]
  },
  {
   "cell_type": "code",
   "execution_count": null,
   "id": "1eb053c8",
   "metadata": {},
   "outputs": [],
   "source": []
  }
 ],
 "metadata": {
  "kernelspec": {
   "display_name": "Python 3 (ipykernel)",
   "language": "python",
   "name": "python3"
  },
  "language_info": {
   "codemirror_mode": {
    "name": "ipython",
    "version": 3
   },
   "file_extension": ".py",
   "mimetype": "text/x-python",
   "name": "python",
   "nbconvert_exporter": "python",
   "pygments_lexer": "ipython3",
   "version": "3.9.7"
  }
 },
 "nbformat": 4,
 "nbformat_minor": 5
}
