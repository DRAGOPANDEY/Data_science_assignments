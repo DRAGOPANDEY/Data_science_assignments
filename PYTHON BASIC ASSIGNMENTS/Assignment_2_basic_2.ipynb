{
 "cells": [
  {
   "cell_type": "markdown",
   "id": "e42da2a5",
   "metadata": {},
   "source": [
    "# Assignment 2 (Python basic)"
   ]
  },
  {
   "cell_type": "markdown",
   "id": "510f276e",
   "metadata": {},
   "source": [
    "__1.What are the two values of the Boolean data type? How do you write them?__"
   ]
  },
  {
   "cell_type": "markdown",
   "id": "f0057d41",
   "metadata": {},
   "source": [
    "Ans:-The Boolean data type in Python represents two values: True and False.<br>\n",
    "True: It represents the boolean value for true or the condition being satisfied. It is written as the keyword \"True\" (with a capital 'T').<br>\n",
    "\n",
    "False: It represents the boolean value for false or the condition not being satisfied. It is written as the keyword \"False\" (with a capital 'F').<br>\n",
    "\n"
   ]
  },
  {
   "cell_type": "code",
   "execution_count": 1,
   "id": "ddcce090",
   "metadata": {},
   "outputs": [
    {
     "name": "stdout",
     "output_type": "stream",
     "text": [
      "True\n",
      "False\n"
     ]
    }
   ],
   "source": [
    "# example of using boolean values in Python\n",
    "x = True\n",
    "y = False\n",
    "\n",
    "print(x)  # Output: True\n",
    "print(y)  # Output: False\n",
    "    "
   ]
  },
  {
   "cell_type": "markdown",
   "id": "494c1dab",
   "metadata": {},
   "source": [
    "__2. What are the three different types of Boolean operators?__"
   ]
  },
  {
   "cell_type": "markdown",
   "id": "d64516b0",
   "metadata": {},
   "source": [
    "Ans:- The three different types of Boolean operators are:<br>\n",
    "\n",
    "__AND Operator__: The AND operator returns True if both operands are True, and False otherwise. It is represented by the keyword \"and\" in Python<br>\n",
    "\n",
    "__OR Operator:__ The OR operator returns True if at least one of the operands is True, and False if both operands are False. It is represented by the keyword \"or\" in Python.<br>\n",
    "\n",
    "__NOT Operator:__ The NOT operator negates the boolean value of an operand. If the operand is True, it returns False, and if the operand is False, it returns True. <br>\n",
    "\n",
    "These Boolean operators are commonly used in conditional statements, logical expressions, and boolean algebra to perform logical operations on boolean values."
   ]
  },
  {
   "cell_type": "code",
   "execution_count": 4,
   "id": "e0f8f5a2",
   "metadata": {},
   "outputs": [
    {
     "name": "stdout",
     "output_type": "stream",
     "text": [
      "True\n",
      "True\n",
      "False\n"
     ]
    }
   ],
   "source": [
    "a=100\n",
    "b=200\n",
    "print(a>50 and b>100) # Example of boolean and\n",
    "print(a>200 or b>100) # Example of boolean or\n",
    "print(not(a>10)) # Example of boolean not"
   ]
  },
  {
   "cell_type": "markdown",
   "id": "e0197ac2",
   "metadata": {},
   "source": [
    "__3. Make a list of each Boolean operator&#39;s truth tables (i.e. every possible combination of Boolean\n",
    "values for the operator and what it evaluate ).__"
   ]
  },
  {
   "cell_type": "markdown",
   "id": "07472783",
   "metadata": {},
   "source": [
    "Ans: The Truth tables for the boolean tables are as follows:<br>\n",
    "\n",
    "__Truth Table for and operaotor<br>__\n",
    "\n",
    "True and True is True<br>\n",
    "True and False is False<br>\n",
    "False and True is False<br>\n",
    "False and False is False<br>\n",
    "\n",
    "__Truth Table for or operaotor__<br>\n",
    "\n",
    "True and True is True<br>\n",
    "True and False is True<br>\n",
    "False and True is True<br>\n",
    "False and False is False<br>\n",
    "\n",
    "__Truth Table for not operaotor<br>__\n",
    "\n",
    "True not is False<br> \n",
    "False not is True<br>"
   ]
  },
  {
   "cell_type": "markdown",
   "id": "99e0f4e0",
   "metadata": {},
   "source": [
    "__4. What are the values of the following expressions?<br>\n",
    "(5 &gt; 4) and (3 == 5)<br>\n",
    "not (5 &gt; 4)<br>\n",
    "(5 &gt; 4) or (3 == 5)<br>\n",
    "not ((5 &gt; 4) or (3 == 5))<br>\n",
    "(True and True) and (True == False)<br>\n",
    "(not False) or (not True)<br>__"
   ]
  },
  {
   "cell_type": "code",
   "execution_count": 8,
   "id": "8c5cb890",
   "metadata": {},
   "outputs": [
    {
     "name": "stdout",
     "output_type": "stream",
     "text": [
      "False\n",
      "False\n",
      "True\n",
      "False\n",
      "False\n",
      "True\n"
     ]
    }
   ],
   "source": [
    "# Ans:-\n",
    "print((5>4)and(3==5)) # False\n",
    "print(not(5>4)) # False\n",
    "print((5>4)or(3==5)) # True\n",
    "print(not((5>4)or(3==5))) # False\n",
    "print((True and True)and(True==False)) # False\n",
    "print((not False)or(not True)) # True"
   ]
  },
  {
   "cell_type": "markdown",
   "id": "263ae1f4",
   "metadata": {},
   "source": [
    "__5. What are the six comparison operators?__"
   ]
  },
  {
   "cell_type": "markdown",
   "id": "496ce622",
   "metadata": {},
   "source": [
    "Ans: The Six comparision operators available in python are:<br>\n",
    "== , != , < , > , <= , =><br>\n",
    "1.Equal to (==) <br>\n",
    "2.Not equal to (!=)<br>\n",
    "3.Greater than (>)<br>\n",
    "4.Less than (<)<br>\n",
    "5.Greater than or equal to (>=)<br>\n",
    "6.Less than or equal to (<=)<br>"
   ]
  },
  {
   "cell_type": "markdown",
   "id": "55d4c30a",
   "metadata": {},
   "source": [
    "__6. How do you tell the difference between the equal to and assignment operators?Describe a\n",
    "condition and when you would use one.__"
   ]
  },
  {
   "cell_type": "markdown",
   "id": "e4ce470c",
   "metadata": {},
   "source": [
    "Ans:- Ans: == is the equal to operator that compares two values and evaluates to a Boolean, while = is that assignment operator that stores a value in a variable.\n",
    "\n"
   ]
  },
  {
   "cell_type": "code",
   "execution_count": null,
   "id": "69b82a65",
   "metadata": {},
   "outputs": [
    {
     "name": "stdout",
     "output_type": "stream",
     "text": [
      "True\n"
     ]
    }
   ],
   "source": [
    "a=3 # Assigning operator that stores 3 value in a variable a\n",
    "if a==3:#comparing values of a varible value and 3\n",
    "    print(a==3)  "
   ]
  },
  {
   "cell_type": "markdown",
   "id": "55f0d960",
   "metadata": {},
   "source": [
    "__7. Identify the three blocks in this code:<br>__\n",
    "\n",
    "spam = 0<br>\n",
    "if spam == 10:<br>\n",
    "print('eggs')<br>\n",
    "if spam > 5:<br>\n",
    "print('bacon')<br>\n",
    "else:<br>\n",
    "print('ham')<br>\n",
    "print('spam')<br>\n",
    "print('spam')__<br>"
   ]
  },
  {
   "cell_type": "markdown",
   "id": "fe7e31d4",
   "metadata": {},
   "source": [
    "__Ans 7:-__There are three blocks identified based on the indentation level. Blocks in Python are defined by their indentation and are typically associated with control flow statements like if-else statements or loops.\n",
    "\n"
   ]
  },
  {
   "cell_type": "code",
   "execution_count": 13,
   "id": "dd9f0c06",
   "metadata": {},
   "outputs": [
    {
     "name": "stdout",
     "output_type": "stream",
     "text": [
      "ham\n",
      "spam\n",
      "spam\n"
     ]
    }
   ],
   "source": [
    "# Here's the code with the blocks identified:\n",
    "\n",
    "spam = 0\n",
    "\n",
    "# Block 1\n",
    "if spam == 10:\n",
    "    print('eggs')\n",
    "\n",
    "# Block 2\n",
    "if spam > 5:\n",
    "    print('bacon')\n",
    "else:\n",
    "    # Block 3\n",
    "    print('ham')\n",
    "\n",
    "print('spam')\n",
    "print('spam')"
   ]
  },
  {
   "cell_type": "markdown",
   "id": "2cb38890",
   "metadata": {},
   "source": [
    "__8. Write code that prints Hello if 1 is stored in spam, prints Howdy if 2 is stored in spam, and prints\n",
    "Greetings! if anything else is stored in spam.__"
   ]
  },
  {
   "cell_type": "code",
   "execution_count": 16,
   "id": "9fb0d342",
   "metadata": {},
   "outputs": [
    {
     "name": "stdout",
     "output_type": "stream",
     "text": [
      "Hello\n",
      "Howdy\n",
      "Greetings\n"
     ]
    }
   ],
   "source": [
    "# __Ans 8.__Examples\n",
    "def spamCode(spam):\n",
    "    if spam==1:\n",
    "        print('Hello')\n",
    "    elif spam==2:\n",
    "        print('Howdy')\n",
    "    else:\n",
    "        print('Greetings')\n",
    "        \n",
    "spamCode(1) \n",
    "spamCode(2)\n",
    "spamCode(3)"
   ]
  },
  {
   "cell_type": "markdown",
   "id": "b1411776",
   "metadata": {},
   "source": [
    "__9.If your programme is stuck in an endless loop, what keys you’ll press?__"
   ]
  },
  {
   "cell_type": "markdown",
   "id": "2d3aef6e",
   "metadata": {},
   "source": [
    "Ans 9:- If your program is stuck in an endless loop and you want to interrupt its execution, you can typically use the following key combination to forcefully stop the program:<br>\n",
    "\n",
    "__Ctrl + C (or Ctrl + Break on some systems)__<br>\n",
    "Pressing Ctrl + C sends an interrupt signal to the running program, causing it to terminate and return control to the command prompt or the IDE's console.<br>"
   ]
  },
  {
   "cell_type": "markdown",
   "id": "31c6204e",
   "metadata": {},
   "source": [
    "__10. How can you tell the difference between break and continue?__"
   ]
  },
  {
   "cell_type": "markdown",
   "id": "7d70f400",
   "metadata": {},
   "source": [
    "Ans 10. The break statement will move the execution outside the loop if break condtion is satisfied. Whereas the continue statement will move the execution to the start of the loop."
   ]
  },
  {
   "cell_type": "code",
   "execution_count": 19,
   "id": "bd0fd4da",
   "metadata": {},
   "outputs": [
    {
     "name": "stdout",
     "output_type": "stream",
     "text": [
      "0\n",
      "1\n",
      "2\n"
     ]
    }
   ],
   "source": [
    "# Example of break\n",
    "for i in range(5):\n",
    "    if i == 3:\n",
    "        break\n",
    "    print(i)\n",
    "    \n",
    "\n",
    "\n"
   ]
  },
  {
   "cell_type": "code",
   "execution_count": 1,
   "id": "f36032fa",
   "metadata": {},
   "outputs": [
    {
     "name": "stdout",
     "output_type": "stream",
     "text": [
      "0\n",
      "1\n",
      "3\n",
      "4\n"
     ]
    }
   ],
   "source": [
    "# Examplevof continue\n",
    "for i in range(5):\n",
    "    if i == 2:\n",
    "        continue\n",
    "    print(i)"
   ]
  },
  {
   "cell_type": "markdown",
   "id": "99d8f4b2",
   "metadata": {},
   "source": [
    "__11. In a for loop, what is the difference between range(10), range(0, 10), and range(0, 10, 1)?__"
   ]
  },
  {
   "cell_type": "markdown",
   "id": "0b199f7a",
   "metadata": {},
   "source": [
    "Ans:- Ans: The Differences are as follows:\n",
    "\n",
    "__range(10)__ call range from 0 to 9 (but not include 10)\n",
    "In this case, range(10) generates numbers from 0 to 9 (i.e., 0, 1, 2, 3, 4, 5, 6, 7, 8, 9).\n",
    "\n",
    "__range (0,10)__ explicitly tells the loop to start at 0\n",
    "In this case, range(0, 10) generates numbers from 0 to 9 (i.e., 0, 1, 2, 3, 4, 5, 6, 7, 8, 9).\n",
    "\n",
    "__range(0,10,1)__ explicitly tells the loop to increase the variable by 1 on each iteration \n",
    "ex:(i.e., 0, 1, 2, 3, 4, 5, 6, 7, 8, 9)."
   ]
  },
  {
   "cell_type": "markdown",
   "id": "c6d4579d",
   "metadata": {},
   "source": [
    "__12. Write a short program that prints the numbers 1 to 10 using a for loop. Then write an equivalent\n",
    "program that prints the numbers 1 to 10 using a while loop.__"
   ]
  },
  {
   "cell_type": "code",
   "execution_count": 2,
   "id": "5b995694",
   "metadata": {},
   "outputs": [
    {
     "name": "stdout",
     "output_type": "stream",
     "text": [
      "---------- Using For Loop ----------\n",
      "1 2 3 4 5 6 7 8 9 10 \n",
      "\n"
     ]
    }
   ],
   "source": [
    "print('-'*10,'Using For Loop','-'*10)\n",
    "for i in range(1,11):\n",
    "    print(i, end=\" \")\n",
    "print('\\n')\n"
   ]
  },
  {
   "cell_type": "code",
   "execution_count": 3,
   "id": "ae9f93ea",
   "metadata": {},
   "outputs": [
    {
     "name": "stdout",
     "output_type": "stream",
     "text": [
      "---------- Using While Loop ----------\n",
      "1 2 3 4 5 6 7 8 9 10 "
     ]
    }
   ],
   "source": [
    "print('-'*10,'Using While Loop','-'*10) \n",
    "i=1\n",
    "while i<=10:\n",
    "    print(i, end=\" \")\n",
    "    i+=1"
   ]
  },
  {
   "cell_type": "markdown",
   "id": "020cec6f",
   "metadata": {},
   "source": [
    "__13. If you had a function named bacon() inside a module named spam, how would you call it after\n",
    "importing spam?__"
   ]
  },
  {
   "cell_type": "markdown",
   "id": "1382af80",
   "metadata": {},
   "source": [
    "Ans 13.__After importing the module named spam, you can call the function named bacon() using the following syntax:\n",
    "\n",
    "\n",
    "import spam\n",
    "\n",
    "spam.bacon()"
   ]
  },
  {
   "cell_type": "code",
   "execution_count": null,
   "id": "b55e10df",
   "metadata": {},
   "outputs": [],
   "source": []
  }
 ],
 "metadata": {
  "kernelspec": {
   "display_name": "Python 3 (ipykernel)",
   "language": "python",
   "name": "python3"
  },
  "language_info": {
   "codemirror_mode": {
    "name": "ipython",
    "version": 3
   },
   "file_extension": ".py",
   "mimetype": "text/x-python",
   "name": "python",
   "nbconvert_exporter": "python",
   "pygments_lexer": "ipython3",
   "version": "3.9.7"
  }
 },
 "nbformat": 4,
 "nbformat_minor": 5
}
