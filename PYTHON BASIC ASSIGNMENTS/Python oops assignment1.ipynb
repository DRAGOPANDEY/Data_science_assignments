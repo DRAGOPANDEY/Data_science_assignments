{
 "cells": [
  {
   "cell_type": "markdown",
   "id": "7622fba1",
   "metadata": {},
   "source": [
    "# ASSignemnt 1: OPPS"
   ]
  },
  {
   "cell_type": "markdown",
   "id": "0010db38",
   "metadata": {},
   "source": [
    "__1. What is the primary goal of Object-Oriented Programming (OOP)?__"
   ]
  },
  {
   "cell_type": "markdown",
   "id": "74f34ea3",
   "metadata": {},
   "source": [
    "__Ans:-__ The key goals of OOP include:<br>\n",
    "\n",
    "__1.Modularity:__OOP promotes breaking down complex systems into smaller, manageable modules (objects), which makes the codebase easier to understand, maintain, and extend.<br>\n",
    "\n",
    "__2.Reusability:__ Objects can be reused in different parts of an application or even in different projects, leading to more efficient development and reducing duplication of code.<br>\n",
    "\n",
    "__3.Encapsulation: Objects__ encapsulate their internal state (data) and the methods that manipulate that data. This helps hide the implementation details and exposes only the necessary interfaces, enhancing security and abstraction.<br>\n",
    "\n",
    "__4.Abstraction:__ OOP allows developers to create abstract representations of real-world concepts, focusing on the essential characteristics while hiding unnecessary complexities.<br>\n",
    "\n",
    "__5.Inheritance:__ Through inheritance, new classes (subclasses or derived classes) can be created based on existing classes (superclasses or base classes), inheriting their attributes and behaviors. This promotes code reuse and allows for hierarchical modeling of concepts.<br>\n",
    "\n",
    "__6.Polymorphism:__ Polymorphism allows objects of different classes to be treated as instances of a common parent class, enabling more flexible and dynamic code. It enables the use of interfaces and abstract classes to define shared behaviors without specifying their exact implementation.<br>\n",
    "\n",
    "In essence, OOP aims to enhance code organization, maintainability, and reusability by structuring software development around the concepts of objects and their interactions.<br>\n",
    "\n",
    "\n",
    "\n",
    "\n",
    "\n"
   ]
  },
  {
   "cell_type": "markdown",
   "id": "83e50848",
   "metadata": {},
   "source": [
    "__2. What is an object in Python?__"
   ]
  },
  {
   "cell_type": "markdown",
   "id": "d8358c6b",
   "metadata": {},
   "source": [
    "__Ans:__ \n",
    "In Python, an object is a fundamental building block that represents a specific instance of a data structure or a concept. Objects have attributes (data) and methods (functions) associated with them. They can be created from predefined classes (like strings, lists) or custom classes that you define. Objects allow you to organize and manipulate data in a structured and modular way.\n",
    "\n",
    "\n",
    "\n",
    "\n"
   ]
  },
  {
   "cell_type": "code",
   "execution_count": 3,
   "id": "f1892a97",
   "metadata": {},
   "outputs": [
    {
     "name": "stdout",
     "output_type": "stream",
     "text": [
      "Alice\n",
      "25\n",
      "Hello, my name is Alice and I am 30 years old.\n",
      "Hello, my name is Bob and I am 25 years old.\n"
     ]
    }
   ],
   "source": [
    "class Person:\n",
    "    def __init__(self, name, age):\n",
    "        self.name = name\n",
    "        self.age = age\n",
    "    \n",
    "    def greet(self):\n",
    "        print(f\"Hello, my name is {self.name} and I am {self.age} years old.\")\n",
    "\n",
    "# Creating objects (instances) of the Person class\n",
    "person1 = Person(\"Alice\", 30)\n",
    "person2 = Person(\"Bob\", 25)\n",
    "\n",
    "# Accessing attributes and calling methods of objects\n",
    "print(person1.name)  # Output: Alice\n",
    "print(person2.age)   # Output: 25\n",
    "\n",
    "person1.greet()  # Output: Hello, my name is Alice and I am 30 years old.\n",
    "person2.greet()  # Output: Hello, my name is Bob and I am 25 years old.\n"
   ]
  },
  {
   "cell_type": "markdown",
   "id": "d1a6697d",
   "metadata": {},
   "source": [
    "__3. What is a class in Python?__"
   ]
  },
  {
   "cell_type": "markdown",
   "id": "746fa343",
   "metadata": {},
   "source": [
    "__Ans__ A class is a blueprint or a template that defines the structure and behavior of objects. It provides a way to create new objects with consistent attributes (data) and methods (functions) associated with them. A class acts as a user-defined data type that you can use to create multiple instances (objects) of the same type."
   ]
  },
  {
   "cell_type": "code",
   "execution_count": 4,
   "id": "c87648bb",
   "metadata": {},
   "outputs": [
    {
     "name": "stdout",
     "output_type": "stream",
     "text": [
      "2022 Toyota Camry\n",
      "Ford\n"
     ]
    }
   ],
   "source": [
    "class Car:\n",
    "    def __init__(self, make, model, year):\n",
    "        self.make = make\n",
    "        self.model = model\n",
    "        self.year = year\n",
    "    \n",
    "    def info(self):\n",
    "        return f\"{self.year} {self.make} {self.model}\"\n",
    "\n",
    "# Creating objects (instances) of the Car class\n",
    "car1 = Car(\"Toyota\", \"Camry\", 2022)\n",
    "car2 = Car(\"Ford\", \"Mustang\", 2023)\n",
    "\n",
    "# Accessing attributes and calling methods of objects\n",
    "print(car1.info())  # Output: 2022 Toyota Camry\n",
    "print(car2.make)    # Output: Ford\n"
   ]
  },
  {
   "cell_type": "markdown",
   "id": "429ce628",
   "metadata": {},
   "source": [
    "__4. What are attributes and methods in a class?__"
   ]
  },
  {
   "cell_type": "markdown",
   "id": "7fdec6a0",
   "metadata": {},
   "source": [
    "Ans: __Attributes:__<br>\n",
    "Attributes, also known as member variables or instance variables, are data members that represent the characteristics or properties of an object. These attributes define the state of an object and can hold various types of data such as<br> integers, strings, floats, or other objects. Attributes are used to store information about an object's current state.<br> For example, if you have a class representing a \"Person,\" the attributes might include \"name,\" \"age,\" and \"address.\""
   ]
  },
  {
   "cell_type": "code",
   "execution_count": 1,
   "id": "47f77df6",
   "metadata": {},
   "outputs": [],
   "source": [
    "class Person:\n",
    "    def __init__(self, name, age):\n",
    "        self.name = name  # attribute\n",
    "        self.age = age    # attribute\n"
   ]
  },
  {
   "cell_type": "markdown",
   "id": "04550a0b",
   "metadata": {},
   "source": [
    "__Methods:__\n",
    "Methods are functions defined within a class that perform actions or operations on the class's attributes or other data. Methods are used to define the behavior of objects of the class. They can manipulate the attributes, perform calculations, or interact with other objects. Methods are essential for encapsulating the logic associated with an object and providing a way to interact with and modify the object's state."
   ]
  },
  {
   "cell_type": "code",
   "execution_count": 2,
   "id": "751cb0a0",
   "metadata": {},
   "outputs": [],
   "source": [
    "class Calculator:\n",
    "    def __init__(self):\n",
    "        self.result = 0  # attribute\n",
    "\n",
    "    def add(self, x, y):\n",
    "        self.result = x + y\n",
    "\n",
    "    def subtract(self, x, y):\n",
    "        self.result = x - y\n"
   ]
  },
  {
   "cell_type": "markdown",
   "id": "7ec9f73d",
   "metadata": {},
   "source": [
    "__5. What is the difference between class variables and instance variables in Python?__"
   ]
  },
  {
   "cell_type": "markdown",
   "id": "6628c44a",
   "metadata": {},
   "source": [
    "Ans:- Instance Variables:<br>\n",
    "\n",
    "Instance variables are variables that are specific to each instance or object of a class. Each instance of a class can have its own set of instance variables with unique values.\n",
    "These variables are defined within methods of a class using the self keyword, typically within the constructor method (__init__). They are prefixed with self. to indicate that they belong to the instance.\n",
    "Instance variables store data that is unique to each object and represents the object's state or attributes.\n",
    "Instance variables are accessed and modified using the instance of the class.\n",
    "They are not shared among instances of the same class."
   ]
  },
  {
   "cell_type": "code",
   "execution_count": 4,
   "id": "d0f31430",
   "metadata": {},
   "outputs": [
    {
     "name": "stdout",
     "output_type": "stream",
     "text": [
      "Alice\n",
      "25\n"
     ]
    }
   ],
   "source": [
    "class Person:\n",
    "    def __init__(self, name, age):\n",
    "        self.name = name  # instance variable\n",
    "        self.age = age    # instance variable\n",
    "\n",
    "person1 = Person(\"Alice\", 30)\n",
    "person2 = Person(\"Bob\", 25)\n",
    "\n",
    "print(person1.name)  # Output: \"Alice\"\n",
    "print(person2.age)   # Output: 25\n"
   ]
  },
  {
   "cell_type": "markdown",
   "id": "897c0705",
   "metadata": {},
   "source": [
    "__Class Variables:__\n",
    "\n",
    "Class variables are variables that are shared among all instances of a class. They are defined within the class but outside of any methods and are usually declared at the class level.\n",
    "These variables are the same for all instances of the class and are used to store data that is common to the entire class.\n",
    "Class variables are accessed using the class name itself or through an instance of the class, but they are shared among all instances."
   ]
  },
  {
   "cell_type": "code",
   "execution_count": 8,
   "id": "046fc413",
   "metadata": {},
   "outputs": [
    {
     "name": "stdout",
     "output_type": "stream",
     "text": [
      "Canis familiaris\n",
      "Canis familiaris\n"
     ]
    }
   ],
   "source": [
    "class Dog:\n",
    "    species = \"Canis familiaris\"  # class variable\n",
    "\n",
    "    def __init__(self, name, age):\n",
    "        self.name = name          # instance variable\n",
    "        self.age = age            # instance variable\n",
    "\n",
    "dog1 = Dog(\"Buddy\", 3)\n",
    "dog2 = Dog(\"Charlie\", 2)\n",
    "\n",
    "print(dog1.species)  \n",
    "print(dog2.species) \n"
   ]
  },
  {
   "cell_type": "markdown",
   "id": "3c355c2b",
   "metadata": {},
   "source": [
    "__6. What is the purpose of the self parameter in Python class methods?__"
   ]
  },
  {
   "cell_type": "markdown",
   "id": "953e8f23",
   "metadata": {},
   "source": [
    "Ans:-In Python, the self parameter in class methods is a convention that represents the instance of the class. It is not a reserved keyword; you can technically use any variable name, but using self is a widely followed convention, and it makes your code more readable and understandable. The self parameter serves several essential purposes:\n",
    "\n",
    "__Access to Instance Variables:__\n",
    "\n",
    "Inside class methods, you can access instance variables (also known as instance attributes) using self.variable_name. This allows you to work with the specific data associated with the instance the method is called on.\n",
    "Differentiating Instance and Local Variables:\n",
    "\n",
    "When you define variables inside a method, they are considered local to that method unless you use self to specify that they are instance variables. Using self distinguishes instance variables from local variables within the method.\n",
    "Access to Other Methods:\n",
    "\n",
    "self allows you to call other methods of the same class from within the method. This way, you can encapsulate and organize the functionality of your class.\n",
    "Creating and Modifying Instance Attributes:\n",
    "\n",
    "You can create and modify instance attributes within methods using self. For example, when you initialize an object's attributes in the constructor (__init__ method), you use self to set those attributes for the specific instance."
   ]
  },
  {
   "cell_type": "code",
   "execution_count": 9,
   "id": "42be90c0",
   "metadata": {},
   "outputs": [
    {
     "name": "stdout",
     "output_type": "stream",
     "text": [
      "Alice\n",
      "My name is Alice and I am 30 years old.\n"
     ]
    }
   ],
   "source": [
    "class Person:\n",
    "    def __init__(self, name, age):\n",
    "        self.name = name  # instance attribute\n",
    "        self.age = age    # instance attribute\n",
    "\n",
    "    def introduce(self):\n",
    "        return f\"My name is {self.name} and I am {self.age} years old.\"\n",
    "\n",
    "# Creating an instance of the Person class\n",
    "person = Person(\"Alice\", 30)\n",
    "\n",
    "# Accessing instance attributes and calling a method using self\n",
    "print(person.name)        # Output: \"Alice\"\n",
    "print(person.introduce())  # Output: \"My name is Alice and I am 30 years old.\"\n"
   ]
  },
  {
   "cell_type": "markdown",
   "id": "4669b3eb",
   "metadata": {},
   "source": [
    "__7. For a library management system, you have to design the \"Book\" class with OOP<br>\n",
    "principles in mind. The “Book” class will have following attributes:<br>\n",
    "a. title: Represents the title of the book.<br>\n",
    "b. author: Represents the author(s) of the book.<br>\n",
    "c. isbn: Represents the ISBN (International Standard Book Number) of the book.<br>\n",
    "d. publication_year: Represents the year of publication of the book.<br>\n",
    "e. available_copies: Represents the number of copies available for checkout.__<br>\n",
    "__The class will also include the following methods:<br>\n",
    "a. check_out(self): Decrements the available copies by one if there are copies\n",
    "available for checkout.<br>\n",
    "b. return_book(self): Increments the available copies by one when a book is\n",
    "returned.<br>\n",
    "c. display_book_info(self): Displays the information about the book, including its\n",
    "attributes and the number of available copies.<br>__"
   ]
  },
  {
   "cell_type": "code",
   "execution_count": 11,
   "id": "f6a4b0ee",
   "metadata": {},
   "outputs": [
    {
     "name": "stdout",
     "output_type": "stream",
     "text": [
      "Title: The Great Gatsby\n",
      "Author: F. Scott Fitzgerald\n",
      "ISBN: 978-0743273565\n",
      "Publication Year: 1925\n",
      "Available Copies: 10\n",
      "Title: To Kill a Mockingbird\n",
      "Author: Harper Lee\n",
      "ISBN: 978-0061120084\n",
      "Publication Year: 1960\n",
      "Available Copies: 5\n",
      "3 copies of 'The Great Gatsby' checked out successfully\n",
      "2 copies of 'To Kill a Mockingbird' checked out successfully\n",
      "2 copies of 'The Great Gatsby' returned successfully\n"
     ]
    }
   ],
   "source": [
    "class Book:\n",
    "    def __init__(self, title, author, isbn, publication_year, available_copies):\n",
    "        self.title = title\n",
    "        self.author = author\n",
    "        self.isbn = isbn\n",
    "        self.publication_year = publication_year\n",
    "        self.available_copies = available_copies\n",
    "\n",
    "    def __str__(self):\n",
    "        return f\"Title: {self.title}\\nAuthor: {self.author}\\nISBN: {self.isbn}\\nPublication Year: {self.publication_year}\\nAvailable Copies: {self.available_copies}\"\n",
    "\n",
    "    def check_out(self, num_copies=1):\n",
    "        if num_copies <= 0:\n",
    "            return \"Invalid number of copies\"\n",
    "        elif num_copies > self.available_copies:\n",
    "            return \"Not enough copies available\"\n",
    "        else:\n",
    "            self.available_copies -= num_copies\n",
    "            return f\"{num_copies} copies of '{self.title}' checked out successfully\"\n",
    "\n",
    "    def return_book(self, num_copies=1):\n",
    "        if num_copies <= 0:\n",
    "            return \"Invalid number of copies\"\n",
    "        else:\n",
    "            self.available_copies += num_copies\n",
    "            return f\"{num_copies} copies of '{self.title}' returned successfully\"\n",
    "\n",
    "# Example usage:\n",
    "book1 = Book(\"The Great Gatsby\", \"F. Scott Fitzgerald\", \"978-0743273565\", 1925, 10)\n",
    "book2 = Book(\"To Kill a Mockingbird\", \"Harper Lee\", \"978-0061120084\", 1960, 5)\n",
    "\n",
    "print(book1)\n",
    "print(book2)\n",
    "\n",
    "# Checking out and returning books\n",
    "print(book1.check_out(3))\n",
    "print(book2.check_out(2))\n",
    "print(book1.return_book(2))\n"
   ]
  },
  {
   "cell_type": "markdown",
   "id": "ca3a9a68",
   "metadata": {},
   "source": [
    "__8. For a ticket booking system, you have to design the \"Ticket\" class with OOP\n",
    "principles in mind. The “Ticket” class should have the following attributes:<br>\n",
    "a. ticket_id: Represents the unique identifier for the ticket.<br>\n",
    "b. event_name: Represents the name of the event.<br>\n",
    "c. event_date: Represents the date of the event.<br>\n",
    "d. venue: Represents the venue of the event.<br>\n",
    "e. seat_number: Represents the seat number associated with the ticket.<br>\n",
    "f. price: Represents the price of the ticket.<br>\n",
    "g. is_reserved: Represents the reservation status of the ticket.<br>\n",
    "The class also includes the following methods:<br>\n",
    "a. reserve_ticket(self): Marks the ticket as reserved if it is not already reserved.<br>\n",
    "b. cancel_reservation(self): Cancels the reservation of the ticket if it is already\n",
    "reserved.<br>\n",
    "c. display_ticket_info(self): Displays the information about the ticket, including its\n",
    "attributes and reservation status.__<br>"
   ]
  },
  {
   "cell_type": "code",
   "execution_count": 28,
   "id": "7b225282",
   "metadata": {},
   "outputs": [
    {
     "name": "stdout",
     "output_type": "stream",
     "text": [
      "----------------------------------------------------------------------------------------------------\n",
      "Ticket ID: 1\n",
      "Event Name: Concert\n",
      "Event Date: 2023-09-15\n",
      "Venue: Music Hall\n",
      "Seat Number: A101\n",
      "Price: $50.0\n",
      "Status: Not Reserved\n",
      "----------------------------------------------------------------------------------------------------\n",
      "Ticket 1 is now reserved.\n",
      "Ticket 2 is now reserved.\n",
      "Reservation for ticket 1 is canceled.\n",
      "----------------------------------------------------------------------------------------------------\n",
      "Ticket ID: 1\n",
      "Event Name: Concert\n",
      "Event Date: 2023-09-15\n",
      "Venue: Music Hall\n",
      "Seat Number: A101\n",
      "Price: $50.0\n",
      "Status: Not Reserved\n",
      "Ticket ID: 2\n",
      "Event Name: Sports Game\n",
      "Event Date: 2023-09-20\n",
      "Venue: Stadium\n",
      "Seat Number: B205\n",
      "Price: $35.0\n",
      "Status: Reserved\n"
     ]
    }
   ],
   "source": [
    "# ans\n",
    "class Ticket:\n",
    "    def __init__(self, ticket_id, event_name, event_date, venue, seat_number, price):\n",
    "        self.ticket_id = ticket_id\n",
    "        self.event_name = event_name\n",
    "        self.event_date = event_date\n",
    "        self.venue = venue\n",
    "        self.seat_number = seat_number\n",
    "        self.price = price\n",
    "        self.is_reserved = False\n",
    "\n",
    "    def reserve_ticket(self):\n",
    "        if not self.is_reserved:\n",
    "            self.is_reserved = True\n",
    "            return f\"Ticket {self.ticket_id} is now reserved.\"\n",
    "        else:\n",
    "            return f\"Ticket {self.ticket_id} is already reserved.\"\n",
    "\n",
    "    def cancel_reservation(self):\n",
    "        if self.is_reserved:\n",
    "            self.is_reserved = False\n",
    "            return f\"Reservation for ticket {self.ticket_id} is canceled.\"\n",
    "        else:\n",
    "            return f\"Ticket {self.ticket_id} is not reserved.\"\n",
    "\n",
    "    def display_ticket_info(self):\n",
    "        reserved_status = \"Reserved\" if self.is_reserved else \"Not Reserved\"\n",
    "        return f\"Ticket ID: {self.ticket_id}\\nEvent Name: {self.event_name}\\nEvent Date: {self.event_date}\\nVenue: {self.venue}\\nSeat Number: {self.seat_number}\\nPrice: ${self.price}\\nStatus: {reserved_status}\"\n",
    "\n",
    "# Example usage:\n",
    "ticket1 = Ticket(1, \"Concert\", \"2023-09-15\", \"Music Hall\", \"A101\", 50.00)\n",
    "ticket2 = Ticket(2, \"Sports Game\", \"2023-09-20\", \"Stadium\", \"B205\", 35.00)\n",
    "print(\"----\"*25)\n",
    "print(ticket1.display_ticket_info())\n",
    "print(\"----\"*25)\n",
    "# Reserve and cancel reservations\n",
    "print(ticket1.reserve_ticket())\n",
    "print(ticket2.reserve_ticket())\n",
    "print(ticket1.cancel_reservation())\n",
    "print(\"----\"*25)\n",
    "# Display updated ticket information\n",
    "print(ticket1.display_ticket_info())\n",
    "\n"
   ]
  },
  {
   "cell_type": "markdown",
   "id": "9f4b5b40",
   "metadata": {},
   "source": [
    "__9. You are creating a shopping cart for an e-commerce website. Using OOP to model\n",
    "the \"ShoppingCart\" functionality the class should contain following attributes and\n",
    "methods:<br>\n",
    "a. items: Represents the list of items in the shopping cart.<br>__\n",
    "\n",
    "__The class also includes the following methods:<br>__\n",
    "\n",
    "__a. add_item(self, item): Adds an item to the shopping cart by appending it to the\n",
    "list of items.<br>\n",
    "b. remove_item(self, item): Removes an item from the shopping cart if it exists in\n",
    "the list.<br>\n",
    "c. view_cart(self): Displays the items currently present in the shopping cart.<br>\n",
    "d. clear_cart(self): Clears all items from the shopping cart by reassigning an\n",
    "empty list to the items attribute.__<br>"
   ]
  },
  {
   "cell_type": "code",
   "execution_count": 34,
   "id": "43674437",
   "metadata": {},
   "outputs": [
    {
     "name": "stdout",
     "output_type": "stream",
     "text": [
      "Item 1 bag added to the shopping cart.\n",
      "Item 2 pencil added to the shopping cart.\n",
      "Item 3 biscuits added to the shopping cart.\n",
      "-+-+-+-+-+-+-+-+-+-+-+-+-+-+-+-+-+-+-+-+-+-+-+-+-+\n",
      "Items in the shopping cart:\n",
      "Item 1 bag\n",
      "Item 2 pencil\n",
      "Item 3 biscuits\n",
      "-+-+-+-+-+-+-+-+-+-+-+-+-+-+-+-+-+-+-+-+-+-+-+-+-+\n",
      "Item 2 is not in the shopping cart.\n",
      "Item 4 is not in the shopping cart.\n",
      "-+-+-+-+-+-+-+-+-+-+-+-+-+-+-+-+-+-+-+-+-+-+-+-+-+\n",
      "Shopping cart cleared.\n",
      "The shopping cart is empty.\n"
     ]
    }
   ],
   "source": [
    "class ShoppingCart:\n",
    "    def __init__(self):\n",
    "        self.items = []\n",
    "\n",
    "    def add_item(self, item):\n",
    "        self.items.append(item)\n",
    "        return f\"{item} added to the shopping cart.\"\n",
    "\n",
    "    def remove_item(self, item):\n",
    "        if item in self.items:\n",
    "            self.items.remove(item)\n",
    "            return f\"{item} removed from the shopping cart.\"\n",
    "        else:\n",
    "            return f\"{item} is not in the shopping cart.\"\n",
    "\n",
    "    def view_cart(self):\n",
    "        if not self.items:\n",
    "            return \"The shopping cart is empty.\"\n",
    "        else:\n",
    "            return \"Items in the shopping cart:\\n\" + \"\\n\".join(self.items)\n",
    "\n",
    "    def clear_cart(self):\n",
    "        self.items = []\n",
    "        return \"Shopping cart cleared.\"\n",
    "\n",
    "# Example usage:\n",
    "cart = ShoppingCart()\n",
    "\n",
    "print(cart.add_item(\"Item 1 bag\"))\n",
    "print(cart.add_item(\"Item 2 pencil\"))\n",
    "print(cart.add_item(\"Item 3 biscuits\"))\n",
    "\n",
    "print(\"-+\"*25)\n",
    "\n",
    "print(cart.view_cart())\n",
    "\n",
    "print(\"-+\"*25)\n",
    "\n",
    "print(cart.remove_item(\"Item 2\"))\n",
    "print(cart.remove_item(\"Item 4\"))\n",
    "\n",
    "print(\"-+\"*25)\n",
    "\n",
    "print(cart.clear_cart())\n",
    "print(cart.view_cart())\n"
   ]
  },
  {
   "cell_type": "markdown",
   "id": "700cca3c",
   "metadata": {},
   "source": [
    "__10. Imagine a school management system. You have to design the \"Student\" class using\n",
    "OOP concepts.The “Student” class has the following attributes:<br>\n",
    "a. name: Represents the name of the student.<br>\n",
    "b. age: Represents the age of the student.<br>\n",
    "c. grade: Represents the grade or class of the student.<br>\n",
    "d. student_id: Represents the unique identifier for the student.<br>\n",
    "e. attendance: Represents the attendance record of the student.<br>\n",
    "The class should also include the following methods:<br>\n",
    "a. update_attendance(self, date, status): Updates the attendance record of the\n",
    "student for a given date with the provided status (e.g., present or absent).<br>\n",
    "b. get_attendance(self): Returns the attendance record of the student.<br>\n",
    "c. get_average_attendance(self): Calculates and returns the average\n",
    "attendance percentage of the student based on their attendance record.__<br>"
   ]
  },
  {
   "cell_type": "code",
   "execution_count": 45,
   "id": "44d8be6d",
   "metadata": {},
   "outputs": [
    {
     "name": "stdout",
     "output_type": "stream",
     "text": [
      "**************************************************\n",
      "**************************************************\n",
      "Attendance updated for Alice on 2023-09-01: present\n",
      "Attendance updated for Alice on 2023-09-02: absent\n",
      "Attendance updated for Alice on 2023-09-03: present\n",
      "Attendance updated for Alice on 2023-07-01: absent\n",
      "**************************************************\n",
      "**************************************************\n",
      "{'2023-09-01': 'present', '2023-09-02': 'absent', '2023-09-03': 'present', '2023-07-01': 'absent'}\n",
      "**************************************************\n",
      "**************************************************\n",
      "Average Attendance for Alice: 50.00%\n"
     ]
    }
   ],
   "source": [
    "class Student:\n",
    "    def __init__(self, name, age, grade, student_id):\n",
    "        self.name = name\n",
    "        self.age = age\n",
    "        self.grade = grade\n",
    "        self.student_id = student_id\n",
    "        self.attendance = {}  # Using a dictionary to store attendance records\n",
    "\n",
    "    def update_attendance(self, date, status):\n",
    "        self.attendance[date] = status\n",
    "        return f\"Attendance updated for {self.name} on {date}: {status}\"\n",
    "\n",
    "    def get_attendance(self):\n",
    "        return self.attendance\n",
    "    \n",
    "\n",
    "\n",
    "\n",
    "    def get_average_attendance(self):\n",
    "        total_days = len(self.attendance)\n",
    "        if total_days == 0:\n",
    "            return \"No attendance records available.\"\n",
    "        \n",
    "#         present_days = 0\n",
    "#     for status in self.attendance.values():\n",
    "#         if status == \"present\":\n",
    "#             present_days += 1\n",
    "\n",
    "        present_days = sum(1 for status in self.attendance.values() if status == \"present\")\n",
    "        average_percentage = (present_days / total_days) * 100\n",
    "        return f\"Average Attendance for {self.name}: {average_percentage:.2f}%\"\n",
    "print(\"**\"*25)\n",
    "# Example usage:\n",
    "student1 = Student(\"Alice\", 15, \"10th Grade\", \"S12345\")\n",
    "student2 = Student(\"Bob\", 16, \"11th Grade\", \"S67890\")\n",
    "\n",
    "print(\"**\"*25)\n",
    "\n",
    "# Update attendance records\n",
    "print(student1.update_attendance(\"2023-09-01\", \"present\"))\n",
    "print(student1.update_attendance(\"2023-09-02\", \"absent\"))\n",
    "print(student1.update_attendance(\"2023-09-03\", \"present\"))\n",
    "print(student1.update_attendance(\"2023-07-01\", \"absent\"))\n",
    "\n",
    "\n",
    "print(\"**\"*25)\n",
    "print(\"**\"*25)\n",
    "\n",
    "# Get attendance records\n",
    "print(student1.get_attendance())\n",
    "\n",
    "print(\"**\"*25)\n",
    "print(\"**\"*25)\n",
    "\n",
    "# Calculate and display average attendance\n",
    "print(student1.get_average_attendance())\n"
   ]
  },
  {
   "cell_type": "code",
   "execution_count": null,
   "id": "aacecad9",
   "metadata": {},
   "outputs": [],
   "source": []
  }
 ],
 "metadata": {
  "kernelspec": {
   "display_name": "Python 3 (ipykernel)",
   "language": "python",
   "name": "python3"
  },
  "language_info": {
   "codemirror_mode": {
    "name": "ipython",
    "version": 3
   },
   "file_extension": ".py",
   "mimetype": "text/x-python",
   "name": "python",
   "nbconvert_exporter": "python",
   "pygments_lexer": "ipython3",
   "version": "3.9.7"
  }
 },
 "nbformat": 4,
 "nbformat_minor": 5
}
