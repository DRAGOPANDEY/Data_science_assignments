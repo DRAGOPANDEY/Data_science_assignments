{
 "cells": [
  {
   "cell_type": "markdown",
   "id": "4ffda465",
   "metadata": {},
   "source": [
    "__1. Explain what inheritance is in object-oriented programming and why it is used.__"
   ]
  },
  {
   "cell_type": "markdown",
   "id": "77345bc6",
   "metadata": {},
   "source": [
    "ans:-\n",
    "Inheritance is a mechanism in object-oriented programming (OOP) that allows a class to inherit properties and behaviors from another class. The class that inherits from another class is called the derived class or child class, and the class that is inherited from is called the base class or parent class.\n",
    "\n",
    "Inheritance is used in OOP to promote code reuse and to establish relationships between classes. By inheriting from a base class, the derived class can reuse all of the base class's properties and methods, without having to rewrite them. This can save a lot of time and effort, and it also makes the code more maintainable.\n",
    "\n",
    "Inheritance can also be used to establish relationships between classes. For example, a class for Car could inherit from a class for Vehicle. This would establish that a Car is a type of Vehicle.\n",
    "\n",
    "In this example, the Dog class inherits from the Animal class. This means that Dog objects have all of the properties and methods of Animal objects, plus the additional property and method defined in the Dog class.\n",
    "\n",
    "Inheritance is a powerful tool that can be used to improve the design and readability of object-oriented code. It is one of the most important concepts in OOP.\n",
    "\n",
    "Here are some of the benefits of using inheritance:\n",
    "\n",
    "Code reuse: Inheritance allows you to reuse code from existing classes, which can save you time and effort.\n",
    "Reduced complexity: Inheritance can help to reduce the complexity of your code by making it easier to organize and understand.\n",
    "Improved readability: Inheritance can make your code more readable by making it easier to see the relationships between different classes.\n",
    "Flexibility: Inheritance can give you more flexibility in how you design your code.\n",
    "If you are new to object-oriented programming, inheritance can be a bit tricky to understand at first. However, it is a very important concept, and it is worth taking the time to learn about it."
   ]
  },
  {
   "cell_type": "code",
   "execution_count": 3,
   "id": "92734e9e",
   "metadata": {},
   "outputs": [
    {
     "name": "stdout",
     "output_type": "stream",
     "text": [
      "Spot is eating.\n",
      "Spot is barking.\n"
     ]
    }
   ],
   "source": [
    "# Here is an example of inheritance in Python:\n",
    "\n",
    "# Python\n",
    "class Animal:\n",
    "    def __init__(self, name, age):\n",
    "        self.name = name\n",
    "        self.age = age\n",
    "\n",
    "    def eat(self):\n",
    "        print(f\"{self.name} is eating.\")\n",
    "\n",
    "class Dog(Animal):\n",
    "    def bark(self):\n",
    "        print(f\"{self.name} is barking.\")\n",
    "\n",
    "d = Dog(\"Spot\", 10)\n",
    "d.eat()\n",
    "# Output: Spot is eating.\n",
    "\n",
    "d.bark()\n",
    "# Output: Spot is barking."
   ]
  },
  {
   "cell_type": "markdown",
   "id": "22f8dcab",
   "metadata": {},
   "source": [
    "__2. Discuss the concept of single inheritance and multiple inheritance, highlighting their\n",
    "differences and advantages.__"
   ]
  },
  {
   "cell_type": "markdown",
   "id": "d4d164b7",
   "metadata": {},
   "source": [
    "Ans :-Single inheritance and multiple inheritance are two different types of inheritance in object-oriented programming (OOP).\n",
    "\n",
    "__Single inheritance__ is a type of inheritance in which a class can only inherit from one superclass. This means that the derived class can only inherit the properties and methods of the superclass.\n",
    "\n",
    "__Multiple inheritance__ is a type of inheritance in which a class can inherit from more than one superclass. This means that the derived class can inherit the properties and methods of all of its superclasses."
   ]
  },
  {
   "cell_type": "code",
   "execution_count": 6,
   "id": "460a5517",
   "metadata": {},
   "outputs": [],
   "source": [
    "# Single inheritence example\n",
    "\n",
    "class Animal:\n",
    "    def speak(self):\n",
    "        pass\n",
    "\n",
    "class Dog(Animal):\n",
    "    def speak(self):\n",
    "        return \"Woof!\"\n"
   ]
  },
  {
   "cell_type": "code",
   "execution_count": 7,
   "id": "7995ebdb",
   "metadata": {},
   "outputs": [],
   "source": [
    "# multiple inheritence example\n",
    "class A:\n",
    "    def method_A(self):\n",
    "        pass\n",
    "\n",
    "class B:\n",
    "    def method_B(self):\n",
    "        pass\n",
    "\n",
    "class C(A, B):\n",
    "    def method_C(self):\n",
    "        pass\n"
   ]
  },
  {
   "cell_type": "markdown",
   "id": "ed889f6d",
   "metadata": {},
   "source": [
    "Use single inheritance when your classes can be clearly organized in a linear hierarchy and you want to keep your codebase simpler and more predictable.\n",
    "\n",
    "Use multiple inheritance when your problem domain naturally involves multiple roles or characteristics for objects, and you need to reuse code from different sources. However, be cautious of the potential complexities and conflicts that can arise, and carefully design your class hierarchy to mitigate these issues."
   ]
  },
  {
   "cell_type": "markdown",
   "id": "808f9085",
   "metadata": {},
   "source": [
    "__3. Explain the terms \"base class\" and \"derived class\" in the context of inheritance.__"
   ]
  },
  {
   "cell_type": "markdown",
   "id": "00eaaeee",
   "metadata": {},
   "source": [
    "Ans:- \n",
    "In the context of inheritance in object-oriented programming (OOP), the terms \"base class\" and \"derived class\" are used to describe the relationship between two classes involved in inheritance:<br>\n",
    "\n",
    "__Base Class (Parent Class or Superclass):__<br>\n",
    "\n",
    "A base class is the class from which other classes inherit properties and behaviors.<br>\n",
    "It is also referred to as the \"parent class\" or \"superclass.\"<br>\n",
    "The base class defines a common set of attributes and methods that can be shared by one or more derived classes.<br>\n",
    "It serves as a blueprint or template for creating new classes.<br>\n",
    "Instances of the base class can be created, but it is often designed to be a more general or abstract representation of an object.<br>\n",
    "__Derived Class (Child Class or Subclass):__<br>\n",
    "\n",
    "A derived class is a class that inherits properties and behaviors from a base class.<br>\n",
    "It is also referred to as the \"child class\" or \"subclass.\"<br>\n",
    "The derived class extends or specializes the base class by adding additional attributes or methods or by modifying the behavior of inherited methods.<br>\n",
    "It can have its own unique attributes and methods in addition to those inherited from the base class.<br>\n",
    "Instances of the derived class inherit all the attributes and methods of the base class and may have additional features specific to the derived class.<br>"
   ]
  },
  {
   "cell_type": "code",
   "execution_count": 10,
   "id": "7882bda1",
   "metadata": {},
   "outputs": [
    {
     "name": "stdout",
     "output_type": "stream",
     "text": [
      "Buddy says Woof!\n",
      "Whiskers says Meow!\n"
     ]
    }
   ],
   "source": [
    "class Animal:\n",
    "    def __init__(self, name):\n",
    "        self.name = name\n",
    "\n",
    "    def speak(self):\n",
    "        pass\n",
    "\n",
    "class Dog(Animal):  # Dog is a derived class of Animal.\n",
    "    def speak(self):\n",
    "        return f\"{self.name} says Woof!\"\n",
    "\n",
    "class Cat(Animal):  # Cat is a derived class of Animal.\n",
    "    def speak(self):\n",
    "        return f\"{self.name} says Meow!\"\n",
    "\n",
    "dog = Dog(\"Buddy\")\n",
    "cat = Cat(\"Whiskers\")\n",
    "\n",
    "print(dog.speak())  \n",
    "print(cat.speak())  \n"
   ]
  },
  {
   "cell_type": "markdown",
   "id": "f54486fc",
   "metadata": {},
   "source": [
    "__4. What is the significance of the \"protected\" access modifier in inheritance? How does\n",
    "it differ from \"private\" and \"public\" modifiers?__"
   ]
  },
  {
   "cell_type": "markdown",
   "id": "c56bbb00",
   "metadata": {},
   "source": [
    "Ans:-\n",
    "In object-oriented programming, access modifiers (also called access specifiers) control the visibility and accessibility of class members (fields and methods) from outside the class. The three common access modifiers are \"public,\" \"private,\" and \"protected.\" Each modifier has its significance and use cases, especially in the context of inheritance. Let's focus on the \"protected\" access modifier and how it differs from \"private\" and \"public\" modifiers:<br>\n",
    "\n",
    "__1.Public Access Modifier:__\n",
    "\n",
    "Members declared as public are accessible from anywhere in the code, both within and outside the class.<br>\n",
    "There are no restrictions on accessing public members. They can be accessed by instances of the class, as well as by objects of other classes.<br>\n",
    "Public members are often used when you want to provide unrestricted access to certain parts of your class's interface.<br>"
   ]
  },
  {
   "cell_type": "markdown",
   "id": "9f3c9ab9",
   "metadata": {},
   "source": [
    "__2.Private Access Modifier:__\n",
    "\n",
    "Members declared as private are only accessible within the same class where they are defined.<br>\n",
    "Private members are not visible or accessible from outside the class, including derived (child) classes.<br>\n",
    "Private members are used to encapsulate the internal implementation details of a class and to restrict direct access to them.<br>"
   ]
  },
  {
   "cell_type": "markdown",
   "id": "4ca9f83c",
   "metadata": {},
   "source": [
    "__3.Protected Access Modifier:__\n",
    "\n",
    "Members declared as protected are accessible within the same class, within derived classes, and within the same package (in some programming languages).\n",
    "Protected members are not accessible outside the class hierarchy or outside the package in some languages. This makes them useful for allowing derived classes to access and potentially override certain behavior, while still maintaining some level of encapsulation."
   ]
  },
  {
   "cell_type": "markdown",
   "id": "a8df5439",
   "metadata": {},
   "source": [
    "__5. What is the purpose of the \"super\" keyword in inheritance? Provide an example.__"
   ]
  },
  {
   "cell_type": "markdown",
   "id": "9c8b65d9",
   "metadata": {},
   "source": [
    "Ans:- In object-oriented programming, the super keyword is used to refer to the superclass or parent class of a derived or subclass. It allows you to access and call methods or constructors from the superclass within the subclass. This is particularly useful when you want to extend the behavior of a superclass while still utilizing its functionality."
   ]
  },
  {
   "cell_type": "code",
   "execution_count": 13,
   "id": "7462721d",
   "metadata": {},
   "outputs": [
    {
     "name": "stdout",
     "output_type": "stream",
     "text": [
      "Buddy barks\n",
      "Whiskers meows\n"
     ]
    }
   ],
   "source": [
    "class Animal:\n",
    "    def __init__(self, name):\n",
    "        self.name = name\n",
    "\n",
    "    def speak(self):\n",
    "        print(f\"{self.name} makes a sound\")\n",
    "\n",
    "class Dog(Animal):\n",
    "    def __init__(self, name, breed):\n",
    "        super().__init__(name)\n",
    "        self.breed = breed\n",
    "\n",
    "    def speak(self):\n",
    "        print(f\"{self.name} barks\")\n",
    "\n",
    "class Cat(Animal):\n",
    "    def __init__(self, name, color):\n",
    "        super().__init__(name)\n",
    "        self.color = color\n",
    "\n",
    "    def speak(self):\n",
    "        print(f\"{self.name} meows\")\n",
    "\n",
    "# Creating instances of subclasses\n",
    "dog = Dog(\"Buddy\", \"Golden Retriever\")\n",
    "cat = Cat(\"Whiskers\", \"Gray\")\n",
    "\n",
    "# Calling methods using super\n",
    "dog.speak() \n",
    "cat.speak()  \n"
   ]
  },
  {
   "cell_type": "markdown",
   "id": "b87fb3cb",
   "metadata": {},
   "source": [
    "__6. Create a base class called \"Vehicle\" with attributes like \"make\", \"model\", and \"year\".\n",
    "Then, create a derived class called \"Car\" that inherits from \"Vehicle\" and adds an\n",
    "attribute called \"fuel_type\". Implement appropriate methods in both classes.__"
   ]
  },
  {
   "cell_type": "code",
   "execution_count": 14,
   "id": "23bc0e68",
   "metadata": {},
   "outputs": [
    {
     "name": "stdout",
     "output_type": "stream",
     "text": [
      "Vehicle Information:\n",
      "Make: Toyota\n",
      "Model: Camry\n",
      "Year: 2022\n",
      "\n",
      "Car Information:\n",
      "Make: Honda\n",
      "Model: Civic\n",
      "Year: 2021\n",
      "Fuel Type: Gasoline\n"
     ]
    }
   ],
   "source": [
    "class Vehicle:\n",
    "    def __init__(self, make, model, year):\n",
    "        self.make = make\n",
    "        self.model = model\n",
    "        self.year = year\n",
    "\n",
    "    def display_info(self):\n",
    "        print(f\"Make: {self.make}\")\n",
    "        print(f\"Model: {self.model}\")\n",
    "        print(f\"Year: {self.year}\")\n",
    "\n",
    "class Car(Vehicle):\n",
    "    def __init__(self, make, model, year, fuel_type):\n",
    "        super().__init__(make, model, year)\n",
    "        self.fuel_type = fuel_type\n",
    "\n",
    "    def display_info(self):\n",
    "        super().display_info()\n",
    "        print(f\"Fuel Type: {self.fuel_type}\")\n",
    "\n",
    "# Creating instances of the classes\n",
    "vehicle = Vehicle(\"Toyota\", \"Camry\", 2022)\n",
    "car = Car(\"Honda\", \"Civic\", 2021, \"Gasoline\")\n",
    "\n",
    "# Calling methods to display information\n",
    "print(\"Vehicle Information:\")\n",
    "vehicle.display_info()\n",
    "\n",
    "print(\"\\nCar Information:\")\n",
    "car.display_info()\n"
   ]
  },
  {
   "cell_type": "markdown",
   "id": "0e198445",
   "metadata": {},
   "source": [
    "__7. Create a base class called \"Employee\" with attributes like \"name\" and \"salary.\"\n",
    "Derive two classes, \"Manager\" and \"Developer,\" from \"Employee.\" Add an additional\n",
    "attribute called \"department\" for the \"Manager\" class and \"programming_language\"\n",
    "for the \"Developer\" class.__"
   ]
  },
  {
   "cell_type": "code",
   "execution_count": 16,
   "id": "1dfecd5d",
   "metadata": {},
   "outputs": [
    {
     "name": "stdout",
     "output_type": "stream",
     "text": [
      "Manager Information:\n",
      "Name: Alice\n",
      "Salary: $80000.00\n",
      "Department: HR\n",
      "\n",
      "Developer Information:\n",
      "Name: Bob\n",
      "Salary: $75000.00\n",
      "Programming Language: Python\n"
     ]
    }
   ],
   "source": [
    "class Employee:\n",
    "    def __init__(self, name, salary):\n",
    "        self.name = name\n",
    "        self.salary = salary\n",
    "\n",
    "    def display_info(self):\n",
    "        print(f\"Name: {self.name}\")\n",
    "        print(f\"Salary: ${self.salary:.2f}\")\n",
    "\n",
    "class Manager(Employee):\n",
    "    def __init__(self, name, salary, department):\n",
    "        super().__init__(name, salary)\n",
    "        self.department = department\n",
    "\n",
    "    def display_info(self):\n",
    "        super().display_info()\n",
    "        print(f\"Department: {self.department}\")\n",
    "\n",
    "class Developer(Employee):\n",
    "    def __init__(self, name, salary, programming_language):\n",
    "        super().__init__(name, salary)\n",
    "        self.programming_language = programming_language\n",
    "\n",
    "    def display_info(self):\n",
    "        super().display_info()\n",
    "        print(f\"Programming Language: {self.programming_language}\")\n",
    "\n",
    "# Creating instances of the classes\n",
    "manager = Manager(\"Alice\", 80000, \"HR\")\n",
    "developer = Developer(\"Bob\", 75000, \"Python\")\n",
    "\n",
    "# Calling methods to display information\n",
    "print(\"Manager Information:\")\n",
    "manager.display_info()\n",
    "\n",
    "print(\"\\nDeveloper Information:\")\n",
    "developer.display_info()\n"
   ]
  },
  {
   "cell_type": "markdown",
   "id": "adbdf0d4",
   "metadata": {},
   "source": [
    "__8. Design a base class called \"Shape\" with attributes like \"colour\" and \"border_width.\"\n",
    "Create derived classes, \"Rectangle\" and \"Circle,\" that inherit from \"Shape\" and add\n",
    "specific attributes like \"length\" and \"width\" for the \"Rectangle\" class and \"radius\" for\n",
    "the \"Circle\" class.__"
   ]
  },
  {
   "cell_type": "code",
   "execution_count": 18,
   "id": "e1d5892c",
   "metadata": {},
   "outputs": [
    {
     "name": "stdout",
     "output_type": "stream",
     "text": [
      "Rectangle Information:\n",
      "Color: Blue\n",
      "Border Width: 2 units\n",
      "Shape: Rectangle\n",
      "Length: 5 units\n",
      "Width: 8 units\n",
      "Area: 40 square units\n",
      "\n",
      "Circle Information:\n",
      "Color: Red\n",
      "Border Width: 3 units\n",
      "Shape: Circle\n",
      "Radius: 4 units\n",
      "Area: 50.26548245743669 square units\n"
     ]
    }
   ],
   "source": [
    "class Shape:\n",
    "    def __init__(self, color, border_width):\n",
    "        self.color = color\n",
    "        self.border_width = border_width\n",
    "\n",
    "    def display_info(self):\n",
    "        print(f\"Color: {self.color}\")\n",
    "        print(f\"Border Width: {self.border_width} units\")\n",
    "\n",
    "class Rectangle(Shape):\n",
    "    def __init__(self, color, border_width, length, width):\n",
    "        super().__init__(color, border_width)\n",
    "        self.length = length\n",
    "        self.width = width\n",
    "\n",
    "    def display_info(self):\n",
    "        super().display_info()\n",
    "        print(f\"Shape: Rectangle\")\n",
    "        print(f\"Length: {self.length} units\")\n",
    "        print(f\"Width: {self.width} units\")\n",
    "        print(f\"Area: {self.calculate_area()} square units\")\n",
    "\n",
    "    def calculate_area(self):\n",
    "        return self.length * self.width\n",
    "\n",
    "class Circle(Shape):\n",
    "    def __init__(self, color, border_width, radius):\n",
    "        super().__init__(color, border_width)\n",
    "        self.radius = radius\n",
    "\n",
    "    def display_info(self):\n",
    "        super().display_info()\n",
    "        print(f\"Shape: Circle\")\n",
    "        print(f\"Radius: {self.radius} units\")\n",
    "        print(f\"Area: {self.calculate_area()} square units\")\n",
    "\n",
    "    def calculate_area(self):\n",
    "        import math\n",
    "        return math.pi * (self.radius ** 2)\n",
    "\n",
    "# Creating instances of the classes\n",
    "rectangle = Rectangle(\"Blue\", 2, 5, 8)\n",
    "circle = Circle(\"Red\", 3, 4)\n",
    "\n",
    "# Calling methods to display information\n",
    "print(\"Rectangle Information:\")\n",
    "rectangle.display_info()\n",
    "\n",
    "print(\"\\nCircle Information:\")\n",
    "circle.display_info()\n"
   ]
  },
  {
   "cell_type": "markdown",
   "id": "9dd41415",
   "metadata": {},
   "source": [
    "__9. Create a base class called \"Device\" with attributes like \"brand\" and \"model.\" Derive\n",
    "two classes, \"Phone\" and \"Tablet,\" from \"Device.\" Add specific attributes like\n",
    "\"screen_size\" for the \"Phone\" class and \"battery_capacity\" for the \"Tablet\" class.__"
   ]
  },
  {
   "cell_type": "code",
   "execution_count": 19,
   "id": "13dd353f",
   "metadata": {},
   "outputs": [
    {
     "name": "stdout",
     "output_type": "stream",
     "text": [
      "Phone Information:\n",
      "Brand: Samsung\n",
      "Model: Galaxy S21\n",
      "Type: Phone\n",
      "Screen Size: 6.2 inches\n",
      "\n",
      "Tablet Information:\n",
      "Brand: Apple\n",
      "Model: iPad Pro\n",
      "Type: Tablet\n",
      "Battery Capacity: 9720 mAh\n"
     ]
    }
   ],
   "source": [
    "class Device:\n",
    "    def __init__(self, brand, model):\n",
    "        self.brand = brand\n",
    "        self.model = model\n",
    "\n",
    "    def display_info(self):\n",
    "        print(f\"Brand: {self.brand}\")\n",
    "        print(f\"Model: {self.model}\")\n",
    "\n",
    "class Phone(Device):\n",
    "    def __init__(self, brand, model, screen_size):\n",
    "        super().__init__(brand, model)\n",
    "        self.screen_size = screen_size\n",
    "\n",
    "    def display_info(self):\n",
    "        super().display_info()\n",
    "        print(f\"Type: Phone\")\n",
    "        print(f\"Screen Size: {self.screen_size} inches\")\n",
    "\n",
    "class Tablet(Device):\n",
    "    def __init__(self, brand, model, battery_capacity):\n",
    "        super().__init__(brand, model)\n",
    "        self.battery_capacity = battery_capacity\n",
    "\n",
    "    def display_info(self):\n",
    "        super().display_info()\n",
    "        print(f\"Type: Tablet\")\n",
    "        print(f\"Battery Capacity: {self.battery_capacity} mAh\")\n",
    "\n",
    "# Creating instances of the classes\n",
    "phone = Phone(\"Samsung\", \"Galaxy S21\", 6.2)\n",
    "tablet = Tablet(\"Apple\", \"iPad Pro\", 9720)\n",
    "\n",
    "# Calling methods to display information\n",
    "print(\"Phone Information:\")\n",
    "phone.display_info()\n",
    "\n",
    "print(\"\\nTablet Information:\")\n",
    "tablet.display_info()\n"
   ]
  },
  {
   "cell_type": "markdown",
   "id": "369d11eb",
   "metadata": {},
   "source": [
    "__10. Create a base class called \"BankAccount\" with attributes like \"account_number\" and\n",
    "\"balance.\" Derive two classes, \"SavingsAccount\" and \"CheckingAccount,\" from\n",
    "\"BankAccount.\" Add specific methods like \"calculate_interest\" for the\n",
    "\"SavingsAccount\" class and \"deduct_fees\" for the \"CheckingAccount\" class.__"
   ]
  },
  {
   "cell_type": "code",
   "execution_count": 21,
   "id": "6b50c2ab",
   "metadata": {},
   "outputs": [
    {
     "name": "stdout",
     "output_type": "stream",
     "text": [
      "Savings Account Information:\n",
      "Account Number: 12345\n",
      "Balance: $1000.00\n",
      "Account Type: Savings Account\n",
      "Interest Rate: 2.5%\n",
      "Interest Added: $25.00\n",
      "Updated Balance: $1025.00\n",
      "\n",
      "Checking Account Information:\n",
      "Account Number: 67890\n",
      "Balance: $1500.00\n",
      "Account Type: Checking Account\n",
      "Monthly Fee: $10.00\n",
      "Monthly Fee Deducted: $10.00\n"
     ]
    }
   ],
   "source": [
    "class BankAccount:\n",
    "    def __init__(self, account_number, balance):\n",
    "        self.account_number = account_number\n",
    "        self.balance = balance\n",
    "\n",
    "    def display_info(self):\n",
    "        print(f\"Account Number: {self.account_number}\")\n",
    "        print(f\"Balance: ${self.balance:.2f}\")\n",
    "\n",
    "class SavingsAccount(BankAccount):\n",
    "    def __init__(self, account_number, balance, interest_rate):\n",
    "        super().__init__(account_number, balance)\n",
    "        self.interest_rate = interest_rate\n",
    "\n",
    "    def display_info(self):\n",
    "        super().display_info()\n",
    "        print(f\"Account Type: Savings Account\")\n",
    "        print(f\"Interest Rate: {self.interest_rate}%\")\n",
    "\n",
    "    def calculate_interest(self):\n",
    "        interest = (self.interest_rate / 100) * self.balance\n",
    "        self.balance += interest\n",
    "        print(f\"Interest Added: ${interest:.2f}\")\n",
    "        print(f\"Updated Balance: ${self.balance:.2f}\")\n",
    "\n",
    "class CheckingAccount(BankAccount):\n",
    "    def __init__(self, account_number, balance, monthly_fee):\n",
    "        super().__init__(account_number, balance)\n",
    "        self.monthly_fee = monthly_fee\n",
    "\n",
    "    def display_info(self):\n",
    "        super().display_info()\n",
    "        print(f\"Account Type: Checking Account\")\n",
    "        print(f\"Monthly Fee: ${self.monthly_fee:.2f}\")\n",
    "\n",
    "    def deduct_fees(self):\n",
    "        if self.balance >= self.monthly_fee:\n",
    "            self.balance -= self.monthly_fee\n",
    "            print(f\"Monthly Fee Deducted: ${self.monthly_fee:.2f}\")\n",
    "        else:\n",
    "            print(\"Insufficient balance to deduct the monthly fee.\")\n",
    "\n",
    "# Creating instances of the classes\n",
    "savings_account = SavingsAccount(\"12345\", 1000, 2.5)\n",
    "checking_account = CheckingAccount(\"67890\", 1500, 10)\n",
    "\n",
    "# Calling methods to display information and perform actions\n",
    "print(\"Savings Account Information:\")\n",
    "savings_account.display_info()\n",
    "savings_account.calculate_interest()\n",
    "\n",
    "print(\"\\nChecking Account Information:\")\n",
    "checking_account.display_info()\n",
    "checking_account.deduct_fees()\n"
   ]
  },
  {
   "cell_type": "code",
   "execution_count": null,
   "id": "d0b1752d",
   "metadata": {},
   "outputs": [],
   "source": []
  }
 ],
 "metadata": {
  "kernelspec": {
   "display_name": "Python 3 (ipykernel)",
   "language": "python",
   "name": "python3"
  },
  "language_info": {
   "codemirror_mode": {
    "name": "ipython",
    "version": 3
   },
   "file_extension": ".py",
   "mimetype": "text/x-python",
   "name": "python",
   "nbconvert_exporter": "python",
   "pygments_lexer": "ipython3",
   "version": "3.9.7"
  }
 },
 "nbformat": 4,
 "nbformat_minor": 5
}
