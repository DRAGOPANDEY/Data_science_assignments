{
 "cells": [
  {
   "cell_type": "markdown",
   "id": "f3a4f674",
   "metadata": {},
   "source": [
    "# Assingment 8\n"
   ]
  },
  {
   "cell_type": "markdown",
   "id": "82a42fb1",
   "metadata": {},
   "source": [
    "__Question 1__. In Python, what is the difference between a built-in function and a user-defined function? Provide an\n",
    "example of each."
   ]
  },
  {
   "cell_type": "markdown",
   "id": "f080273e",
   "metadata": {},
   "source": [
    "__Ans 1:__ __Built-in function:__<p>\n",
    "Built-in functions are pre-defined functions that are available in Python without the need for any additional imports or code definitions.Ex like len(),sum(),max() etc"
   ]
  },
  {
   "cell_type": "code",
   "execution_count": 2,
   "id": "157e4921",
   "metadata": {},
   "outputs": [
    {
     "name": "stdout",
     "output_type": "stream",
     "text": [
      "Hello, World!\n",
      "11\n"
     ]
    }
   ],
   "source": [
    "# Using the built-in function print()\n",
    "print(\"Hello, World!\")\n",
    "print(len(\"hello world\"))\n"
   ]
  },
  {
   "cell_type": "markdown",
   "id": "eb40c6f6",
   "metadata": {},
   "source": [
    "__User-defined function:__<p>\n",
    "User-defined functions are functions that are created and defined by the users themselves to perform specific tasks. These functions are written by the user and can be reused throughout the program"
   ]
  },
  {
   "cell_type": "code",
   "execution_count": 3,
   "id": "26e6e97e",
   "metadata": {},
   "outputs": [
    {
     "name": "stdout",
     "output_type": "stream",
     "text": [
      "25\n"
     ]
    }
   ],
   "source": [
    "# Defining a user-defined function called square\n",
    "def square(x):\n",
    "    return x * x\n",
    "\n",
    "# Using the user-defined function square()\n",
    "result = square(5)\n",
    "print(result)  # Output: 25\n"
   ]
  },
  {
   "cell_type": "markdown",
   "id": "b93fcf7e",
   "metadata": {},
   "source": [
    "__Question 2__. How can you pass arguments to a function in Python? Explain the difference between positional\n",
    "arguments and keyword arguments.\n"
   ]
  },
  {
   "cell_type": "markdown",
   "id": "d8c0a808",
   "metadata": {},
   "source": [
    "__Ans__ In Python, you can pass arguments to a function by specifying them within the parentheses when calling the function. There are two types of arguments you can use: positional arguments and keyword arguments.\n",
    "\n",
    "__Positional arguments:<h>__\n",
    "Positional arguments are passed to a function based on their position or order. The values passed as arguments are assigned to the function parameters in the same order they appear. The number of positional arguments passed must match the number of parameters defined in the function."
   ]
  },
  {
   "cell_type": "code",
   "execution_count": 5,
   "id": "add19c4c",
   "metadata": {},
   "outputs": [
    {
     "name": "stdout",
     "output_type": "stream",
     "text": [
      "Hello, Alice! You are 25 years old.\n"
     ]
    }
   ],
   "source": [
    "def greet(name, age):\n",
    "    print(\"Hello, {}! You are {} years old.\".format(name, age))\n",
    "\n",
    "# Passing positional arguments\n",
    "greet(\"Alice\", 25)\n"
   ]
  },
  {
   "cell_type": "markdown",
   "id": "ef63d0f3",
   "metadata": {},
   "source": [
    "__Keyword arguments:__<br>\n",
    "Keyword arguments are passed to a function using the name of the parameter along with the corresponding value. The order of the arguments doesn't matter as long as you specify the parameter names. This way, you can selectively provide values for specific parameters, even if they are not in the same order as defined in the function."
   ]
  },
  {
   "cell_type": "code",
   "execution_count": 7,
   "id": "54e8757b",
   "metadata": {},
   "outputs": [
    {
     "name": "stdout",
     "output_type": "stream",
     "text": [
      "Hello, Alice! You are 25 years old.\n"
     ]
    }
   ],
   "source": [
    "def greet(name, age):\n",
    "    print(f\"Hello, {name}! You are {age} years old.\")\n",
    "\n",
    "# Passing keyword arguments\n",
    "greet(age=25, name=\"Alice\")\n",
    "\n",
    "# Keyword arguments provide more flexibility when calling functions, especially when dealing with functions that have a large\n",
    "# number of parametersor when you want to specify values only for certain parameters and rely on default values for the rest."
   ]
  },
  {
   "cell_type": "markdown",
   "id": "91535634",
   "metadata": {},
   "source": [
    "__Question 3__ What is the purpose of the return statement in a function? Can a function have multiple return\n",
    "statements? Explain with an example."
   ]
  },
  {
   "cell_type": "markdown",
   "id": "61c9bd02",
   "metadata": {},
   "source": [
    "__Ans 3__The purpose of the return statement in a function is to specify the value that the function should output or \"return\" to the caller. When a return statement is encountered in a function, it immediately exits the function and sends the specified value back to the caller.\n",
    "\n",
    "A function can indeed have multiple return statements. Once a return statement is executed, the function terminates, and the value is returned. Multiple return statements can be used to handle different conditions or paths in the function and provide different return values based on specific conditions."
   ]
  },
  {
   "cell_type": "code",
   "execution_count": 10,
   "id": "09b91576",
   "metadata": {},
   "outputs": [
    {
     "name": "stdout",
     "output_type": "stream",
     "text": [
      "B\n",
      "C\n",
      "C\n"
     ]
    }
   ],
   "source": [
    "def get_grade(score):\n",
    "    if score >= 90:\n",
    "        return \"A\"\n",
    "    elif score >= 80:\n",
    "        return \"B\"\n",
    "    elif score >= 70:\n",
    "        return \"C\"\n",
    "    else:\n",
    "        return \"F\"\n",
    "\n",
    "student1_grade = get_grade(85)\n",
    "student2_grade = get_grade(72)\n",
    "student3_grade = get_grade(50)\n",
    "\n",
    "print(student1_grade)  # Output: B\n",
    "print(student2_grade)  # Output: C\n",
    "print(student2_grade)\n"
   ]
  },
  {
   "cell_type": "markdown",
   "id": "b2dc872f",
   "metadata": {},
   "source": [
    "__Question 4__ What are lambda functions in Python? How are they different from regular functions? Provide an\n",
    "example where a lambda function can be useful."
   ]
  },
  {
   "cell_type": "markdown",
   "id": "f56634cd",
   "metadata": {},
   "source": [
    "__Ans__ Lambda functions, also known as anonymous functions, are a way to define small, one-line functions in Python. They are called \"anonymous\" because they don't require a formal name like regular functions defined with the def keyword. Lambda functions are typically used for simple, one-time operations and are defined using the lambda keyword.\n"
   ]
  },
  {
   "cell_type": "markdown",
   "id": "3ef7fc04",
   "metadata": {},
   "source": [
    "Lambda functions differ from regular functions in a few key ways:\n",
    "\n",
    "Syntax: Lambda functions are defined using the lambda keyword instead of def. They don't have a formal name.<br>\n",
    "Function body: Lambda functions are limited to a single expression. They don't support multiple statements or a block of code.<br>\n",
    "Return value: The result of the expression is automatically returned by the lambda function.<br>\n",
    "Lambda functions are useful when you need to define a small, simple function without the need for a named function or a full function definition. They are often used in conjunction with built-in functions like map(), filter(), and reduce()."
   ]
  },
  {
   "cell_type": "code",
   "execution_count": 15,
   "id": "3e809085",
   "metadata": {},
   "outputs": [
    {
     "name": "stdout",
     "output_type": "stream",
     "text": [
      "[1, 4, 9, 16, 25]\n"
     ]
    }
   ],
   "source": [
    "# Using a lambda function with the map() function\n",
    "numbers = [1, 2, 3, 4, 5]\n",
    "squared_numbers = list(map(lambda x: x**2, numbers))\n",
    "\n",
    "print(squared_numbers)  # Output: [1, 4, 9, 16, 25]\n",
    "\n",
    "# In this example, the lambda function lambda x: x**2 is used with the map() function to square each element in the numbers list.\n",
    "# The lambda function takes an argument x and returns the square of x. The map() function applies the lambda function\n",
    "# to each element in the numbers list and returns a new list with the squared numbers.\n"
   ]
  },
  {
   "cell_type": "markdown",
   "id": "1949b8fd",
   "metadata": {},
   "source": [
    "__Question 5__ How does the concept of \"scope\" apply to functions in Python? Explain the difference between local\n",
    "scope and global scope."
   ]
  },
  {
   "cell_type": "markdown",
   "id": "b11a4fb8",
   "metadata": {},
   "source": [
    "__Ans 5.__In Python, \"scope\" refers to the region or context in which a variable or name can be accessed. The concept of scope applies to functions in Python, determining the visibility and accessibility of variables and names within a function.<p>\n",
    "    \n",
    "__1.Local Scope:__<br>\n",
    "Local scope, also known as function scope, is the scope within a function. Variables defined within a function are considered local to that function and can only be accessed from within the function. They are not visible or accessible outside of the function.\n",
    "    "
   ]
  },
  {
   "cell_type": "code",
   "execution_count": 17,
   "id": "b006213f",
   "metadata": {},
   "outputs": [
    {
     "name": "stdout",
     "output_type": "stream",
     "text": [
      "10\n"
     ]
    },
    {
     "ename": "NameError",
     "evalue": "name 'x' is not defined",
     "output_type": "error",
     "traceback": [
      "\u001b[1;31m---------------------------------------------------------------------------\u001b[0m",
      "\u001b[1;31mNameError\u001b[0m                                 Traceback (most recent call last)",
      "\u001b[1;32m~\\AppData\\Local\\Temp/ipykernel_17844/2431289148.py\u001b[0m in \u001b[0;36m<module>\u001b[1;34m\u001b[0m\n\u001b[0;32m      4\u001b[0m \u001b[1;33m\u001b[0m\u001b[0m\n\u001b[0;32m      5\u001b[0m \u001b[0mmy_function\u001b[0m\u001b[1;33m(\u001b[0m\u001b[1;33m)\u001b[0m  \u001b[1;31m# Output: 10\u001b[0m\u001b[1;33m\u001b[0m\u001b[1;33m\u001b[0m\u001b[0m\n\u001b[1;32m----> 6\u001b[1;33m \u001b[0mprint\u001b[0m\u001b[1;33m(\u001b[0m\u001b[0mx\u001b[0m\u001b[1;33m)\u001b[0m  \u001b[1;31m# NameError: name 'x' is not defined (x is not accessible outside the function)\u001b[0m\u001b[1;33m\u001b[0m\u001b[1;33m\u001b[0m\u001b[0m\n\u001b[0m",
      "\u001b[1;31mNameError\u001b[0m: name 'x' is not defined"
     ]
    }
   ],
   "source": [
    "def my_function():\n",
    "    x = 10  # Local variable\n",
    "    print(x)\n",
    "\n",
    "my_function()  # Output: 10\n",
    "print(x)  # NameError: name 'x' is not defined (x is not accessible outside the function)\n"
   ]
  },
  {
   "cell_type": "markdown",
   "id": "6f59e72a",
   "metadata": {},
   "source": [
    "In the example above, the variable x is defined within the my_function() function. It has local scope, which means it is accessible only within the function. Trying to access x outside the function results in a NameError"
   ]
  },
  {
   "cell_type": "markdown",
   "id": "4f9489fe",
   "metadata": {},
   "source": [
    "__2. Global Scope:__\n",
    "Global scope refers to the scope outside of any function or at the top level of a module. Variables defined at the global scope are accessible throughout the entire module, including within functions defined in that module. Global variables can be accessed and modified from any part of the module."
   ]
  },
  {
   "cell_type": "code",
   "execution_count": 18,
   "id": "91ca027a",
   "metadata": {},
   "outputs": [
    {
     "name": "stdout",
     "output_type": "stream",
     "text": [
      "10\n"
     ]
    }
   ],
   "source": [
    "x = 10  # Global variable\n",
    "\n",
    "def my_function():\n",
    "    print(x)  # Accessing global variable\n",
    "\n",
    "my_function()  # Output: 10\n"
   ]
  },
  {
   "cell_type": "markdown",
   "id": "f3a1e148",
   "metadata": {},
   "source": [
    "In this example, the variable x is defined outside of any function, making it a global variable. The function my_function() can access and use this variable directly, without needing to pass it as an argument.<br>\n",
    "\n",
    "Note: If you want to modify a global variable from within a function, you need to use the global keyword to indicate that you want to refer to the global variable and not create a new local variable with the same name.<br>"
   ]
  },
  {
   "cell_type": "code",
   "execution_count": 19,
   "id": "bea1f187",
   "metadata": {},
   "outputs": [
    {
     "name": "stdout",
     "output_type": "stream",
     "text": [
      "20\n",
      "20\n"
     ]
    }
   ],
   "source": [
    "x = 10  # Global variable\n",
    "\n",
    "def my_function():\n",
    "    global x\n",
    "    x = 20  # Modifying the global variable\n",
    "    print(x)\n",
    "\n",
    "my_function()  # Output: 20\n",
    "print(x)  # Output: 20 (the global variable has been modified)\n"
   ]
  },
  {
   "cell_type": "markdown",
   "id": "109b3ae2",
   "metadata": {},
   "source": [
    " __Question 6.__ How can you use the \"return\" statement in a Python function to return multiple values?"
   ]
  },
  {
   "cell_type": "markdown",
   "id": "75fa5496",
   "metadata": {},
   "source": [
    "__Ans__\n",
    "In Python, the return statement in a function can be used to return multiple values by combining them into a data structure like a tuple, list, or dictionary. This allows you to effectively return multiple values as a single object. Here are a few ways to achieve this:"
   ]
  },
  {
   "cell_type": "markdown",
   "id": "6d79472c",
   "metadata": {},
   "source": [
    "__Returning a tuple:<br>__\n",
    "You can use the return statement to return a tuple of values. Tuples are ordered, immutable sequences, typically enclosed in parentheses."
   ]
  },
  {
   "cell_type": "code",
   "execution_count": 22,
   "id": "1b6480a9",
   "metadata": {},
   "outputs": [
    {
     "name": "stdout",
     "output_type": "stream",
     "text": [
      "(10, 20)\n",
      "10\n",
      "20\n"
     ]
    }
   ],
   "source": [
    "def get_coordinates():\n",
    "    x = 10\n",
    "    y = 20\n",
    "    return x, y\n",
    "\n",
    "coordinates = get_coordinates()\n",
    "print(coordinates)  # Output: (10, 20)\n",
    "print(coordinates[0])  # Output: 10\n",
    "print(coordinates[1])  # Output: 20\n"
   ]
  },
  {
   "cell_type": "markdown",
   "id": "33469fc0",
   "metadata": {},
   "source": [
    "__Returning a list:__\n",
    "Similar to returning a tuple, you can use the return statement to return a list of values. Lists are ordered, mutable sequences, typically enclosed in square brackets."
   ]
  },
  {
   "cell_type": "code",
   "execution_count": 23,
   "id": "c1824901",
   "metadata": {},
   "outputs": [
    {
     "name": "stdout",
     "output_type": "stream",
     "text": [
      "[1, 2, 3, 4, 5]\n"
     ]
    }
   ],
   "source": [
    "def get_numbers():\n",
    "    numbers = [1, 2, 3, 4, 5]\n",
    "    return numbers\n",
    "\n",
    "result = get_numbers()\n",
    "print(result)  # Output: [1, 2, 3, 4, 5]\n"
   ]
  },
  {
   "cell_type": "markdown",
   "id": "28b38118",
   "metadata": {},
   "source": [
    "__Returning a dictionary:__\n",
    "The return statement can also be used to return a dictionary of values. Dictionaries are unordered collections of key-value pairs, enclosed in curly braces."
   ]
  },
  {
   "cell_type": "code",
   "execution_count": 24,
   "id": "d24faf11",
   "metadata": {},
   "outputs": [
    {
     "name": "stdout",
     "output_type": "stream",
     "text": [
      "{'name': 'Alice', 'age': 30, 'city': 'New York'}\n",
      "Alice\n",
      "30\n"
     ]
    }
   ],
   "source": [
    "def get_person_details():\n",
    "    person = {\n",
    "        'name': 'Alice',\n",
    "        'age': 30,\n",
    "        'city': 'New York'\n",
    "    }\n",
    "    return person\n",
    "\n",
    "details = get_person_details()\n",
    "print(details)  # Output: {'name': 'Alice', 'age': 30, 'city': 'New York'}\n",
    "print(details['name'])  # Output: 'Alice'\n",
    "print(details['age'])  # Output: 30\n"
   ]
  },
  {
   "cell_type": "markdown",
   "id": "d88c649f",
   "metadata": {},
   "source": [
    "By returning a data structure like a tuple, list, or dictionary, you can effectively return multiple values from a Python function. The caller can then access and use these values based on the structure returned"
   ]
  },
  {
   "cell_type": "markdown",
   "id": "5a78e21c",
   "metadata": {},
   "source": [
    "__question 7.__ What is the difference between the \"pass by value\" and \"pass by reference\" concepts when it\n",
    "comes to function arguments in Python?"
   ]
  },
  {
   "cell_type": "markdown",
   "id": "e3e1ebba",
   "metadata": {},
   "source": [
    "__Ans__ Python, the concepts of \"pass by value\" and \"pass by reference\" refer to how arguments are passed to functions. However, it's important to note that Python uses a different approach altogether, which is known as \"pass by assignment\" or \"pass by object reference.\" This concept can sometimes be confused with \"pass by value\" and \"pass by reference,\" which are commonly used in other programming languages.\n",
    "\n"
   ]
  },
  {
   "cell_type": "markdown",
   "id": "dcb12f39",
   "metadata": {},
   "source": [
    "__Pass by assignment (pass by object reference in Python):__<br>\n",
    "In Python, when passing arguments to a function, the \"pass by assignment\" or \"pass by object reference\" concept applies. The reference to an object is passed to the function, but the assignment of the parameter within the function creates a new <br>local reference. Modifying the parameter affects the object outside the function if the object is mutable, but reassigning <br>the parameter only affects the local reference and does not modify the original object."
   ]
  },
  {
   "cell_type": "code",
   "execution_count": 25,
   "id": "b44a6ef8",
   "metadata": {},
   "outputs": [
    {
     "name": "stdout",
     "output_type": "stream",
     "text": [
      "[1, 2, 3, 4]\n",
      "5\n"
     ]
    }
   ],
   "source": [
    "def increment(num_list):\n",
    "    num_list.append(4)  # Modifying the object\n",
    "\n",
    "numbers = [1, 2, 3]\n",
    "increment(numbers)\n",
    "print(numbers)  # Output: [1, 2, 3, 4] (numbers is modified)\n",
    "\n",
    "def update(num):\n",
    "    num = num + 1  # Reassigning the parameter\n",
    "\n",
    "x = 5\n",
    "update(x)\n",
    "print(x)  # Output: 5 (x is unchanged)\n"
   ]
  },
  {
   "cell_type": "markdown",
   "id": "5a2a6178",
   "metadata": {},
   "source": [
    "it is more accurate to say that the concept is \"pass by assignment\" or \"pass by object reference.\" The behavior depends on<br> whether the object is mutable or immutable. Mutable objects (like lists) can be modified within the function and affect the <br> original object, while reassigning the parameter creates a new local reference. Immutable objects (like numbers) cannot be <br> modified, and reassigning the parameter only affects the local reference."
   ]
  },
  {
   "cell_type": "markdown",
   "id": "021d2a36",
   "metadata": {},
   "source": [
    "__Question 8.__ Create a function that can intake integer or decimal value and do following operations:<br>\n",
    "a. Logarithmic function (log x)<br>\n",
    "b. Exponential function (exp(x))<br>\n",
    "c. Power function with base 2 (2x)<br>\n",
    "d. Square root<br>"
   ]
  },
  {
   "cell_type": "markdown",
   "id": "4ff62b2c",
   "metadata": {},
   "source": [
    "__Ansa. Logarithmic function (log x):__ <br>Python that can calculate the logarithm of an integer or decimal value using the math module:"
   ]
  },
  {
   "cell_type": "code",
   "execution_count": 28,
   "id": "060b0978",
   "metadata": {},
   "outputs": [
    {
     "name": "stdout",
     "output_type": "stream",
     "text": [
      "2.302585092994046\n",
      "0.999999327347282\n"
     ]
    }
   ],
   "source": [
    "import math\n",
    "\n",
    "def calculate_log(x):\n",
    "    return math.log(x)\n",
    "\n",
    "# Example usage\n",
    "result = calculate_log(10)\n",
    "print(result)  # Output: 2.302585092994046\n",
    "\n",
    "result = calculate_log(2.71828)\n",
    "print(result)  # Output: 1.0000066849139877\n"
   ]
  },
  {
   "cell_type": "markdown",
   "id": "7ae630e0",
   "metadata": {},
   "source": [
    "__b. Exponential function (exp(x))__<br>"
   ]
  },
  {
   "cell_type": "code",
   "execution_count": 30,
   "id": "f0d9af32",
   "metadata": {},
   "outputs": [
    {
     "name": "stdout",
     "output_type": "stream",
     "text": [
      "7.38905609893065\n",
      "1.6487212707001282\n"
     ]
    }
   ],
   "source": [
    "import math\n",
    "\n",
    "def calculate_exponential(x):\n",
    "    return math.exp(x)\n",
    "\n",
    "# Example usage\n",
    "result = calculate_exponential(2)\n",
    "print(result)  # Output: 7.3890560989306495\n",
    "\n",
    "result = calculate_exponential(0.5)\n",
    "print(result)  # Output: 1.6487212707001282\n"
   ]
  },
  {
   "cell_type": "markdown",
   "id": "1ba5a0ba",
   "metadata": {},
   "source": [
    "__c. Power function with base 2 (2x)__<br>\n",
    " example of a function in Python that can calculate the power function with a base of 2 (2^x) for an integer or decimal value:"
   ]
  },
  {
   "cell_type": "code",
   "execution_count": 31,
   "id": "37fffb1b",
   "metadata": {},
   "outputs": [
    {
     "name": "stdout",
     "output_type": "stream",
     "text": [
      "8\n",
      "1.4142135623730951\n"
     ]
    }
   ],
   "source": [
    "def calculate_power_of_two(x):\n",
    "    return 2 ** x\n",
    "\n",
    "# Example usage\n",
    "result = calculate_power_of_two(3)\n",
    "print(result)  # Output: 8\n",
    "\n",
    "result = calculate_power_of_two(0.5)\n",
    "print(result)  # Output: 1.4142135623730951\n"
   ]
  },
  {
   "cell_type": "markdown",
   "id": "781fb5b7",
   "metadata": {},
   "source": [
    "__d. Square root__<br>\n",
    " Python that can calculate the square root of an integer or decimal value using the math module:"
   ]
  },
  {
   "cell_type": "code",
   "execution_count": 33,
   "id": "14e4ca8e",
   "metadata": {},
   "outputs": [
    {
     "name": "stdout",
     "output_type": "stream",
     "text": [
      "4.0\n",
      "1.4142135623730951\n"
     ]
    }
   ],
   "source": [
    "import math\n",
    "\n",
    "def calculate_square_root(x):\n",
    "    return math.sqrt(x)\n",
    "\n",
    "# Example usage\n",
    "result = calculate_square_root(16)\n",
    "print(result)  # Output: 4.0\n",
    "\n",
    "result = calculate_square_root(2)\n",
    "print(result)  # Output: 1.4142135623730951\n"
   ]
  },
  {
   "cell_type": "markdown",
   "id": "3d7b36e1",
   "metadata": {},
   "source": [
    "__Question 9.__ Create a function that takes a full name as an argument and returns first name and last name."
   ]
  },
  {
   "cell_type": "code",
   "execution_count": 60,
   "id": "49872e7a",
   "metadata": {},
   "outputs": [
    {
     "name": "stdout",
     "output_type": "stream",
     "text": [
      " The First name is''Mohit'' and Last name ''Pandey''\n"
     ]
    }
   ],
   "source": [
    "def get_first_last_name(full_name):\n",
    "    names=full_name.split()\n",
    "    first_name=names[0]\n",
    "    last_name=names[-1]\n",
    "    return first_name,last_name\n",
    "    \n",
    "result=get_first_last_name(\"Mohit kumar Pandey\")\n",
    "print(f\" The First name is''{result[0]}'' and Last name ''{result[-1]}''\")"
   ]
  },
  {
   "cell_type": "code",
   "execution_count": null,
   "id": "39245c58",
   "metadata": {},
   "outputs": [],
   "source": []
  },
  {
   "cell_type": "code",
   "execution_count": null,
   "id": "8826e0ce",
   "metadata": {},
   "outputs": [],
   "source": []
  }
 ],
 "metadata": {
  "kernelspec": {
   "display_name": "Python 3 (ipykernel)",
   "language": "python",
   "name": "python3"
  },
  "language_info": {
   "codemirror_mode": {
    "name": "ipython",
    "version": 3
   },
   "file_extension": ".py",
   "mimetype": "text/x-python",
   "name": "python",
   "nbconvert_exporter": "python",
   "pygments_lexer": "ipython3",
   "version": "3.9.7"
  }
 },
 "nbformat": 4,
 "nbformat_minor": 5
}
