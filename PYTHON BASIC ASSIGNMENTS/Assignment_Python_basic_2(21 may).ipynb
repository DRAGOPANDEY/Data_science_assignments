{
 "cells": [
  {
   "cell_type": "markdown",
   "id": "6c5b02af",
   "metadata": {},
   "source": [
    "   # Assignment _2"
   ]
  },
  {
   "cell_type": "markdown",
   "id": "08b7f687",
   "metadata": {},
   "source": [
    "__Q.1. Create two int type variables, apply addition, subtraction, division and multiplications\n",
    "and store the results in variables. Then print the data in the following format by calling the\n",
    "variables:___<br>\n",
    "First variable is __ & second variable is __.<br>\n",
    "Addition: __ + __ = __<br>\n",
    "Subtraction: __ - __ = __<br>\n",
    "Multiplication: __ * __ = __<br>\n",
    "Division: __ / __ = __<br>"
   ]
  },
  {
   "cell_type": "markdown",
   "id": "12b5a6a4",
   "metadata": {},
   "source": [
    "Ans 1. Addition, subtraction, division, and multiplication operations, stores the results in variables, and then prints the data in the requested format."
   ]
  },
  {
   "cell_type": "code",
   "execution_count": 3,
   "id": "df44c997",
   "metadata": {},
   "outputs": [
    {
     "name": "stdout",
     "output_type": "stream",
     "text": [
      "Addition: 8 + 2 = 10\n",
      "Subtraction: 8 - 2 = 6\n",
      "Multiplication: 8 * 2 = 16\n",
      "Division: 8 / 2 = 4.0\n"
     ]
    }
   ],
   "source": [
    "# Create two int type variables\n",
    "num1 = 8\n",
    "num2 = 2\n",
    "\n",
    "# Perform arithmetic operations\n",
    "addition_result = num1 + num2\n",
    "subtraction_result = num1 - num2\n",
    "division_result = num1 / num2\n",
    "multiplication_result = num1 * num2\n",
    "\n",
    "# Print the results in the desired format\n",
    "print(\"Addition: {} + {} = {}\".format(num1, num2, addition_result))\n",
    "print(\"Subtraction: {} - {} = {}\".format(num1, num2, subtraction_result))\n",
    "print(\"Multiplication: {} * {} = {}\".format(num1, num2, multiplication_result))\n",
    "print(\"Division: {} / {} = {}\".format(num1, num2, division_result))\n"
   ]
  },
  {
   "cell_type": "markdown",
   "id": "9a455246",
   "metadata": {},
   "source": [
    "__Q.2. What is the difference between the following operators:<br>\n",
    "(i) ‘/’ & ‘//’<br>\n",
    "(ii) ‘**’ & ‘^’__<br>"
   ]
  },
  {
   "cell_type": "markdown",
   "id": "2c15f20a",
   "metadata": {},
   "source": [
    "Ans 2:\n",
    "(i) The '/' operator is used for division in Python, and it returns the exact quotient (result) of the division operation as a float.<br> For example, 7 / 2 would result in 3.5.<br>\n",
    "\n",
    "On the other hand, the '//' operator is known as the floor division operator or integer division operator.<br> It also performs division but returns the floor value of the quotient as an integer. <br>In other words, it discards the decimal part of the result and only keeps the integer portion. For example, 7 // 2 would result in 3.<br>\n",
    "\n"
   ]
  },
  {
   "cell_type": "code",
   "execution_count": 4,
   "id": "86a51f64",
   "metadata": {},
   "outputs": [
    {
     "name": "stdout",
     "output_type": "stream",
     "text": [
      "3.5\n",
      "3\n"
     ]
    }
   ],
   "source": [
    "# example to illustrate the difference between '/' and '//':\n",
    "\n",
    "result1 = 7 / 2\n",
    "result2 = 7 // 2\n",
    "\n",
    "print(result1)  # Output: 3.5\n",
    "print(result2)  # Output: 3\n",
    "\n"
   ]
  },
  {
   "cell_type": "markdown",
   "id": "bd6b1ea7",
   "metadata": {},
   "source": [
    "__(ii) ‘**’ & ‘^’__<br>\n",
    " The '**' operator is used for exponentiation in Python. It raises a number to the power of another number. For example, 2 ** 3 would result in 8 (2 raised to the power of 3).<br>\n",
    "\n",
    "On the other hand, the '^' operator is not used for exponentiation in Python. In Python, the '^' operator is the bitwise XOR operator, used for performing bitwise exclusive OR operations on binary numbers.<br>"
   ]
  },
  {
   "cell_type": "code",
   "execution_count": 6,
   "id": "dc74439a",
   "metadata": {},
   "outputs": [
    {
     "name": "stdout",
     "output_type": "stream",
     "text": [
      "8\n",
      "1\n"
     ]
    }
   ],
   "source": [
    "# Here's an example to illustrate the difference between '**' and '^':\n",
    "\n",
    "result1 = 2 ** 3\n",
    "result2 = 2 ^ 3\n",
    "\n",
    "print(result1)  # Output: 8\n",
    "print(result2)  # Output: 1 (bitwise XOR of 2 and 3)"
   ]
  },
  {
   "cell_type": "markdown",
   "id": "8e2eb3a2",
   "metadata": {},
   "source": [
    "__Q.3. List the logical operators.__"
   ]
  },
  {
   "cell_type": "markdown",
   "id": "8614f59c",
   "metadata": {},
   "source": [
    "__Logical Operators:__ Used to combine conditional statements."
   ]
  },
  {
   "cell_type": "code",
   "execution_count": 14,
   "id": "6dd90c5c",
   "metadata": {},
   "outputs": [
    {
     "name": "stdout",
     "output_type": "stream",
     "text": [
      "False\n",
      "True\n",
      "False\n"
     ]
    }
   ],
   "source": [
    "# example\n",
    "a = True\n",
    "b = False\n",
    "\n",
    "print(a and b) # Logical AND, Output: False\n",
    "print(a or b)  # Logical OR, Output: True\n",
    "print(not a)   # Logical NOT, Output: False\n"
   ]
  },
  {
   "cell_type": "markdown",
   "id": "aff53d82",
   "metadata": {},
   "source": [
    "__Bitwise Operators:__ Used to perform bitwise calculations on integers.<br>\n",
    "\n",
    "AND Operator &: Compares each bit of the first operand with the corresponding bit of the second operand. If both bits are 1, the corresponding result bit is set to 1. Otherwise, the result bit is set to 0.<br>"
   ]
  },
  {
   "cell_type": "code",
   "execution_count": 10,
   "id": "851d3d51",
   "metadata": {},
   "outputs": [
    {
     "name": "stdout",
     "output_type": "stream",
     "text": [
      "0\n"
     ]
    }
   ],
   "source": [
    "a = 10       # in binary: 1010\n",
    "b = 4        # in binary: 0100\n",
    "result = a & b  # result is 0 (in binary: 0000)\n",
    "print(result)\n"
   ]
  },
  {
   "cell_type": "markdown",
   "id": "f75bb459",
   "metadata": {},
   "source": [
    "__OR Operator |:__Compares each bit of the first operand with the corresponding bit of the second operand. If either bit is 1, the corresponding result bit is set to 1. Otherwise, the result bit is set to 0.<br>"
   ]
  },
  {
   "cell_type": "code",
   "execution_count": 11,
   "id": "d64d53ef",
   "metadata": {},
   "outputs": [
    {
     "name": "stdout",
     "output_type": "stream",
     "text": [
      "14\n"
     ]
    }
   ],
   "source": [
    "a = 10       # in binary: 1010\n",
    "b = 4        # in binary: 0100\n",
    "result = a | b  # result is 14 (in binary: 1110)\n",
    "print(result)"
   ]
  },
  {
   "cell_type": "markdown",
   "id": "ff1e4490",
   "metadata": {},
   "source": [
    "__NOT Operator:__ Inverts all the bits of the operand. Every 0 is changed to 1, and every 1 is changed to 0.\n",
    "\n"
   ]
  },
  {
   "cell_type": "code",
   "execution_count": 12,
   "id": "46755da7",
   "metadata": {},
   "outputs": [
    {
     "name": "stdout",
     "output_type": "stream",
     "text": [
      "-11\n"
     ]
    }
   ],
   "source": [
    "a = 10         # in binary: 1010\n",
    "result = ~a    # result is -11 (in binary: -1011)\n",
    "print(result)\n"
   ]
  },
  {
   "cell_type": "markdown",
   "id": "09e579f6",
   "metadata": {},
   "source": [
    "__XOR Operator ^:__ Compares each bit of the first operand with the corresponding bit of the second operand. If one of the bits is 1 (but not both), the corresponding result bit is set to 1. Otherwise, the result bit is set to 0.\n",
    "\n"
   ]
  },
  {
   "cell_type": "code",
   "execution_count": 13,
   "id": "b7bee0bd",
   "metadata": {},
   "outputs": [
    {
     "name": "stdout",
     "output_type": "stream",
     "text": [
      "14\n"
     ]
    }
   ],
   "source": [
    "a = 10       # in binary: 1010\n",
    "b = 4        # in binary: 0100\n",
    "result = a ^ b  # result is 14 (in binary: 1110)\n",
    "print(result)\n"
   ]
  },
  {
   "cell_type": "markdown",
   "id": "b338a6b7",
   "metadata": {},
   "source": [
    "These are the some logical operators"
   ]
  },
  {
   "cell_type": "markdown",
   "id": "0dfbe409",
   "metadata": {},
   "source": [
    "__Q.4. Explain right shift operator and left shift operator with examples.__"
   ]
  },
  {
   "cell_type": "markdown",
   "id": "40cc5cff",
   "metadata": {},
   "source": [
    "Ans 4. The right shift (>>) and left shift (<<) operators are bitwise shift operators in Python. They are used to shift the bits of a binary number to the right or left, respectively.<br>\n",
    "\n",
    "__Right Shift (>>):__<br>\n",
    "The right shift operator (>>) shifts the bits of a number to the right by a specified number of positions. It moves each bit to the right by the specified amount, discarding the rightmost bits and filling the leftmost bits with the sign bit (the most significant bit) for signed numbers or with zeroes for unsigned numbers.<br>\n"
   ]
  },
  {
   "cell_type": "code",
   "execution_count": 18,
   "id": "0290a6b6",
   "metadata": {},
   "outputs": [
    {
     "name": "stdout",
     "output_type": "stream",
     "text": [
      "2\n"
     ]
    }
   ],
   "source": [
    "# Here's an example to illustrate the right shift operator.\n",
    "\n",
    "num = 10  # Binary representation: 1010\n",
    "shifted_num = num >> 2  # Right shifting by 2 positions\n",
    "\n",
    "print(shifted_num)  # Output: 2\n",
    "\n",
    "# num is 1010. By performing a right shift operation num >> 2, the bits are shifted to the right by 2 positions. \n",
    "# The result is 10, which is the binary representation of decimal number 2."
   ]
  },
  {
   "cell_type": "markdown",
   "id": "d925c103",
   "metadata": {},
   "source": [
    "__Left Shift (<<):__<br>\n",
    "The left shift operator (<<) shifts the bits of a number to the left by a specified number of positions. It moves each bit to the left by the specified amount, appending zeroes to the right.<br>\n"
   ]
  },
  {
   "cell_type": "code",
   "execution_count": 22,
   "id": "f001ef15",
   "metadata": {},
   "outputs": [
    {
     "name": "stdout",
     "output_type": "stream",
     "text": [
      "20\n"
     ]
    }
   ],
   "source": [
    "# Here's an example to illustrate the left shift operator:\n",
    "\n",
    "num = 5  # Binary representation: 101\n",
    "shifted_num = num << 2  # Left shifting by 2 positions\n",
    "\n",
    "print(shifted_num)  # Output: 20\n",
    "\n",
    "# In this example, the binary representation of num is 101. By performing a left shift operation num << 2, \n",
    "# the bits are shifted to the left by 2 positions.\n",
    "# The result is 10100, which is the binary representation of decimal number 20. \n"
   ]
  },
  {
   "cell_type": "markdown",
   "id": "c61da332",
   "metadata": {},
   "source": [
    "__Q.5. Create a list containing int type data of length 15. Then write a code to check if 10 is\n",
    "present in the list or not.__"
   ]
  },
  {
   "cell_type": "code",
   "execution_count": 29,
   "id": "25003300",
   "metadata": {},
   "outputs": [
    {
     "name": "stdout",
     "output_type": "stream",
     "text": [
      "10 is present\n"
     ]
    }
   ],
   "source": [
    "# here is the code\n",
    "list=[5,10,15,20,25,30,35,40,45,50,55,60,65,70,75]\n",
    "if 10 in list:\n",
    "    print(\"10 is present\")\n",
    "else:\n",
    "    print(\"10 is not present\")\n",
    " "
   ]
  },
  {
   "cell_type": "code",
   "execution_count": null,
   "id": "a2523486",
   "metadata": {},
   "outputs": [],
   "source": []
  }
 ],
 "metadata": {
  "kernelspec": {
   "display_name": "Python 3 (ipykernel)",
   "language": "python",
   "name": "python3"
  },
  "language_info": {
   "codemirror_mode": {
    "name": "ipython",
    "version": 3
   },
   "file_extension": ".py",
   "mimetype": "text/x-python",
   "name": "python",
   "nbconvert_exporter": "python",
   "pygments_lexer": "ipython3",
   "version": "3.9.7"
  }
 },
 "nbformat": 4,
 "nbformat_minor": 5
}
