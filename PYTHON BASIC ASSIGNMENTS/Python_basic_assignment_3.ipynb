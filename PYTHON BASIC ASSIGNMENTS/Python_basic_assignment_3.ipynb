{
 "cells": [
  {
   "cell_type": "markdown",
   "id": "5ee012d0",
   "metadata": {},
   "source": [
    "# Assignment 3 (Python Basic)"
   ]
  },
  {
   "cell_type": "markdown",
   "id": "0ad368c7",
   "metadata": {},
   "source": [
    "__1. Why are functions advantageous to have in your programs?__"
   ]
  },
  {
   "cell_type": "markdown",
   "id": "0451ff24",
   "metadata": {},
   "source": [
    "Ans:- Functions reduce the need for duplicate code. This makes programs shorter, easier to read, and easier to update<br>. The main advantage of functions is code Reusability.<br>\n",
    "Reusability: Functions promote code reusability. Once you define a function, you can use it multiple times throughout your program without having to rewrite the same code. <br>This saves time and effort, and it also reduces the chances of introducing errors when repeating code.<br>"
   ]
  },
  {
   "cell_type": "code",
   "execution_count": 1,
   "id": "490c31f7",
   "metadata": {},
   "outputs": [],
   "source": [
    "# example:- \n",
    "def greet():\n",
    "    print('Hello World!')"
   ]
  },
  {
   "cell_type": "markdown",
   "id": "04d6ebd7",
   "metadata": {},
   "source": [
    "__2. When does the code in a function run: when it's specified or when it's called?__"
   ]
  },
  {
   "cell_type": "markdown",
   "id": "02b5b48c",
   "metadata": {},
   "source": [
    "Ans:When you call a function, the program transfers control to that function, and the code within the function's block is executed sequentially. <br>-The function performs its specified operations, which may include calculations, data manipulations, conditional statements, loops, and other actions.<br> -After the function completes its execution, control is returned back to the point in the program from where the function was called."
   ]
  },
  {
   "cell_type": "code",
   "execution_count": 5,
   "id": "fa2b03a5",
   "metadata": {},
   "outputs": [
    {
     "name": "stdout",
     "output_type": "stream",
     "text": [
      "Hello, World!\n"
     ]
    }
   ],
   "source": [
    "def greet():\n",
    "    print(\"Hello, World!\")\n",
    "\n",
    "# Function defined, but code not executed yet\n",
    "\n",
    "greet()  # Function called, code inside the function runs\n",
    "\n",
    "# In the above example, the function greet() is defined to print \"Hello, World!\" when called. However, \n",
    "# the code inside the function is executed only when the function is invoked with greet().\n",
    "# Until that point, the code inside the function is not executed.\n"
   ]
  },
  {
   "cell_type": "markdown",
   "id": "0a29b592",
   "metadata": {},
   "source": [
    "__3. What statement creates a function?__"
   ]
  },
  {
   "cell_type": "markdown",
   "id": "e1dabc6e",
   "metadata": {},
   "source": [
    "Ans: The def statement is followed by the name of the function, a pair of parentheses that can contain any parameters the function accepts (if any), and a colon.<br> The body of the function, which consists of one or more indented lines of code, follows the colon.<br>\n",
    "\n"
   ]
  },
  {
   "cell_type": "code",
   "execution_count": 7,
   "id": "b9207007",
   "metadata": {},
   "outputs": [],
   "source": [
    "# Here's a basic example of a function creation using the def statement in Python:\n",
    "def say_hello():\n",
    "    print(\"Hello, World!\")\n"
   ]
  },
  {
   "cell_type": "markdown",
   "id": "a32f77c6",
   "metadata": {},
   "source": [
    "__4. What is the difference between a function and a function call?__"
   ]
  },
  {
   "cell_type": "markdown",
   "id": "1f243915",
   "metadata": {},
   "source": [
    "Ans: A function and a function call are related but distinct concepts in programming. Here's the difference between them:<br>\n",
    "\n",
    "__Function:__ A function is a block of code that performs a specific task or a set of operations. It is defined with a name, optional parameters, and a block of code that specifies what the function does. <br>Functions are typically created to encapsulate reusable pieces of code that can be called or invoked multiple times from different parts of a program.<br>\n",
    "\n",
    "__Function Call__: A function call, also known as invoking or executing a function, is the action of actually using a function in a program. When you make a function call, you provide the necessary arguments (if the function accepts parameters) and trigger the execution of the code inside the function.<br> The program temporarily transfers control to the function, executes the code within the function's body, and then returns control back to the point from where the function was called.\n",
    "\n",
    "In simpler terms, a function is like a recipe or a blueprint, defining a set of instructions. On the other hand, a function call is like following the recipe or using the blueprint to actually create something.\n",
    "\n"
   ]
  },
  {
   "cell_type": "code",
   "execution_count": 12,
   "id": "d25f6045",
   "metadata": {},
   "outputs": [
    {
     "name": "stdout",
     "output_type": "stream",
     "text": [
      "Hello, Alice!\n"
     ]
    }
   ],
   "source": [
    "# Here's an example to illustrate the difference:\n",
    "# Function definition\n",
    "def greet(name):\n",
    "    print(\"Hello, \" + name + \"!\")\n",
    "\n",
    "# Function call\n",
    "greet(\"Alice\")\n",
    "\n",
    "\n",
    "\n"
   ]
  },
  {
   "cell_type": "markdown",
   "id": "6b0a4aa0",
   "metadata": {},
   "source": [
    "__5. How many global scopes are there in a Python program? How many local scopes?__"
   ]
  },
  {
   "cell_type": "markdown",
   "id": "773ab7d9",
   "metadata": {},
   "source": [
    "Ans: 1.Global Scope: There is only one global scope in a Python program. It is accessible from any part of the program and is used to define global variables and functions.\n",
    "\n",
    "2.Local Scopes: The number of local scopes depends on the number of function definitions in the program. Each function call creates a new local scope specific to that function. Local scopes are used to store local variables and function parameters, which are only accessible within the respective function's code block."
   ]
  },
  {
   "cell_type": "markdown",
   "id": "2ee1d4b1",
   "metadata": {},
   "source": [
    "__6. What happens to variables in a local scope when the function call returns?__"
   ]
  },
  {
   "cell_type": "markdown",
   "id": "60aec6bf",
   "metadata": {},
   "source": [
    "Ans: When a function returns, the local scope is destroyed, and all the variables in it are forgotten."
   ]
  },
  {
   "cell_type": "markdown",
   "id": "eff8edf2",
   "metadata": {},
   "source": [
    "__7. What is the concept of a return value? Is it possible to have a return value in an expression?__"
   ]
  },
  {
   "cell_type": "markdown",
   "id": "67c10199",
   "metadata": {},
   "source": [
    "Ans:- The concept of a return value refers to the value that a function can send back or \"return\" to the code that called it. When a function is executed and reaches a return statement, it can provide a value as the result of the function's execution.\n",
    "\n",
    "The return value serves as the output or outcome of the function, and it can be used by the calling code for further processing, assignment to a variable, or as part of an expression.\n",
    "\n",
    "\n"
   ]
  },
  {
   "cell_type": "code",
   "execution_count": 20,
   "id": "8f76aac0",
   "metadata": {},
   "outputs": [
    {
     "name": "stdout",
     "output_type": "stream",
     "text": [
      "8\n"
     ]
    }
   ],
   "source": [
    "# Here's an example to illustrate the concept of a return value:\n",
    "\n",
    "\n",
    "def add_numbers(a, b):\n",
    "    return a + b\n",
    "\n",
    "result = add_numbers(3, 5)\n",
    "print(result)  # Output: 8"
   ]
  },
  {
   "cell_type": "markdown",
   "id": "4a762289",
   "metadata": {},
   "source": [
    "__8. If a function does not have a return statement, what is the return value of a call to that function?__"
   ]
  },
  {
   "cell_type": "markdown",
   "id": "916e03c9",
   "metadata": {},
   "source": [
    "Ans:- If a function does not have a return statement, the return value of a call to that function is None.<br>\n",
    "\n",
    "In Python, if a function execution reaches the end without encountering a return statement, or if the function simply lacks a return statement<br>, it automatically returns None by default. <br>None is a special object in Python that represents the absence of a value.<br>\n"
   ]
  },
  {
   "cell_type": "code",
   "execution_count": 23,
   "id": "210b898e",
   "metadata": {},
   "outputs": [
    {
     "name": "stdout",
     "output_type": "stream",
     "text": [
      "Hello, World!\n",
      "None\n"
     ]
    }
   ],
   "source": [
    "# Here's an example to demonstrate the behavior\n",
    "def greet():\n",
    "    print(\"Hello, World!\")\n",
    "\n",
    "result = greet()\n",
    "print(result)  # Output: None"
   ]
  },
  {
   "cell_type": "markdown",
   "id": "e20abdb7",
   "metadata": {},
   "source": [
    "__9. How do you make a function variable refer to the global variable?__"
   ]
  },
  {
   "cell_type": "markdown",
   "id": "22844db4",
   "metadata": {},
   "source": [
    "Ans:-This allows you to access and modify the value of the global variable within the function's scope.<br>\n",
    "\n",
    "To make a function variable refer to the global variable, follow these steps:<br>\n",
    "\n",
    "Declare the global variable inside the function using the global keyword.<br>\n",
    "Assign the global variable to the function variable.<br>\n"
   ]
  },
  {
   "cell_type": "code",
   "execution_count": 26,
   "id": "41f2092d",
   "metadata": {},
   "outputs": [
    {
     "name": "stdout",
     "output_type": "stream",
     "text": [
      "15\n"
     ]
    }
   ],
   "source": [
    "# Here's an example:\n",
    "global_var = 10\n",
    "\n",
    "def access_global():\n",
    "    global global_var  # Declare the global variable inside the function\n",
    "    global_var += 5    # Modify the value of the global variable\n",
    "    print(global_var)\n",
    "\n",
    "access_global()  # Output: 15"
   ]
  },
  {
   "cell_type": "markdown",
   "id": "db2ab99e",
   "metadata": {},
   "source": [
    "__10. What is the data type of None?__"
   ]
  },
  {
   "cell_type": "markdown",
   "id": "83cb68f6",
   "metadata": {},
   "source": [
    "Ans: The data type of None in Python is NoneType.<br>\n",
    "\n",
    "None is a special object in Python that represents the absence of a value or a null value.<br> It is often used to indicate that a variable or function does not have a meaningful value or that a particular condition is not met.<br>\n",
    "\n"
   ]
  },
  {
   "cell_type": "code",
   "execution_count": 31,
   "id": "9cc45189",
   "metadata": {},
   "outputs": [
    {
     "name": "stdout",
     "output_type": "stream",
     "text": [
      "<class 'NoneType'>\n"
     ]
    }
   ],
   "source": [
    "# Here's an example to demonstrate the data type of None:\n",
    "\n",
    "result = None\n",
    "print(type(result))  # Output: <class 'NoneType'>"
   ]
  },
  {
   "cell_type": "markdown",
   "id": "121be33d",
   "metadata": {},
   "source": [
    "__11. What does the sentence import areallyourpetsnamederic do?__"
   ]
  },
  {
   "cell_type": "markdown",
   "id": "2ca94a1a",
   "metadata": {},
   "source": [
    "Ans: The sentence \"import areallyourpetsnamederic\" does not correspond to any existing module or package, and therefore, it would result in a ModuleNotFoundError"
   ]
  },
  {
   "cell_type": "markdown",
   "id": "cb56f025",
   "metadata": {},
   "source": [
    "__12. If you had a bacon() feature in a spam module, what would you call it after importing spam?__"
   ]
  },
  {
   "cell_type": "markdown",
   "id": "c83feea9",
   "metadata": {},
   "source": [
    "Ans: spam module, you can access the bacon() feature using the syntax spam.bacon().<br> This notation allows you to call or invoke the bacon() function from the imported spam module.<br>\n",
    "\n",
    "Here's an example:\n",
    "\n",
    "__import spam__\n",
    "\n",
    "__spam.bacon()__       \n",
    "\n",
    "__# Call the bacon() function from the spam module__"
   ]
  },
  {
   "cell_type": "markdown",
   "id": "48d963fd",
   "metadata": {},
   "source": [
    "__13. What can you do to save a programme from crashing if it encounters an error?__"
   ]
  },
  {
   "cell_type": "markdown",
   "id": "5180b148",
   "metadata": {},
   "source": [
    "Ans:- Place the line of code that might cause an error in a try clause and use except block to handle the error.<br>"
   ]
  },
  {
   "cell_type": "raw",
   "id": "61409313",
   "metadata": {},
   "source": [
    "example\n",
    "\n",
    "try:\n",
    "    # Code that might raise an exception\n",
    "    # ...\n",
    "except ExceptionType:\n",
    "    # Exception handling code\n",
    "    # ...\n"
   ]
  },
  {
   "cell_type": "markdown",
   "id": "cd7e41cd",
   "metadata": {},
   "source": [
    "__14. What is the purpose of the try clause? What is the purpose of the except clause?__"
   ]
  },
  {
   "cell_type": "markdown",
   "id": "3dc204da",
   "metadata": {},
   "source": [
    "Ans:\n",
    "    The try and except clauses are used in Python to implement error handling and exception handling mechanisms. They serve different purposes in handling exceptions:\n",
    "    \n",
    "__try clause__: is used to enclose the code block that may potentially raise an exception. It allows you to specify a section of code where you anticipate the occurrence of exceptions. The purpose of the try clause is to monitor the code within it and detect any exceptions that may occur during its execution.<br>\n",
    "\n",
    "\n",
    "__The syntax of a try block is as follows:__<br>\n",
    "\n",
    "\n",
    "try:<br>\n",
    "    # Code that might raise an exception<br>\n",
    "    # ...<br>\n",
    "except ExceptionType:<br>\n",
    "    # Exception handling code<br>\n",
    "    # ...<br>"
   ]
  },
  {
   "cell_type": "markdown",
   "id": "81d47ece",
   "metadata": {},
   "source": [
    "__except clause__ follows the try block and is used to define the actions to be taken when a specific exception occurs. <br>It allows you to specify the type of exception you want to handle and provides a code block to handle that exception.<br>\n",
    "\n",
    "\n",
    "except ExceptionType:<br>\n",
    "    # Exception handling code<br>\n",
    "    # ...<br>\n"
   ]
  },
  {
   "cell_type": "code",
   "execution_count": null,
   "id": "b06d5c67",
   "metadata": {},
   "outputs": [],
   "source": []
  }
 ],
 "metadata": {
  "kernelspec": {
   "display_name": "Python 3 (ipykernel)",
   "language": "python",
   "name": "python3"
  },
  "language_info": {
   "codemirror_mode": {
    "name": "ipython",
    "version": 3
   },
   "file_extension": ".py",
   "mimetype": "text/x-python",
   "name": "python",
   "nbconvert_exporter": "python",
   "pygments_lexer": "ipython3",
   "version": "3.9.7"
  }
 },
 "nbformat": 4,
 "nbformat_minor": 5
}
