{
 "cells": [
  {
   "cell_type": "markdown",
   "id": "4915995a",
   "metadata": {},
   "source": [
    "__Question 1. What is the role of the 'else' block in a try-except statement? Provide an example\n",
    "scenario where it would be useful.__"
   ]
  },
  {
   "cell_type": "markdown",
   "id": "b47d6163",
   "metadata": {},
   "source": [
    "Ans: <br>The 'else' block in a try-except statement is an optional block that follows all the except blocks. Its role is to define a section of code that should be executed if no exceptions occur within the try block.<br>\n",
    "\n",
    "The 'else' block is useful in scenarios where you want to perform certain actions only when the try block executes successfully without any exceptions. It allows you to separate the code that might raise exceptions from the code that should run only when no exceptions occur.<br>"
   ]
  },
  {
   "cell_type": "code",
   "execution_count": 2,
   "id": "5b5c9372",
   "metadata": {},
   "outputs": [
    {
     "name": "stdout",
     "output_type": "stream",
     "text": [
      "Enter the file name: 12\n",
      "Error: The file does not exist.\n"
     ]
    }
   ],
   "source": [
    "try:\n",
    "    # Code that may raise exceptions\n",
    "    file_name = input(\"Enter the file name: \")\n",
    "    file = open(file_name, 'r')\n",
    "    lines = file.readlines()\n",
    "    file.close()\n",
    "except FileNotFoundError:\n",
    "    print(\"Error: The file does not exist.\")\n",
    "else:\n",
    "    # Code to execute if no exceptions occur\n",
    "    print(\"File contains\", len(lines), \"lines.\")\n"
   ]
  },
  {
   "cell_type": "markdown",
   "id": "cb291ccd",
   "metadata": {},
   "source": [
    "In this example, the program prompts the user to enter a file name. It attempts to open the file, read its lines, and store them in a list. If a FileNotFoundError occurs because the specified file does not exist, the program jumps to the except block and displays an error message. However, if no exceptions occur, the program executes the code within the else block, which displays the number of lines in the file.<br>\n",
    "\n",
    "Using the else block in this scenario allows you to separate the code that handles the exceptional case (file not found) from the code that executes when the file is successfully opened and read. It provides a cleaner structure and improves code readability by clearly defining the code sections based on whether exceptions occurred or not.<br>"
   ]
  },
  {
   "cell_type": "markdown",
   "id": "9b3af17d",
   "metadata": {},
   "source": [
    "__Question 2. Can a try-except block be nested inside another try-except block? Explain with an\n",
    "example.__"
   ]
  },
  {
   "cell_type": "code",
   "execution_count": 5,
   "id": "93e1be13",
   "metadata": {},
   "outputs": [
    {
     "name": "stdout",
     "output_type": "stream",
     "text": [
      "Enter the numerator: 12\n",
      "Enter the denominator: 89\n",
      "Result: 0.1348314606741573\n"
     ]
    }
   ],
   "source": [
    "try:\n",
    "    # Outer try block\n",
    "    numerator = int(input(\"Enter the numerator: \"))\n",
    "    denominator = int(input(\"Enter the denominator: \"))\n",
    "\n",
    "    try:\n",
    "        # Inner try block\n",
    "        result = numerator / denominator\n",
    "        print(\"Result:\", result)\n",
    "    except ZeroDivisionError:\n",
    "        print(\"Error: Division by zero is not allowed.\")\n",
    "except ValueError:\n",
    "    print(\"Error: Invalid input.\")\n"
   ]
  },
  {
   "cell_type": "markdown",
   "id": "8ef0f65b",
   "metadata": {},
   "source": [
    "In this example, we have an outer try-except block and an inner try-except block:<br>\n",
    "\n",
    "The outer try block prompts the user to enter a numerator and a denominator, attempting to convert them to integers.<br> If a ValueError occurs during the conversion (e.g., non-numeric input), the outer except block is executed, displaying an error message related to invalid input.<br>\n",
    "\n",
    "Within the outer try block, there is an inner try block that performs the division operation. If a ZeroDivisionError occurs due to dividing by zero, the inner except block is executed, displaying an error message specifically related to division by zero.<br>\n",
    "\n",
    "By nesting try-except blocks, you can handle exceptions at different levels based on their relevance to specific code sections. The inner except block allows for specific handling of a ZeroDivisionError, while the outer except block captures more general exceptions related to input validation. This nesting provides a hierarchical structure to the exception handling and allows for more fine-grained error management.<br>"
   ]
  },
  {
   "cell_type": "markdown",
   "id": "b976f851",
   "metadata": {},
   "source": [
    "__Question 3. How can you create a custom exception class in Python? Provide an example that\n",
    "demonstrates its usage.__"
   ]
  },
  {
   "cell_type": "markdown",
   "id": "87720bb1",
   "metadata": {},
   "source": [
    "In Python, you can create a custom exception class by defining a new class that inherits from the built-in Exception class or any of its subclasses. To create a custom exception class, you typically define the class and optionally add custom attributes or methods."
   ]
  },
  {
   "cell_type": "code",
   "execution_count": 7,
   "id": "8298cabe",
   "metadata": {},
   "outputs": [
    {
     "name": "stdout",
     "output_type": "stream",
     "text": [
      "Custom Exception occurred: Error: Division by zero is not allowed.\n"
     ]
    }
   ],
   "source": [
    "class CustomException(Exception):\n",
    "    def __init__(self, message):\n",
    "        self.message = message\n",
    "\n",
    "    def __str__(self):\n",
    "        return self.message\n",
    "\n",
    "\n",
    "def divide_numbers(num1, num2):\n",
    "    if num2 == 0:\n",
    "        raise CustomException(\"Error: Division by zero is not allowed.\")\n",
    "    return num1 / num2\n",
    "\n",
    "\n",
    "try:\n",
    "    result = divide_numbers(10, 0)\n",
    "    print(\"Result:\", result)\n",
    "except CustomException as e:\n",
    "    print(\"Custom Exception occurred:\", str(e))\n"
   ]
  },
  {
   "cell_type": "markdown",
   "id": "a2122dfd",
   "metadata": {},
   "source": [
    "In this example, we define a custom exception class CustomException that inherits from the base Exception class. The CustomException class has an __init__ method to initialize the exception with a custom error message and a __str__ method to provide a string representation of the exception."
   ]
  },
  {
   "cell_type": "markdown",
   "id": "f2f65e17",
   "metadata": {},
   "source": [
    "__Question 4. What are some common exceptions that are built-in to Python?__"
   ]
  },
  {
   "cell_type": "markdown",
   "id": "0157e600",
   "metadata": {},
   "source": [
    "Python provides a set of built-in exceptions that cover a wide range of common error conditions. Here are some commonly used built-in exceptions in Python:<br>\n",
    "\n",
    "1.SyntaxError: Raised when there is a syntax error in the code.<br>\n",
    "2.IndentationError: Raised when there is an indentation-related error, such as inconsistent or incorrect indentation.<br>\n",
    "3.NameError: Raised when a local or global name is not found.<br>\n",
    "4.TypeError: Raised when an operation or function is applied to an object of an inappropriate type.<br>\n",
    "5.ValueError: Raised when a function receives an argument of the correct type but an invalid value.<br>\n",
    "6.IndexError: Raised when an index used to access a sequence (e.g., list, tuple, string) is out of range.<br>\n",
    "7.KeyError: Raised when a dictionary key is not found.<br>\n",
    "8.FileNotFoundError: Raised when a file or directory is not found.<br>\n",
    "9.ZeroDivisionError: Raised when division or modulo operation is performed with a divisor of zero.<br>\n",
    "10.IOError: Raised when an input/output operation fails.<br>\n",
    "11.AttributeError: Raised when an attribute reference or assignment fails.<br>\n",
    "12.ImportError: Raised when an imported module or name cannot be found.<br>"
   ]
  },
  {
   "cell_type": "markdown",
   "id": "5643a499",
   "metadata": {},
   "source": [
    "__Question 5. What is logging in Python, and why is it important in software development?__"
   ]
  },
  {
   "cell_type": "markdown",
   "id": "698d957c",
   "metadata": {},
   "source": [
    "Ans:Logging in Python refers to the process of recording and storing informational messages, warnings, errors, and other relevant details during the execution of a program. The logging module in Python provides a flexible and powerful framework for logging.<br>\n",
    "\n",
    "Logging is important in software development for several reasons:<br>\n",
    "\n",
    "__1.Debugging and Troubleshooting:__<br> Logging allows developers to track the flow of execution, identify issues, and debug problems in their code. By logging relevant information, such as variable values or the execution path, developers can gain insights into the program's behavior and diagnose issues more effectively.<br>\n",
    "\n",
    "__2.Error Handling and Exception Tracking:__<br> Logging provides a mechanism to record and handle errors and exceptions in a structured way. When exceptions occur, logging can capture the details of the error, including the traceback, which can be invaluable for identifying the root cause of an issue.<br>\n",
    "<br>\n",
    "__3.Monitoring and Performance Analysis:__<br> Logging allows developers and system administrators to monitor the performance and health of an application. By logging performance metrics, resource usage, and other relevant information, it becomes easier to analyze and optimize the application's performance.<br>"
   ]
  },
  {
   "cell_type": "markdown",
   "id": "eeabba52",
   "metadata": {},
   "source": [
    "__Question 6. Explain the purpose of log levels in Python logging and provide examples of when\n",
    "each log level would be appropriate.__"
   ]
  },
  {
   "cell_type": "markdown",
   "id": "a53b80b0",
   "metadata": {},
   "source": [
    "Ans:Log levels in Python logging allow you to categorize and filter log messages based on their importance or severity. Python's logging module provides different log levels to cater to various types of messages and their significance. Here are the commonly used log levels, in ascending order of severity:"
   ]
  },
  {
   "cell_type": "markdown",
   "id": "3834041f",
   "metadata": {},
   "source": [
    "__1 DEBUG:__ Detailed information for debugging purposes. These messages are typically used during development and provide granular insights into the program's execution flow, variable values, or specific events. \n"
   ]
  },
  {
   "cell_type": "code",
   "execution_count": null,
   "id": "f65366ad",
   "metadata": {},
   "outputs": [],
   "source": [
    "import logging\n",
    "\n",
    "logging.basicConfig(level=logging.DEBUG)\n",
    "logging.debug(\"Variable x = %s\", x)\n"
   ]
  },
  {
   "cell_type": "markdown",
   "id": "8f7fd000",
   "metadata": {},
   "source": [
    "__2.INFO:__ Informational messages that highlight the progress or milestones in the program. These messages indicate the normal functioning of the application and are often used to keep track of important events"
   ]
  },
  {
   "cell_type": "code",
   "execution_count": null,
   "id": "431acf1b",
   "metadata": {},
   "outputs": [],
   "source": [
    "import logging\n",
    "\n",
    "logging.basicConfig(level=logging.INFO)\n",
    "logging.info(\"Processing completed successfully.\")\n"
   ]
  },
  {
   "cell_type": "markdown",
   "id": "acb6682b",
   "metadata": {},
   "source": [
    "__3.WARNING:__ Messages that indicate potential issues or unexpected situations that may cause problems but do not halt the program's execution. These messages serve as a cautionary sign and can help identify potential problems. Example usage:"
   ]
  },
  {
   "cell_type": "code",
   "execution_count": null,
   "id": "5110add4",
   "metadata": {},
   "outputs": [],
   "source": [
    "import logging\n",
    "\n",
    "logging.basicConfig(level=logging.WARNING)\n",
    "logging.warning(\"Disk space is running low.\")\n"
   ]
  },
  {
   "cell_type": "markdown",
   "id": "84d78102",
   "metadata": {},
   "source": [
    "__4.ERROR:__ Messages that indicate errors or exceptional conditions that prevent a specific operation or task from completing successfully. These messages highlight significant issues that need attenti"
   ]
  },
  {
   "cell_type": "code",
   "execution_count": null,
   "id": "bbe0484b",
   "metadata": {},
   "outputs": [],
   "source": [
    "import logging\n",
    "\n",
    "logging.basicConfig(level=logging.ERROR)\n",
    "logging.error(\"Failed to open the file: %s\", filename)\n"
   ]
  },
  {
   "cell_type": "markdown",
   "id": "2a8442fe",
   "metadata": {},
   "source": [
    "__5.CRITICAL:__ Messages that represent critical errors or failures that may lead to the termination of the program. These messages indicate severe problems that require immediate attention."
   ]
  },
  {
   "cell_type": "code",
   "execution_count": null,
   "id": "541fd59a",
   "metadata": {},
   "outputs": [],
   "source": [
    "import logging\n",
    "\n",
    "logging.basicConfig(level=logging.CRITICAL)\n",
    "logging.critical(\"Server connection lost. Shutting down.\")\n"
   ]
  },
  {
   "cell_type": "markdown",
   "id": "0e90d627",
   "metadata": {},
   "source": [
    "__Question 7. What are log formatters in Python logging, and how can you customise the log\n",
    "message format using formatters?__"
   ]
  },
  {
   "cell_type": "markdown",
   "id": "0529dc0f",
   "metadata": {},
   "source": [
    "Ans:Log formatters in Python logging allow you to customize the format of log messages, specifying how the log records should be displayed. Formatters define the structure and content of the log messages, including information such as timestamp, log level, module name, and the actual log message.\n",
    "\n",
    "Python's logging module provides a set of pre-defined formatters, and you can also create custom formatters to suit your specific needs.\n",
    "\n",
    "__To customize the log message format using formatters, you need to follow these steps:__\n",
    "\n",
    "__1.Create a formatter object:__ Instantiate a formatter class, such as logging.Formatter, to define the desired log message format.\n",
    "\n",
    "__2.Configure the formatter:__ Customize the formatter object by setting various attributes, such as fmt (format string), datefmt (date and time format), and others.\n",
    "\n",
    "__3.Assign the formatter to a logger:__ Associate the formatter object with the logger by setting the formatter attribute of the logger's handler(s)."
   ]
  },
  {
   "cell_type": "code",
   "execution_count": 9,
   "id": "8bdcab59",
   "metadata": {},
   "outputs": [
    {
     "name": "stderr",
     "output_type": "stream",
     "text": [
      "INFO:root:This is an informational message.\n",
      "2023-07-14 00:25:51 - INFO - This is an informational message.\n",
      "ERROR:root:An error occurred.\n",
      "2023-07-14 00:25:51 - ERROR - An error occurred.\n"
     ]
    }
   ],
   "source": [
    "import logging\n",
    "\n",
    "# Step 1: Create a formatter object\n",
    "formatter = logging.Formatter(\"%(asctime)s - %(levelname)s - %(message)s\")\n",
    "\n",
    "# Step 2: Configure the formatter (optional)\n",
    "formatter.datefmt = \"%Y-%m-%d %H:%M:%S\"\n",
    "\n",
    "# Step 3: Assign the formatter to the logger\n",
    "logger = logging.getLogger()\n",
    "handler = logging.StreamHandler()\n",
    "handler.setFormatter(formatter)\n",
    "logger.addHandler(handler)\n",
    "\n",
    "# Log messages using the customized format\n",
    "logger.info(\"This is an informational message.\")\n",
    "logger.error(\"An error occurred.\")\n",
    "\n"
   ]
  },
  {
   "cell_type": "markdown",
   "id": "9c4bed8e",
   "metadata": {},
   "source": [
    "__In this example:__\n",
    "\n",
    "__Step 1:__A formatter object is created using logging.Formatter(\"%(asctime)s - %(levelname)s - %(message)s\"). This format string specifies the desired format of the log message, including the timestamp, log level, and the log message itself.\n",
    "\n",
    "__Step 2 (optional):__ The formatter object's datefmt attribute is set to specify the date and time format. In this case, it is set to \"%Y-%m-%d %H:%M:%S\".\n",
    "\n",
    "__Step 3:__The formatter object is assigned to the logger by creating a handler (in this case, StreamHandler) and associating the formatter with it using handler.setFormatter(formatter). The handler is added to the logger using logger.addHandler(handler)."
   ]
  },
  {
   "cell_type": "markdown",
   "id": "64a821c5",
   "metadata": {},
   "source": [
    "__Question 8. How can you set up logging to capture log messages from multiple modules or\n",
    "classes in a Python application?__"
   ]
  },
  {
   "cell_type": "markdown",
   "id": "38e77768",
   "metadata": {},
   "source": [
    "\n",
    "ANS:To capture log messages from multiple modules or classes in a Python application, you can set up logging with a shared logger and configure it appropriately. Here's how you can achieve this:<BR>\n",
    "\n",
    "__1.Create a shared logger:__ Create a logger object using logging.getLogger() without specifying a name. This creates a root logger that serves as a shared logger for the entire application.<BR>\n",
    "\n",
    "__2.Configure the shared logger:__ Configure the shared logger according to your requirements. This includes setting the log level, adding handlers, and applying formatters.<BR>\n",
    "\n",
    "__3.Use the shared logger in modules or classes:__ In each module or class where you want to capture log messages, import the shared logger using logging.getLogger() without specifying a name. This ensures that the same shared logger is used across all modules or classes.<BR>\n",
    "\n",
    "By using the same shared logger throughout the application, you ensure that log messages are collected and processed consistently.<BR>"
   ]
  },
  {
   "cell_type": "code",
   "execution_count": null,
   "id": "21fc8150",
   "metadata": {},
   "outputs": [],
   "source": [
    "import logging\n",
    "import module1\n",
    "import module2\n",
    "\n",
    "# Step 1: Create a shared logger\n",
    "logger = logging.getLogger()\n",
    "\n",
    "# Step 2: Configure the shared logger\n",
    "logger.setLevel(logging.DEBUG)\n",
    "formatter = logging.Formatter(\"%(asctime)s - %(levelname)s - %(message)s\")\n",
    "handler = logging.StreamHandler()\n",
    "handler.setFormatter(formatter)\n",
    "logger.addHandler(handler)\n",
    "\n",
    "# Step 3: Use the shared logger in modules or classes\n",
    "logger.info(\"Application started\")\n",
    "module1.do_something()\n",
    "module2.do_something_else()\n"
   ]
  },
  {
   "cell_type": "code",
   "execution_count": null,
   "id": "e2b96299",
   "metadata": {},
   "outputs": [],
   "source": [
    "# Module1.py\n",
    "import logging\n",
    "\n",
    "logger = logging.getLogger()\n",
    "\n",
    "def do_something():\n",
    "    logger.debug(\"Doing something\")\n",
    "    # More code here\n"
   ]
  },
  {
   "cell_type": "code",
   "execution_count": null,
   "id": "82236758",
   "metadata": {},
   "outputs": [],
   "source": [
    "# module2.py\n",
    "import logging\n",
    "\n",
    "logger = logging.getLogger()\n",
    "\n",
    "def do_something():\n",
    "    logger.debug(\"Doing something\")\n",
    "    # More code here\n"
   ]
  },
  {
   "cell_type": "markdown",
   "id": "f33ca450",
   "metadata": {},
   "source": [
    "In this example, the logging.getLogger() function is used to create the shared logger in the main.py file. The shared logger is then configured with a log level, a formatter, and a handler. Both module1.py and module2.py import the shared logger using logging.getLogger() without specifying a name, ensuring that they use the same shared logger created in main.py."
   ]
  },
  {
   "cell_type": "markdown",
   "id": "18aae764",
   "metadata": {},
   "source": [
    "__Question 9. What is the difference between the logging and print statements in Python? When\n",
    "should you use logging over print statements in a real-world application?__"
   ]
  },
  {
   "cell_type": "markdown",
   "id": "e008c331",
   "metadata": {},
   "source": [
    "__Logging:__ Logging is recommended for real-world applications for several reasons:<br>\n",
    "\n",
    "1.It allows you to separate debugging and diagnostic information from regular output, making it easier to identify and address issues.<br>\n",
    "\n",
    "2.Log messages can be categorized into different levels (e.g., debug, info, warning, error, critical), allowing you to filter and control the verbosity of the logs based on the deployment environment.<br>\n",
    "\n",
    "3.Logging provides flexibility to write log messages to various destinations (e.g., console, file, database), making it easier to collect and analyze log data.<br>\n",
    "\n",
    "4.Log messages can be timestamped, include additional context information, and follow a consistent format, aiding in troubleshooting and analysis.<br>"
   ]
  },
  {
   "cell_type": "markdown",
   "id": "ecb84cc1",
   "metadata": {},
   "source": [
    "__Print statements:__<br> Print statements have limited functionality and are typically used in simpler scenarios, such as quick debugging or displaying information during development. They are not suitable for production environments or long-term maintenance of an application. Print statements may clutter the output, lack flexibility in controlling log levels, and can be challenging to disable or manage in a larger codebase.<br>\n",
    "\n",
    "In summary, while print statements are quick and simple for basic output, logging provides a more powerful and structured approach to handle logging needs in real-world applications. Logging allows you to categorize, control, and format log messages, making it the recommended choice for capturing and managing important information, warnings, and errors in a production environment.<br>"
   ]
  },
  {
   "cell_type": "markdown",
   "id": "f500de4d",
   "metadata": {},
   "source": [
    "__Question 10. Write a Python program that logs a message to a file named \"app.log\" with the\n",
    "following requirements:<br>\n",
    "● The log message should be \"Hello, World!\"<br>\n",
    "● The log level should be set to \"INFO.\"<br>\n",
    "● The log file should append new log entries without overwriting previous ones.__<br>"
   ]
  },
  {
   "cell_type": "code",
   "execution_count": 13,
   "id": "7294b162",
   "metadata": {},
   "outputs": [],
   "source": [
    "# here is the python program that logs a message to a file \"app.log\" with the specified requirements:\n",
    "import logging\n",
    "\n",
    "# Step 1: Create a logger\n",
    "logger = logging.getLogger()\n",
    "logger.setLevel(logging.INFO)\n",
    "\n",
    "# Step 2: Create a file handler\n",
    "file_handler = logging.FileHandler(\"app.log\", mode=\"a\")  # 'a' for append mode\n",
    "\n",
    "# Step 3: Create a formatter and add it to the file handler\n",
    "formatter = logging.Formatter(\"%(asctime)s - %(levelname)s - %(message)s\")\n",
    "file_handler.setFormatter(formatter)\n",
    "\n",
    "# Step 4: Add the file handler to the logger\n",
    "logger.addHandler(file_handler)\n",
    "\n",
    "# Step 5: Log the message\n",
    "logger.info(\"Hello, World!\")\n",
    "\n",
    "# Step 6: Close the file handler\n",
    "file_handler.close()\n"
   ]
  },
  {
   "cell_type": "markdown",
   "id": "89776d17",
   "metadata": {},
   "source": [
    "This program logs the message \"Hello, World!\" to the file named \"app.log\" with the log level set to \"INFO.\" It ensures that new log entries are appended to the file without overwriting previous ones."
   ]
  },
  {
   "cell_type": "markdown",
   "id": "dc4e2dc5",
   "metadata": {},
   "source": [
    "__1.Create a logger:__ The program creates a logger using logging.getLogger() without specifying a name, which creates a root logger.\n",
    "\n",
    "__2.Set the log level:__ The logger's log level is set to logging.INFO to log messages with an informational level or above.\n",
    "\n",
    "__3.Create a file handler:__ A FileHandler is created, specifying the filename as \"app.log\" and the mode as \"a\" for append mode. This handler will write log messages to the file and append new entries without overwriting previous ones.\n",
    "\n",
    "__4.Create a formatter:__ A formatter is created using the logging.Formatter class, with the desired log message format specified as \"%(asctime)s - %(levelname)s - %(message)s\".\n",
    "\n",
    "__5.Assign the formatter to the file handler:__ The formatter is added to the file handler using file_handler.setFormatter(formatter), ensuring that log messages written to the file will be in the desired format.\n",
    "\n",
    "__6.Add the file handler to the logger:__ The file handler is added to the logger using logger.addHandler(file_handler), enabling the logger to write log messages to the file.\n",
    "\n",
    "__7.Log the message:__ The program logs the message \"Hello, World!\" using logger.info(\"Hello, World!\").\n",
    "\n",
    "__8.Close the file handler:__ After logging the message, the file handler is closed using file_handler.close() to ensure that any buffered log messages are flushed to the file.\n",
    "\n",
    "After running this program, you should find the log message \"Hello, World!\" appended to the \"app.log\" file in the same directory as the Python script."
   ]
  },
  {
   "cell_type": "markdown",
   "id": "7a9fdbda",
   "metadata": {},
   "source": [
    "__Question 11. Create a Python program that logs an error message to the console and a file named\n",
    "\"errors.log\" if an exception occurs during the program's execution. The error\n",
    "message should include the exception type and a timestamp.__"
   ]
  },
  {
   "cell_type": "markdown",
   "id": "a634ee83",
   "metadata": {},
   "source": [
    "Certainly! Here's a Python program that logs an error message to the console and a file named \"errors.log\" when an exception occurs during the program's execution. The error message includes the exception type and a timestamp."
   ]
  },
  {
   "cell_type": "code",
   "execution_count": 14,
   "id": "5505aafb",
   "metadata": {},
   "outputs": [
    {
     "name": "stderr",
     "output_type": "stream",
     "text": [
      "ERROR:root:2023-07-14 00:48:11 - Exception: ValueError - An error occurred!\n",
      "2023-07-14 00:48:11 - ERROR - 2023-07-14 00:48:11 - Exception: ValueError - An error occurred!\n",
      "2023-07-14 00:48:11,654 - ERROR - 2023-07-14 00:48:11 - Exception: ValueError - An error occurred!\n"
     ]
    }
   ],
   "source": [
    "import logging\n",
    "import datetime\n",
    "\n",
    "# Step 1: Create a logger\n",
    "logger = logging.getLogger()\n",
    "logger.setLevel(logging.ERROR)\n",
    "\n",
    "# Step 2: Create a console handler\n",
    "console_handler = logging.StreamHandler()\n",
    "logger.addHandler(console_handler)\n",
    "\n",
    "# Step 3: Create a file handler\n",
    "file_handler = logging.FileHandler(\"errors.log\")\n",
    "logger.addHandler(file_handler)\n",
    "\n",
    "# Step 4: Create a formatter and add it to the handlers\n",
    "formatter = logging.Formatter(\"%(asctime)s - %(levelname)s - %(message)s\")\n",
    "console_handler.setFormatter(formatter)\n",
    "file_handler.setFormatter(formatter)\n",
    "\n",
    "try:\n",
    "    # Your program code here\n",
    "    # ...\n",
    "    # Simulating an exception\n",
    "    raise ValueError(\"An error occurred!\")\n",
    "except Exception as e:\n",
    "    # Step 5: Log the error message with exception type and timestamp\n",
    "    error_message = f\"Exception: {type(e).__name__} - {str(e)}\"\n",
    "    timestamp = datetime.datetime.now().strftime(\"%Y-%m-%d %H:%M:%S\")\n",
    "    logger.error(\"%s - %s\", timestamp, error_message)\n"
   ]
  },
  {
   "cell_type": "markdown",
   "id": "67b3e54d",
   "metadata": {},
   "source": [
    "__1.Create a logger:__The program creates a logger using logging.getLogger() without specifying a name, which creates a root logger. The logger's log level is set to logging.ERROR, which will log only error messages or above.\n",
    "\n",
    "__2.Create a console handler:__ A StreamHandler is created to log messages to the console.\n",
    "\n",
    "__3.Create a file handler:__ A FileHandler is created to log messages to the \"errors.log\" file.\n",
    "\n",
    "__4.Create a formatter:__ A formatter is created using the logging.Formatter class, with the desired log message format specified as \"%(asctime)s - %(levelname)s - %(message)s\".\n",
    "\n",
    "__5.Assign the formatter to the handlers:__ The formatter is added to both the console and file handlers using console_handler.setFormatter(formatter) and file_handler.setFormatter(formatter).\n",
    "\n",
    "__6.Try-Except block:__ Inside the try-except block, your program code should be placed. In this example, we simulate an exception by raising a ValueError.\n",
    "\n",
    "__7.Log the error message:__ If an exception occurs, the program logs the error message using logger.error(). The error message includes the exception type (retrieved using type(e).__name__) and the exception's string representation."
   ]
  },
  {
   "cell_type": "markdown",
   "id": "80838089",
   "metadata": {},
   "source": [
    "The error message, along with the exception type and timestamp, will be logged to both the console and the \"errors.log\" file."
   ]
  },
  {
   "cell_type": "code",
   "execution_count": null,
   "id": "fb7c9ff8",
   "metadata": {},
   "outputs": [],
   "source": []
  }
 ],
 "metadata": {
  "kernelspec": {
   "display_name": "Python 3 (ipykernel)",
   "language": "python",
   "name": "python3"
  },
  "language_info": {
   "codemirror_mode": {
    "name": "ipython",
    "version": 3
   },
   "file_extension": ".py",
   "mimetype": "text/x-python",
   "name": "python",
   "nbconvert_exporter": "python",
   "pygments_lexer": "ipython3",
   "version": "3.9.7"
  }
 },
 "nbformat": 4,
 "nbformat_minor": 5
}
