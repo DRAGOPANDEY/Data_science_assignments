{
 "cells": [
  {
   "cell_type": "markdown",
   "id": "ccb86364",
   "metadata": {},
   "source": [
    "__Question 1. What is a lambda function in Python, and how does it differ from a regular function?__"
   ]
  },
  {
   "cell_type": "markdown",
   "id": "53c7b44f",
   "metadata": {},
   "source": [
    "__ANS 1__ __Lambda functions are different from regular functions in a few ways:<br>__\n",
    "\n",
    "Lambda functions are anonymous: They don't have a name and are defined inline. Regular functions, on the other hand, are defined using the def keyword and have a name.<br>\n",
    "\n",
    "Lambda functions can only consist of a single expression: They are limited to a single line of code, which is an expression that is evaluated and returned as the result. Regular functions can have multiple lines of code and can include complex logic.<br>\n",
    "\n",
    "Lambda functions are typically used for simple, one-time operations: Since lambda functions are concise and don't require a <br>separate definition, they are often used for quick and simple tasks. Regular functions are more suitable for complex <br>operations that require multiple lines of code and reusable functionality.<br>\n",
    "\n",
    "Overall, lambda functions provide a compact and convenient way to define and use small, anonymous functions in Python.<br>"
   ]
  },
  {
   "cell_type": "code",
   "execution_count": 3,
   "id": "6209b1ad",
   "metadata": {},
   "outputs": [
    {
     "name": "stdout",
     "output_type": "stream",
     "text": [
      "25\n"
     ]
    }
   ],
   "source": [
    "# example of lambda function\n",
    "square = lambda x: x ** 2\n",
    "result=square(5)\n",
    "print(result)"
   ]
  },
  {
   "cell_type": "markdown",
   "id": "22bba44f",
   "metadata": {},
   "source": [
    "__Question 2. Can a lambda function in Python have multiple arguments? If yes, how can you define and use\n",
    "them?__"
   ]
  },
  {
   "cell_type": "markdown",
   "id": "b1bbb129",
   "metadata": {},
   "source": [
    "Ans:<br>\n",
    "    Yes, a lambda function in Python can have multiple arguments. To define a lambda function with multiple arguments, you <br>simply list the arguments separated by commas after the lambda keyword. Here's the syntax:<p>\n",
    "    You can define as many arguments as you need, and the expression can use these arguments to perform the desired computation. Here's an example of a lambda function with multiple arguments:"
   ]
  },
  {
   "cell_type": "code",
   "execution_count": 5,
   "id": "aa81d643",
   "metadata": {},
   "outputs": [
    {
     "name": "stdout",
     "output_type": "stream",
     "text": [
      "7\n"
     ]
    }
   ],
   "source": [
    "add = lambda x, y: x + y\n",
    "result = add(3, 4)\n",
    "print(result)  # Output: 7\n",
    "\n"
   ]
  },
  {
   "cell_type": "markdown",
   "id": "9c7d1183",
   "metadata": {},
   "source": [
    "You can define lambda functions with any number of arguments, and the expression inside the lambda function can use these arguments in various ways, such as performing mathematical operations, filtering data, or transforming data"
   ]
  },
  {
   "cell_type": "markdown",
   "id": "7e188783",
   "metadata": {},
   "source": [
    "__Question 3. How are lambda functions typically used in Python? Provide an example use case.__"
   ]
  },
  {
   "cell_type": "markdown",
   "id": "060b2c1e",
   "metadata": {},
   "source": [
    "Ans: Lambda functions in Python are commonly used in situations where a small, simple function is needed as an argument to another function. They are often used with functions like map(), filter(), and reduce(), which operate on iterables. Lambda functions provide a concise way to define these small functions on the fly without the need to define a separate named function."
   ]
  },
  {
   "cell_type": "code",
   "execution_count": 7,
   "id": "d839f4d6",
   "metadata": {},
   "outputs": [
    {
     "name": "stdout",
     "output_type": "stream",
     "text": [
      "[1, 4, 9, 16, 25]\n"
     ]
    }
   ],
   "source": [
    "numbers = [1, 2, 3, 4, 5]\n",
    "squared_numbers = list(map(lambda x: x ** 2, numbers))\n",
    "print(squared_numbers)  # Output: [1, 4, 9, 16, 25]\n"
   ]
  },
  {
   "cell_type": "markdown",
   "id": "ab80a9e8",
   "metadata": {},
   "source": [
    "In this example, the lambda function lambda x: x ** 2 is defined inline and passed as an argument to the map() function. The map() function applies the lambda function to each element of the numbers list and returns an iterable containing the squared values. Finally, the list() function is used to convert the iterable into a list."
   ]
  },
  {
   "cell_type": "markdown",
   "id": "1f70b538",
   "metadata": {},
   "source": [
    "__Question 4. What are the advantages and limitations of lambda functions compared to regular functions in\n",
    "Python?__"
   ]
  },
  {
   "cell_type": "markdown",
   "id": "e44a7455",
   "metadata": {},
   "source": [
    "__Ans__Advantages of Lambda Functions:<br>\n",
    "\n",
    "1.Concise Syntax: Lambda functions allow you to define small, anonymous functions in a compact and readable manner. They are particularly useful for simple operations that can be expressed in a single expression.<br>\n",
    "\n",
    "2.Avoiding Function Definition Overhead: Lambda functions eliminate the need to define a separate named function using the def keyword. This can be beneficial when you need a small function for a one-time use without the need for reusability.<br>"
   ]
  },
  {
   "cell_type": "markdown",
   "id": "4a1a95f0",
   "metadata": {},
   "source": [
    "__Limitations of Lambda Functions:__<br>\n",
    "\n",
    "1.Single Expression Limit: Lambda functions are limited to a single expression. They cannot contain multiple statements or complex logic. If you need more complex operations or multiple lines of code, a regular named function using def is more appropriate.<br>\n",
    "\n",
    "2.Lack of Name: Lambda functions are anonymous, which means they don't have a name. This can make it challenging to reuse or reference the function in other parts of the code. Regular functions, with meaningful names, are more suitable for reusable and modular code.<br>\n",
    "\n",
    "3.Limited Functionality: Lambda functions are designed for simple, one-line operations. They are not intended for complex computations or functions with side effects. Regular functions provide more flexibility and allow for additional functionality, such as default arguments, variable annotations, and docstrings.<br>\n",
    "\n",
    "4.Debugging Challenges: Debugging lambda functions can be more difficult compared to regular functions. Since lambda functions lack a name, it can be challenging to identify them in error messages or tracebacks.<br>"
   ]
  },
  {
   "cell_type": "markdown",
   "id": "7d83571b",
   "metadata": {},
   "source": [
    "__Question 5. Are lambda functions in Python able to access variables defined outside of their own scope?\n",
    "Explain with an example.__"
   ]
  },
  {
   "cell_type": "markdown",
   "id": "50ac8ebb",
   "metadata": {},
   "source": [
    "Yes, lambda functions in Python can access variables defined outside of their own scope. This concept is known as \"lexical scoping\" or \"closure.\" When a lambda function is defined, it retains access to variables from the enclosing scope in which it was defined, even if the function is called from a different scope."
   ]
  },
  {
   "cell_type": "code",
   "execution_count": 10,
   "id": "a1ff8017",
   "metadata": {},
   "outputs": [
    {
     "name": "stdout",
     "output_type": "stream",
     "text": [
      "15\n"
     ]
    }
   ],
   "source": [
    "def outer_function():\n",
    "    x = 10\n",
    "    lambda_func = lambda y: x + y\n",
    "    return lambda_func\n",
    "\n",
    "outer_lambda = outer_function()\n",
    "result = outer_lambda(5)\n",
    "print(result)  # Output: 15\n"
   ]
  },
  {
   "cell_type": "markdown",
   "id": "686aa97c",
   "metadata": {},
   "source": [
    "This example demonstrates that lambda functions can \"capture\" variables from their enclosing scope and retain access to those variables even when called from a different scope. This behavior makes lambda functions powerful tools for creating closures and allows them to maintain and use external state within their expressions."
   ]
  },
  {
   "cell_type": "markdown",
   "id": "770c767e",
   "metadata": {},
   "source": [
    "__6. Write a lambda function to calculate the square of a given number.__"
   ]
  },
  {
   "cell_type": "code",
   "execution_count": 12,
   "id": "53bf6e0e",
   "metadata": {},
   "outputs": [
    {
     "name": "stdout",
     "output_type": "stream",
     "text": [
      "25\n"
     ]
    }
   ],
   "source": [
    "square = lambda x: x ** 2\n",
    "\n",
    "result = square(5)\n",
    "print(result) \n"
   ]
  },
  {
   "cell_type": "markdown",
   "id": "1d175490",
   "metadata": {},
   "source": [
    "__7. Create a lambda function to find the maximum value in a list of integers.__"
   ]
  },
  {
   "cell_type": "code",
   "execution_count": 13,
   "id": "87eff7fd",
   "metadata": {},
   "outputs": [
    {
     "name": "stdout",
     "output_type": "stream",
     "text": [
      "9\n"
     ]
    }
   ],
   "source": [
    "find_max = lambda lst: max(lst)\n",
    "numbers = [5, 2, 9, 1, 7]\n",
    "result = find_max(numbers)\n",
    "print(result)  \n",
    "\n"
   ]
  },
  {
   "cell_type": "markdown",
   "id": "8ec12bc6",
   "metadata": {},
   "source": [
    "__8. Implement a lambda function to filter out all the even numbers from a list of integers.__"
   ]
  },
  {
   "cell_type": "code",
   "execution_count": 15,
   "id": "e1f72936",
   "metadata": {},
   "outputs": [
    {
     "name": "stdout",
     "output_type": "stream",
     "text": [
      "[2, 4, 6]\n"
     ]
    }
   ],
   "source": [
    "filter_even = lambda lst: list(filter(lambda x: x % 2 == 0, lst))\n",
    "numbers = [1, 2, 3, 4, 5, 6]\n",
    "result = filter_even(numbers)\n",
    "print(result) \n",
    "\n"
   ]
  },
  {
   "cell_type": "markdown",
   "id": "77d4ab84",
   "metadata": {},
   "source": [
    "In this example, we pass the list [1, 2, 3, 4, 5, 6] as an argument to the filter_even lambda function. The lambda function filters out the even numbers from the list and returns a new list containing only the even numbers. The output will be [2, 4, 6], which are the even numbers from the original list."
   ]
  },
  {
   "cell_type": "markdown",
   "id": "a0cb299d",
   "metadata": {},
   "source": [
    "__9. Write a lambda function to sort a list of strings in ascending order based on the length of each\n",
    "string.__"
   ]
  },
  {
   "cell_type": "code",
   "execution_count": 16,
   "id": "65bde243",
   "metadata": {},
   "outputs": [
    {
     "name": "stdout",
     "output_type": "stream",
     "text": [
      "['apple', 'banana', 'cherry', 'dragonfruit']\n"
     ]
    }
   ],
   "source": [
    "sort_strings_by_length = lambda lst: sorted(lst, key=lambda x: len(x))\n",
    "strings = ['apple', 'banana', 'cherry', 'dragonfruit']\n",
    "result = sort_strings_by_length(strings)\n",
    "print(result) \n",
    "\n"
   ]
  },
  {
   "cell_type": "markdown",
   "id": "0d447cb0",
   "metadata": {},
   "source": [
    "__10. Create a lambda function that takes two lists as input and returns a new list containing the\n",
    "common elements between the two lists.__"
   ]
  },
  {
   "cell_type": "code",
   "execution_count": 20,
   "id": "fe1b208f",
   "metadata": {},
   "outputs": [
    {
     "name": "stdout",
     "output_type": "stream",
     "text": [
      "[4, 5]\n"
     ]
    }
   ],
   "source": [
    "find_common_elements = lambda list1, list2: list(filter(lambda x: x in list2, list1))\n",
    "list1 = [1, 2, 3, 4, 5]\n",
    "list2 = [4, 5, 6, 7, 8]\n",
    "result = find_common_elements(list1, list2)\n",
    "print(result)  \n"
   ]
  },
  {
   "cell_type": "markdown",
   "id": "b685f7f1",
   "metadata": {},
   "source": [
    "__11. Write a recursive function to calculate the factorial of a given positive integer.__"
   ]
  },
  {
   "cell_type": "code",
   "execution_count": 21,
   "id": "9db69369",
   "metadata": {},
   "outputs": [
    {
     "name": "stdout",
     "output_type": "stream",
     "text": [
      "120\n"
     ]
    }
   ],
   "source": [
    "def factorial(n):\n",
    "    if n == 0 or n == 1:\n",
    "        return 1\n",
    "    else:\n",
    "        return n * factorial(n - 1)\n",
    "\n",
    "result = factorial(5)\n",
    "print(result)  # Output: 120\n",
    "\n"
   ]
  },
  {
   "cell_type": "markdown",
   "id": "213f3a01",
   "metadata": {},
   "source": [
    "__12. Implement a recursive function to compute the nth Fibonacci number.__"
   ]
  },
  {
   "cell_type": "code",
   "execution_count": 23,
   "id": "3a7130a5",
   "metadata": {},
   "outputs": [
    {
     "name": "stdout",
     "output_type": "stream",
     "text": [
      "13\n"
     ]
    }
   ],
   "source": [
    "def fibonacci(n):\n",
    "    if n <= 0:\n",
    "        return None  # Invalid input\n",
    "    elif n == 1 or n == 2:\n",
    "        return 1  # Base case\n",
    "    else:\n",
    "        return fibonacci(n - 1) + fibonacci(n - 2)  # Recursive case\n",
    "result = fibonacci(7)\n",
    "print(result)  \n"
   ]
  },
  {
   "cell_type": "markdown",
   "id": "525ed3b3",
   "metadata": {},
   "source": [
    "Please note that the Fibonacci sequence starts with 1, 1, 2, 3, 5, 8, 13, and so on. You can use this recursive function to compute any nth Fibonacci number by providing the desired value as an argument when calling the function."
   ]
  },
  {
   "cell_type": "markdown",
   "id": "edffc6a5",
   "metadata": {},
   "source": [
    "__13. Create a recursive function to find the sum of all the elements in a given list.__"
   ]
  },
  {
   "cell_type": "code",
   "execution_count": 25,
   "id": "d6fcdcd9",
   "metadata": {},
   "outputs": [
    {
     "name": "stdout",
     "output_type": "stream",
     "text": [
      "15\n"
     ]
    }
   ],
   "source": [
    "def recursive_sum(lst):\n",
    "    if len(lst) == 0:\n",
    "        return 0  # Base case: empty list\n",
    "    else:\n",
    "        return lst[0] + recursive_sum(lst[1:])  # Recursive case\n",
    "    \n",
    "my_list = [1, 2, 3, 4, 5]\n",
    "result = recursive_sum(my_list)\n",
    "print(result)  \n"
   ]
  },
  {
   "cell_type": "markdown",
   "id": "32f7c2d4",
   "metadata": {},
   "source": [
    "__14. Write a recursive function to determine whether a given string is a palindrome.__"
   ]
  },
  {
   "cell_type": "code",
   "execution_count": 26,
   "id": "2f70a1ec",
   "metadata": {},
   "outputs": [],
   "source": [
    "def is_palindrome(string):\n",
    "    string = string.lower()  # Convert to lowercase for case-insensitive comparison\n",
    "    if len(string) <= 1:\n",
    "        return True  # Base case: empty string or single character is a palindrome\n",
    "    elif string[0] != string[-1]:\n",
    "        return False  # Base case: first and last characters are different, not a palindrome\n",
    "    else:\n",
    "        return is_palindrome(string[1:-1])  # Recursive case: check the inner substring\n"
   ]
  },
  {
   "cell_type": "code",
   "execution_count": 27,
   "id": "dd64b009",
   "metadata": {},
   "outputs": [
    {
     "name": "stdout",
     "output_type": "stream",
     "text": [
      "True\n",
      "False\n"
     ]
    }
   ],
   "source": [
    "result1 = is_palindrome(\"radar\")\n",
    "print(result1)  # Output: True\n",
    "\n",
    "result2 = is_palindrome(\"Hello\")\n",
    "print(result2)  # Output: False\n"
   ]
  },
  {
   "cell_type": "markdown",
   "id": "fce7baec",
   "metadata": {},
   "source": [
    "__15. Implement a recursive function to find the greatest common divisor (GCD) of two positive integers.__"
   ]
  },
  {
   "cell_type": "code",
   "execution_count": 30,
   "id": "eb2be96d",
   "metadata": {},
   "outputs": [
    {
     "name": "stdout",
     "output_type": "stream",
     "text": [
      "6\n"
     ]
    }
   ],
   "source": [
    "def gcd(a, b):\n",
    "    if b == 0:\n",
    "        return a  # Base case: GCD found\n",
    "    else:\n",
    "        return gcd(b, a % b)  # Recursive case: continue with remainder\n",
    "    \n",
    "result = gcd(48, 18)\n",
    "print(result)  \n"
   ]
  },
  {
   "cell_type": "code",
   "execution_count": null,
   "id": "18bc9bdc",
   "metadata": {},
   "outputs": [],
   "source": []
  }
 ],
 "metadata": {
  "kernelspec": {
   "display_name": "Python 3 (ipykernel)",
   "language": "python",
   "name": "python3"
  },
  "language_info": {
   "codemirror_mode": {
    "name": "ipython",
    "version": 3
   },
   "file_extension": ".py",
   "mimetype": "text/x-python",
   "name": "python",
   "nbconvert_exporter": "python",
   "pygments_lexer": "ipython3",
   "version": "3.9.7"
  }
 },
 "nbformat": 4,
 "nbformat_minor": 5
}
