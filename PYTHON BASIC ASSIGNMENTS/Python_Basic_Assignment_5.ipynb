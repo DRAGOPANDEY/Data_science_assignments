{
 "cells": [
  {
   "cell_type": "markdown",
   "id": "b0eef23b",
   "metadata": {},
   "source": [
    "# Assignment 5"
   ]
  },
  {
   "cell_type": "markdown",
   "id": "bc7f7627",
   "metadata": {},
   "source": [
    "__1. What does an empty dictionary&#39;s code look like?__"
   ]
  },
  {
   "cell_type": "markdown",
   "id": "16e258fe",
   "metadata": {},
   "source": [
    "Ans: An empty dictionary is often represented by two empty curly brackets.<br>\n",
    "__d = {} or d = dict()__"
   ]
  },
  {
   "cell_type": "markdown",
   "id": "4b6b32eb",
   "metadata": {},
   "source": [
    "__2. What is the value of a dictionary value with the key &#39;foo&#39; and the value 42?__"
   ]
  },
  {
   "cell_type": "code",
   "execution_count": 4,
   "id": "00f1fff9",
   "metadata": {},
   "outputs": [
    {
     "name": "stdout",
     "output_type": "stream",
     "text": [
      "42\n"
     ]
    }
   ],
   "source": [
    "# Ans:\n",
    "my_dict = {'foo': 42}    #key 'foo' and the value 42 \n",
    "value = my_dict['foo']\n",
    "print(value)  # Output: 42\n"
   ]
  },
  {
   "cell_type": "markdown",
   "id": "c136246f",
   "metadata": {},
   "source": [
    "__3. What is the most significant distinction between a dictionary and a list?__"
   ]
  },
  {
   "cell_type": "markdown",
   "id": "a46229b5",
   "metadata": {},
   "source": [
    "__Ans:__ Dictionaries are represented by {} where as listed are represented by []<br>\n",
    "The Items stored in a dictionary are Unordered , while the items in a list are ordered\n"
   ]
  },
  {
   "cell_type": "markdown",
   "id": "677564fc",
   "metadata": {},
   "source": [
    "__List__: Elements in a list are accessed by their index, which is a numerical value representing their position in the list. <br>\n",
    "For example, my_list[0] retrieves the first element of the list.<br>\n",
    "__Dictionary:__ Elements in a dictionary are accessed by their keys. The key serves as a unique identifier for a specific value. <br>\n",
    "For example, my_dict['key'] retrieves the value associated with the key 'key'.<br>"
   ]
  },
  {
   "cell_type": "markdown",
   "id": "2089c101",
   "metadata": {},
   "source": [
    "__4. What happens if you try to access spam[&#39;foo&#39;] if spam is {&#39;bar&#39;: 100}?__"
   ]
  },
  {
   "cell_type": "markdown",
   "id": "d7854c06",
   "metadata": {},
   "source": [
    "__Ans__ The __KeyError__ is raised because 'foo' is not a valid key in the dictionary spam.<br> When you try to access a value from a dictionary using square brackets notation, the key you provide must exist in the dictionary.\n"
   ]
  },
  {
   "cell_type": "code",
   "execution_count": 5,
   "id": "008c032b",
   "metadata": {},
   "outputs": [
    {
     "ename": "KeyError",
     "evalue": "'foo'",
     "output_type": "error",
     "traceback": [
      "\u001b[1;31m---------------------------------------------------------------------------\u001b[0m",
      "\u001b[1;31mKeyError\u001b[0m                                  Traceback (most recent call last)",
      "\u001b[1;32m~\\AppData\\Local\\Temp/ipykernel_18208/417530551.py\u001b[0m in \u001b[0;36m<module>\u001b[1;34m\u001b[0m\n\u001b[0;32m      1\u001b[0m \u001b[1;31m# Here's an example:\u001b[0m\u001b[1;33m\u001b[0m\u001b[1;33m\u001b[0m\u001b[0m\n\u001b[0;32m      2\u001b[0m \u001b[0mspam\u001b[0m \u001b[1;33m=\u001b[0m \u001b[1;33m{\u001b[0m\u001b[1;34m'bar'\u001b[0m\u001b[1;33m:\u001b[0m \u001b[1;36m100\u001b[0m\u001b[1;33m}\u001b[0m\u001b[1;33m\u001b[0m\u001b[1;33m\u001b[0m\u001b[0m\n\u001b[1;32m----> 3\u001b[1;33m \u001b[0mvalue\u001b[0m \u001b[1;33m=\u001b[0m \u001b[0mspam\u001b[0m\u001b[1;33m[\u001b[0m\u001b[1;34m'foo'\u001b[0m\u001b[1;33m]\u001b[0m  \u001b[1;31m# Raises KeyError: 'foo'\u001b[0m\u001b[1;33m\u001b[0m\u001b[1;33m\u001b[0m\u001b[0m\n\u001b[0m",
      "\u001b[1;31mKeyError\u001b[0m: 'foo'"
     ]
    }
   ],
   "source": [
    "# Here's an example:\n",
    "spam = {'bar': 100}\n",
    "value = spam['foo']  # Raises KeyError: 'foo'"
   ]
  },
  {
   "cell_type": "markdown",
   "id": "0dd6b975",
   "metadata": {},
   "source": [
    "__5. If a dictionary is stored in spam, what is the difference between the expressions &#39;cat&#39; in spam and\n",
    "&#39;cat&#39; in spam.keys()?__"
   ]
  },
  {
   "cell_type": "markdown",
   "id": "7987b907",
   "metadata": {},
   "source": [
    "__Ans: There is no difference . The operator checks whether a value exits as a key in the dictionary or not__"
   ]
  },
  {
   "cell_type": "markdown",
   "id": "17094518",
   "metadata": {},
   "source": [
    "'cat' in spam: This expression checks if the key 'cat' exists in the dictionary spam.<br>It directly checks the keys of the dictionary without explicitly invoking the keys() method. It returns a boolean value (True or False) indicating whether the key is present in the dictionary.\n",
    "\n",
    "__If 'cat' is a key in spam, the expression 'cat' in spam will evaluate to True.<br>\n",
    "If 'cat' is not a key in spam, the expression 'cat' in spam will evaluate to False.<br>__\n"
   ]
  },
  {
   "cell_type": "markdown",
   "id": "54adb778",
   "metadata": {},
   "source": [
    "__6. If a dictionary is stored in spam, what is the difference between the expressions &#39;cat&#39; in spam and\n",
    "&#39;cat&#39; in spam.values()?__"
   ]
  },
  {
   "cell_type": "markdown",
   "id": "06eaa950",
   "metadata": {},
   "source": [
    "__Ans:__'cat' in spam checks whether there is a 'cat' key in the dictionary, while 'cat' in spam.values() checks whether there is a value 'cat' for one of the keys in spam."
   ]
  },
  {
   "cell_type": "markdown",
   "id": "63d0ae7b",
   "metadata": {},
   "source": [
    "__7. What is a shortcut for the following code?<br>\n",
    "if &#39;color&#39; not in spam:<br>\n",
    "spam[&#39;color&#39;] = &#39;black&#39;__"
   ]
  },
  {
   "cell_type": "markdown",
   "id": "256fd08c",
   "metadata": {},
   "source": [
    "__Ans__ A shortcut for the given code is to use the dict.setdefault() method. The setdefault() method allows you to specify a default value for a key if the key does not exist in the dictionary.\n",
    "\n"
   ]
  },
  {
   "cell_type": "code",
   "execution_count": 9,
   "id": "098476d6",
   "metadata": {},
   "outputs": [
    {
     "data": {
      "text/plain": [
       "'black'"
      ]
     },
     "execution_count": 9,
     "metadata": {},
     "output_type": "execute_result"
    }
   ],
   "source": [
    "# Here's the equivalent shortcut code: \n",
    "spam.setdefault('color', 'black')\n"
   ]
  },
  {
   "cell_type": "markdown",
   "id": "e890c01e",
   "metadata": {},
   "source": [
    "In this code, spam.setdefault('color', 'black') checks if the key 'color' exists in the dictionary spam. If the key is present, it returns the corresponding value. If the key is not present, it adds the key-value pair 'color': 'black' to the dictionary. This achieves the same result as the original code snippet but in a more concise way."
   ]
  },
  {
   "cell_type": "markdown",
   "id": "61bfe05a",
   "metadata": {},
   "source": [
    "__8. How do you &quot;pretty print&quot; dictionary values using which module and function?__"
   ]
  },
  {
   "cell_type": "markdown",
   "id": "b5f985d5",
   "metadata": {},
   "source": [
    "__Ans:__To \"pretty print\" dictionary values in a formatted and readable way, you can use the pprint module and its pprint() function in Python.\n",
    "\n"
   ]
  },
  {
   "cell_type": "code",
   "execution_count": 18,
   "id": "e82ccde6",
   "metadata": {},
   "outputs": [
    {
     "name": "stdout",
     "output_type": "stream",
     "text": [
      "Printing using print() function\n",
      " [{'Name': 'John', 'Age': '23', 'Residence': {'Country': 'USA', 'City': 'New York'}}, {'Name': 'Jose', 'Age': '44', 'Residence': {'Country': 'Spain', 'City': 'Madrid'}}, {'Name': 'Anne', 'Age': '29', 'Residence': {'Country': 'UK', 'City': 'England'}}, {'Name': 'Lee', 'Age': '35', 'Residence': {'Country': 'Japan', 'City': 'Osaka'}}]\n",
      "->->->->->->->->->->->->->->->->->->->->->->->->->->->->->->->->->->->->->->->->->->->->->->->->->->\n",
      "Printing using pprint() funciton\n",
      "[{'Age': '23',\n",
      "  'Name': 'John',\n",
      "  'Residence': {'City': 'New York', 'Country': 'USA'}},\n",
      " {'Age': '44',\n",
      "  'Name': 'Jose',\n",
      "  'Residence': {'City': 'Madrid', 'Country': 'Spain'}},\n",
      " {'Age': '29',\n",
      "  'Name': 'Anne',\n",
      "  'Residence': {'City': 'England', 'Country': 'UK'}},\n",
      " {'Age': '35',\n",
      "  'Name': 'Lee',\n",
      "  'Residence': {'City': 'Osaka', 'Country': 'Japan'}}]\n",
      "----------------------------------------------------------------------\n"
     ]
    }
   ],
   "source": [
    "ndict = [\n",
    "  {'Name': 'John', 'Age': '23', 'Residence': {'Country':'USA', 'City': 'New York'}},\n",
    "  {'Name': 'Jose', 'Age': '44', 'Residence': {'Country':'Spain', 'City': 'Madrid'}},\n",
    "  {'Name': 'Anne', 'Age': '29', 'Residence': {'Country':'UK', 'City': 'England'}},\n",
    "  {'Name': 'Lee', 'Age': '35', 'Residence': {'Country':'Japan', 'City': 'Osaka'}}\n",
    "]\n",
    "\n",
    "print('Printing using print() function\\n',ndict)\n",
    "print('->'*50)\n",
    "import pprint\n",
    "print('Printing using pprint() funciton')\n",
    "pprint.pprint(ndict)\n",
    "print('-'*70)"
   ]
  },
  {
   "cell_type": "markdown",
   "id": "f19caeae",
   "metadata": {},
   "source": [
    "__In the above example, the pprint.pprint(my_dict) statement pretty prints the dictionary my_dict. The resulting output displays each key-value pair on a separate line, indented and formatted for improved readability.__\n",
    "\n",
    "The pprint module provides additional options for controlling the formatting, such as indentation level and line width. You can explore the documentation of the pprint module to learn more about its functionalities and customization options."
   ]
  },
  {
   "cell_type": "code",
   "execution_count": null,
   "id": "f2b502cd",
   "metadata": {},
   "outputs": [],
   "source": []
  }
 ],
 "metadata": {
  "kernelspec": {
   "display_name": "Python 3 (ipykernel)",
   "language": "python",
   "name": "python3"
  },
  "language_info": {
   "codemirror_mode": {
    "name": "ipython",
    "version": 3
   },
   "file_extension": ".py",
   "mimetype": "text/x-python",
   "name": "python",
   "nbconvert_exporter": "python",
   "pygments_lexer": "ipython3",
   "version": "3.9.7"
  }
 },
 "nbformat": 4,
 "nbformat_minor": 5
}
