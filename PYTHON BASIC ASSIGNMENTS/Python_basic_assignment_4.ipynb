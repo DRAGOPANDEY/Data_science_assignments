{
 "cells": [
  {
   "cell_type": "markdown",
   "id": "c4ae75a0",
   "metadata": {},
   "source": [
    "# Assignment 4"
   ]
  },
  {
   "cell_type": "markdown",
   "id": "9d907935",
   "metadata": {},
   "source": [
    "__1. What exactly is []?__"
   ]
  },
  {
   "cell_type": "markdown",
   "id": "c02649db",
   "metadata": {},
   "source": [
    "Ans:\n",
    "In Python, [] represents an empty list.<br>\n",
    "\n",
    "A list is a built-in data type in Python that can hold an ordered collection of items.<br> Items in a list are enclosed in square brackets [] and separated by commas. An empty list, denoted by [], has no items and represents a list with zero elements."
   ]
  },
  {
   "cell_type": "code",
   "execution_count": 1,
   "id": "bccbec74",
   "metadata": {},
   "outputs": [
    {
     "name": "stdout",
     "output_type": "stream",
     "text": [
      "[]\n"
     ]
    }
   ],
   "source": [
    "my_list = []\n",
    "print(my_list)  # Output: []\n"
   ]
  },
  {
   "cell_type": "markdown",
   "id": "07fea77e",
   "metadata": {},
   "source": [
    "__2. In a list of values stored in a variable called spam, how would you assign the value &#39;hello&#39; as the\n",
    "third value? (Assume [2, 4, 6, 8, 10] are in spam.)__"
   ]
  },
  {
   "cell_type": "markdown",
   "id": "7475c6fb",
   "metadata": {},
   "source": [
    "Ans:\n",
    "    spam[2]='hello' (Note: Lists follows zero based indexing)"
   ]
  },
  {
   "cell_type": "code",
   "execution_count": 5,
   "id": "4f948680",
   "metadata": {},
   "outputs": [
    {
     "name": "stdout",
     "output_type": "stream",
     "text": [
      "[2, 4, 6, 8, 10]\n",
      "[2, 4, 'hello', 8, 10]\n"
     ]
    }
   ],
   "source": [
    "# Example\n",
    "spam=[2,4,6,8,10]\n",
    "print(spam)\n",
    "spam[2]='hello' #List uses zero based indexing\n",
    "print(spam)"
   ]
  },
  {
   "cell_type": "markdown",
   "id": "e9c71487",
   "metadata": {},
   "source": [
    "# Let&#39;s pretend the spam includes the list [&#39;a&#39;, &#39;b&#39;, &#39;c&#39;, &#39;d&#39;] for the next three queries."
   ]
  },
  {
   "cell_type": "markdown",
   "id": "906f6223",
   "metadata": {},
   "source": [
    "__3. What is the value of spam[int(int(&#39;3&#39; * 2) / 11)]?__"
   ]
  },
  {
   "cell_type": "markdown",
   "id": "38a2150f",
   "metadata": {},
   "source": [
    "Ans: 'd' (Note that '3' * 2 is the string '33', which is passed to int() before being divided by 11. This eventually evaluates to 3, spam[3] is equal to d.)\n",
    "\n"
   ]
  },
  {
   "cell_type": "code",
   "execution_count": 7,
   "id": "7eac9721",
   "metadata": {},
   "outputs": [
    {
     "name": "stdout",
     "output_type": "stream",
     "text": [
      "spam[int(int('3'*2)//11)] -> d\n"
     ]
    }
   ],
   "source": [
    "spam=['a','b','c','d']\n",
    "print(\"spam[int(int('3'*2)//11)] ->\",spam[int(int('3'*2)//11)])"
   ]
  },
  {
   "cell_type": "markdown",
   "id": "1e75a823",
   "metadata": {},
   "source": [
    "__4. What is the value of spam[-1]?__"
   ]
  },
  {
   "cell_type": "code",
   "execution_count": 8,
   "id": "100c7c25",
   "metadata": {},
   "outputs": [
    {
     "name": "stdout",
     "output_type": "stream",
     "text": [
      "spam[-1] ->  d\n"
     ]
    }
   ],
   "source": [
    "Ans: spam=['a','b','c','d']\n",
    "print('spam[-1] -> ',spam[-1])"
   ]
  },
  {
   "cell_type": "markdown",
   "id": "6559ce65",
   "metadata": {},
   "source": [
    "__5. What is the value of spam[:2]?__"
   ]
  },
  {
   "cell_type": "code",
   "execution_count": 10,
   "id": "f0ec51b9",
   "metadata": {},
   "outputs": [
    {
     "name": "stdout",
     "output_type": "stream",
     "text": [
      "['a', 'b', 'c', 'd']\n",
      "['a', 'b']\n"
     ]
    }
   ],
   "source": [
    "Ans:print(spam)\n",
    "print(spam[:2])"
   ]
  },
  {
   "cell_type": "markdown",
   "id": "fce7188e",
   "metadata": {},
   "source": [
    "__Let&#39;s pretend bacon has the list [3.14, &#39;cat,&#39; 11, &#39;cat,&#39; True] for the next three questions.__\n",
    "\n",
    "\n",
    "__6. What is the value of bacon.index(&#39;cat&#39;)?__"
   ]
  },
  {
   "cell_type": "code",
   "execution_count": 15,
   "id": "0fedfadb",
   "metadata": {},
   "outputs": [
    {
     "name": "stdout",
     "output_type": "stream",
     "text": [
      "bacon.index('cat')--> 1\n"
     ]
    }
   ],
   "source": [
    "bacon=[3.14, 'cat', 11, 'cat', True]\n",
    "print(\"bacon.index('cat')-->\",bacon.index('cat'))"
   ]
  },
  {
   "cell_type": "markdown",
   "id": "71873d4d",
   "metadata": {},
   "source": [
    "__7. How does bacon.append(99) change the look of the list value in bacon?__"
   ]
  },
  {
   "cell_type": "code",
   "execution_count": 18,
   "id": "185e2a4d",
   "metadata": {},
   "outputs": [
    {
     "name": "stdout",
     "output_type": "stream",
     "text": [
      "[3.14, 'cat', 11, 'cat', True]\n",
      "[3.14, 'cat', 11, 'cat', True, 99]\n"
     ]
    }
   ],
   "source": [
    "bacon=[3.14, 'cat', 11, 'cat', True]\n",
    "print(bacon)\n",
    "bacon.append(99)\n",
    "print(bacon)"
   ]
  },
  {
   "cell_type": "markdown",
   "id": "7c8a5e98",
   "metadata": {},
   "source": [
    "__8. How does bacon.remove(&#39;cat&#39;) change the look of the list in bacon?__"
   ]
  },
  {
   "cell_type": "code",
   "execution_count": 19,
   "id": "098208c1",
   "metadata": {},
   "outputs": [
    {
     "name": "stdout",
     "output_type": "stream",
     "text": [
      "[3.14, 'cat', 11, 'cat', True, 99]\n",
      "[3.14, 11, 'cat', True, 99]\n"
     ]
    }
   ],
   "source": [
    "# Ans:\n",
    "#  The remove method removes the first occurence of the element in the list\n",
    "\n",
    "print(bacon)\n",
    "bacon.remove('cat')\n",
    "print(bacon)"
   ]
  },
  {
   "cell_type": "markdown",
   "id": "54190749",
   "metadata": {},
   "source": [
    "__9. What are the list concatenation and list replication operators?__"
   ]
  },
  {
   "cell_type": "markdown",
   "id": "99f9ce7b",
   "metadata": {},
   "source": [
    "Ans: The operator for list concatenation is +, while the operator for replication is *. (This is the same as for strings.)\n",
    "\n",
    "__1.List Concatenation:__\n",
    "List concatenation allows you to combine two or more lists into a single list. The + operator is used to concatenate lists. When you concatenate lists, a new list is created that contains all the elements from the original lists in the order they were concatenated.\n"
   ]
  },
  {
   "cell_type": "code",
   "execution_count": 22,
   "id": "615aa8a4",
   "metadata": {},
   "outputs": [
    {
     "name": "stdout",
     "output_type": "stream",
     "text": [
      "[1, 2, 3, 4, 5, 6]\n"
     ]
    }
   ],
   "source": [
    "# Here's an example of list concatenation:\n",
    "\n",
    "list1 = [1, 2, 3]\n",
    "list2 = [4, 5, 6]\n",
    "concatenated_list = list1 + list2\n",
    "print(concatenated_list)  # Output: [1, 2, 3, 4, 5, 6]"
   ]
  },
  {
   "cell_type": "markdown",
   "id": "f4cf808b",
   "metadata": {},
   "source": [
    "__2.List Replication:__\n",
    "List replication allows you to create a new list by replicating the elements of an existing list multiple times. The * operator is used for list replication.<br> When you replicate a list, a new list is created that contains multiple copies of the original list's elements.\n"
   ]
  },
  {
   "cell_type": "code",
   "execution_count": 23,
   "id": "3652d166",
   "metadata": {},
   "outputs": [
    {
     "name": "stdout",
     "output_type": "stream",
     "text": [
      "[1, 2, 3, 1, 2, 3, 1, 2, 3]\n"
     ]
    }
   ],
   "source": [
    "# Here's an example of list replication:\n",
    "\n",
    "original_list = [1, 2, 3]\n",
    "replicated_list = original_list * 3\n",
    "print(replicated_list)  # Output: [1, 2, 3, 1, 2, 3, 1, 2, 3]"
   ]
  },
  {
   "cell_type": "markdown",
   "id": "47f908b8",
   "metadata": {},
   "source": [
    "__10. What is difference between the list methods append() and insert()?__"
   ]
  },
  {
   "cell_type": "markdown",
   "id": "a2b7075a",
   "metadata": {},
   "source": [
    "__Ans:__ While append() will add values only to the end of a list, insert() can add them anywhere in the list."
   ]
  },
  {
   "cell_type": "code",
   "execution_count": 25,
   "id": "1e75d04b",
   "metadata": {},
   "outputs": [
    {
     "name": "stdout",
     "output_type": "stream",
     "text": [
      "[1, 2, 3, 4, 5, 6]\n",
      "[1, 2, 'Demo', 3, 4, 5, 6]\n"
     ]
    }
   ],
   "source": [
    "#Examples\n",
    "list = [1,2,3,4,5]\n",
    "list.append(6)\n",
    "print(list)\n",
    "list.insert(2,'Demo')\n",
    "print(list)"
   ]
  },
  {
   "cell_type": "markdown",
   "id": "3d265bd5",
   "metadata": {},
   "source": [
    "__11. What are the two methods for removing items from a list?__"
   ]
  },
  {
   "cell_type": "markdown",
   "id": "6372625f",
   "metadata": {},
   "source": [
    "Ans:\n",
    "__1.list.remove(item):__ This method removes the first occurrence of a specified item from the list. It searches for the item in the list and removes it if found. If the item is not present in the list, it raises a ValueError"
   ]
  },
  {
   "cell_type": "code",
   "execution_count": 29,
   "id": "a014f3be",
   "metadata": {},
   "outputs": [
    {
     "name": "stdout",
     "output_type": "stream",
     "text": [
      "[1, 2, 4, 5]\n"
     ]
    }
   ],
   "source": [
    "my_list = [1, 2, 3, 4, 5]\n",
    "my_list.remove(3)\n",
    "print(my_list)  # Output: [1, 2, 4, 5]\n"
   ]
  },
  {
   "cell_type": "markdown",
   "id": "1195188e",
   "metadata": {},
   "source": [
    "__2.del list[index]:__This statement deletes an item from the list using its index. It directly removes the item at the specified index position from the list.\n",
    "\n"
   ]
  },
  {
   "cell_type": "code",
   "execution_count": 31,
   "id": "f88105d1",
   "metadata": {},
   "outputs": [
    {
     "name": "stdout",
     "output_type": "stream",
     "text": [
      "[1, 2, 4, 5]\n"
     ]
    }
   ],
   "source": [
    "my_list = [1, 2, 3, 4, 5]\n",
    "del my_list[2]\n",
    "print(my_list)  # Output: [1, 2, 4, 5]"
   ]
  },
  {
   "cell_type": "markdown",
   "id": "d21d4da3",
   "metadata": {},
   "source": [
    "__12. Describe how list values and string values are identical.__"
   ]
  },
  {
   "cell_type": "markdown",
   "id": "4b181475",
   "metadata": {},
   "source": [
    "__Ans:__ Both lists and strings can be passed to __len()__ function, have indexes and slices, be used in __for__ loops, be concatenated or replicated, and be used with the __in__ and __not in__ operators."
   ]
  },
  {
   "cell_type": "markdown",
   "id": "bff44f9c",
   "metadata": {},
   "source": [
    "List values and string values in Python share some similarities, but they are fundamentally different data types. Let's explore how they are similar:<br>\n",
    "\n",
    "__Sequence Types:__ Both lists and strings are sequence types in Python. They maintain an ordered collection of elements where each element has a specific index.<br>\n",
    "\n",
    "__Indexing:__Both lists and strings support indexing, allowing you to access individual elements based on their index. Indexing starts from 0, so you can use indices like 0, 1, 2, and so on to retrieve specific elements.<br>\n",
    "\n",
    "__Slicing:__ Both lists and strings support slicing, which enables you to extract subsequences or portions from them by specifying a start and end index.<br>\n",
    "\n",
    "__Iteration:__ Both lists and strings can be iterated over using loops, allowing you to access each element in sequence.<br>"
   ]
  },
  {
   "cell_type": "markdown",
   "id": "19bb3630",
   "metadata": {},
   "source": [
    "__13. What&#39;s the difference between tuples and lists?__"
   ]
  },
  {
   "cell_type": "markdown",
   "id": "771f47ab",
   "metadata": {},
   "source": [
    "__Ans:__ __Lists__ are Mutable, Indexable and Slicable. they can have values added, removed, or changed. <br>__Tuples__ are Immutable but Indexable and Slicable. the tuple values cannot be changed at all.\n",
    "Also, tuples are represented using parentheses, (), while lists use the square brackets, []."
   ]
  },
  {
   "cell_type": "code",
   "execution_count": 36,
   "id": "e38e6e6c",
   "metadata": {},
   "outputs": [
    {
     "name": "stdout",
     "output_type": "stream",
     "text": [
      "[4, 2, 3]\n"
     ]
    }
   ],
   "source": [
    "my_list = [1, 2, 3]\n",
    "my_list[0] = 4  # Modifies the list: [4, 2, 3]\n",
    "print(my_list)\n"
   ]
  },
  {
   "cell_type": "code",
   "execution_count": 39,
   "id": "5528c7e6",
   "metadata": {},
   "outputs": [
    {
     "ename": "TypeError",
     "evalue": "'tuple' object does not support item assignment",
     "output_type": "error",
     "traceback": [
      "\u001b[1;31m---------------------------------------------------------------------------\u001b[0m",
      "\u001b[1;31mTypeError\u001b[0m                                 Traceback (most recent call last)",
      "\u001b[1;32m~\\AppData\\Local\\Temp/ipykernel_10212/159613309.py\u001b[0m in \u001b[0;36m<module>\u001b[1;34m\u001b[0m\n\u001b[0;32m      1\u001b[0m \u001b[0mmy_tuple\u001b[0m \u001b[1;33m=\u001b[0m \u001b[1;33m(\u001b[0m\u001b[1;36m1\u001b[0m\u001b[1;33m,\u001b[0m \u001b[1;36m2\u001b[0m\u001b[1;33m,\u001b[0m \u001b[1;36m3\u001b[0m\u001b[1;33m)\u001b[0m\u001b[1;33m\u001b[0m\u001b[1;33m\u001b[0m\u001b[0m\n\u001b[1;32m----> 2\u001b[1;33m \u001b[0mmy_tuple\u001b[0m\u001b[1;33m[\u001b[0m\u001b[1;36m0\u001b[0m\u001b[1;33m]\u001b[0m \u001b[1;33m=\u001b[0m \u001b[1;36m4\u001b[0m  \u001b[1;31m# Raises TypeError: 'tuple' object does not support item assignment. its not update\u001b[0m\u001b[1;33m\u001b[0m\u001b[1;33m\u001b[0m\u001b[0m\n\u001b[0m\u001b[0;32m      3\u001b[0m \u001b[0mprint\u001b[0m\u001b[1;33m(\u001b[0m\u001b[0mmy_tuple\u001b[0m\u001b[1;33m)\u001b[0m\u001b[1;33m\u001b[0m\u001b[1;33m\u001b[0m\u001b[0m\n",
      "\u001b[1;31mTypeError\u001b[0m: 'tuple' object does not support item assignment"
     ]
    }
   ],
   "source": [
    "my_tuple = (1, 2, 3)\n",
    "my_tuple[0] = 4  # Raises TypeError: 'tuple' object does not support item assignment. its not update \n",
    "print(my_tuple)"
   ]
  },
  {
   "cell_type": "markdown",
   "id": "08f43711",
   "metadata": {},
   "source": [
    "__14. How do you type a tuple value that only contains the integer 42?__"
   ]
  },
  {
   "cell_type": "markdown",
   "id": "c68a2961",
   "metadata": {},
   "source": [
    "__Ans:__ (42,) (The trailing comma is mandatory. otherwise its considered as a int by python Interpreter)"
   ]
  },
  {
   "cell_type": "code",
   "execution_count": 40,
   "id": "61fdeb67",
   "metadata": {},
   "outputs": [
    {
     "name": "stdout",
     "output_type": "stream",
     "text": [
      "<class 'int'>\n",
      "<class 'tuple'>\n"
     ]
    }
   ],
   "source": [
    "tup1=(42)\n",
    "tup2=(42,)\n",
    "print(type(tup1))\n",
    "print(type(tup2))"
   ]
  },
  {
   "cell_type": "markdown",
   "id": "5a252e0f",
   "metadata": {},
   "source": [
    "__15. How do you get a list value&#39;s tuple form? How do you get a tuple value&#39;s list form?__"
   ]
  },
  {
   "cell_type": "markdown",
   "id": "a3f8fd49",
   "metadata": {},
   "source": [
    "__Ans:__To convert a list value to its tuple form, you can use the tuple() function in Python. The tuple() function takes an iterable as an argument and returns a tuple containing the elements of the iterable.\n"
   ]
  },
  {
   "cell_type": "code",
   "execution_count": 45,
   "id": "c4421ba5",
   "metadata": {},
   "outputs": [
    {
     "name": "stdout",
     "output_type": "stream",
     "text": [
      "(1, 2, 3, 4, 5)\n",
      "<class 'tuple'>\n"
     ]
    }
   ],
   "source": [
    "# Here's an example:\n",
    "my_list = [1, 2, 3, 4, 5]\n",
    "my_tuple = tuple(my_list)\n",
    "print(my_tuple)  # Output: (1, 2, 3, 4, 5)\n",
    "print(type(my_tuple))"
   ]
  },
  {
   "cell_type": "markdown",
   "id": "6525ee9a",
   "metadata": {},
   "source": [
    "To tuple convert value to its list form, you can use the list() function. The list() function also takes an iterable as an argument and returns a list containing the elements of the iterable.\n",
    "\n"
   ]
  },
  {
   "cell_type": "code",
   "execution_count": 2,
   "id": "4f8ccde3",
   "metadata": {},
   "outputs": [
    {
     "name": "stdout",
     "output_type": "stream",
     "text": [
      "[1, 2, 3, 4, 5]\n",
      "<class 'list'>\n"
     ]
    }
   ],
   "source": [
    "# Here's an example:\n",
    "my_tuple = (1, 2, 3, 4, 5)\n",
    "my_list = list(my_tuple)\n",
    "print(my_list)  # Output: [1, 2, 3, 4, 5]\n",
    "print(type(my_list))\n"
   ]
  },
  {
   "cell_type": "markdown",
   "id": "e316bb72",
   "metadata": {},
   "source": [
    "__16. Variables that &quot;contain&quot; list values are not necessarily lists themselves. Instead, what do they\n",
    "contain?__"
   ]
  },
  {
   "cell_type": "markdown",
   "id": "e4e28ac5",
   "metadata": {},
   "source": [
    "__Ans:__Variables that \"contain\" list values in Python do not actually contain the list itself. Instead, they contain references to the list objects.\n",
    "\n",
    "In Python, variables are\n",
    "essentially labels or names that reference objects in memory. When a list is assigned to a variable, the variable holds a reference to the memory address where the list is stored. It's important to note that the variable is not storing the list's elements directly, but rather a reference to the list object.\n",
    "\n"
   ]
  },
  {
   "cell_type": "code",
   "execution_count": 5,
   "id": "d925634c",
   "metadata": {},
   "outputs": [],
   "source": [
    "#  Consider the following example:>\n",
    "my_list = [1, 2, 3]\n"
   ]
  },
  {
   "cell_type": "markdown",
   "id": "f7dfa8e4",
   "metadata": {},
   "source": [
    "In this case, my_list is a variable that \"contains\" a list value. However, it does not hold the list itself. <br>\n",
    "It holds a reference to the memory location where the list object [1, 2, 3] is stored."
   ]
  },
  {
   "cell_type": "markdown",
   "id": "15752877",
   "metadata": {},
   "source": [
    "__17. How do you distinguish between copy.copy() and copy.deepcopy()?__"
   ]
  },
  {
   "cell_type": "markdown",
   "id": "34923f56",
   "metadata": {},
   "source": [
    "__Ans:__The __copy.copy()__ will do a shallow copy of a list, while the __copy.deepcopy()__ function will do a deep copy of a list. That is, only __copy.deepcopy()__ will duplicate any lists inside the list."
   ]
  },
  {
   "cell_type": "code",
   "execution_count": 7,
   "id": "81b1cead",
   "metadata": {},
   "outputs": [
    {
     "name": "stdout",
     "output_type": "stream",
     "text": [
      "[10, [2, 3, 4], [4, 5]]\n",
      "[1, [2, 3, 4], [4, 5]]\n",
      "[1, [2, 3], [4, 5]]\n"
     ]
    }
   ],
   "source": [
    "import copy\n",
    "\n",
    "original_list = [1, [2, 3], [4, 5]]\n",
    "shallow_copied_list = copy.copy(original_list)\n",
    "deep_copied_list = copy.deepcopy(original_list)\n",
    "\n",
    "original_list[0] = 10\n",
    "original_list[1].append(4)\n",
    "\n",
    "print(original_list)         # Output: [10, [2, 3, 4], [4, 5, 4]]\n",
    "print(shallow_copied_list)   # Output: [1, [2, 3, 4], [4, 5, 4]]\n",
    "print(deep_copied_list)      # Output: [1, [2, 3], [4, 5]]"
   ]
  },
  {
   "cell_type": "markdown",
   "id": "311d9da8",
   "metadata": {},
   "source": [
    "In this example, original_list is a list containing a mix of integers and nested lists. We create two copies of this list using copy.copy() and copy.deepcopy().\n",
    "\n",
    "The original_list is modified by changing the first element to 10 and appending 4 to the second element's list.\n",
    "\n",
    "The shallow_copied_list is a shallow copy, so changes to the original list affect the copied list. Hence, the modified values are reflected in shallow_copied_list.\n",
    "\n",
    "The deep_copied_list is a deep copy, so it creates a completely independent copy of the original list and its nested objects. Therefore, the modifications to the original list do not affect the deep copied list, and it remains unchanged.\n",
    "\n"
   ]
  },
  {
   "cell_type": "code",
   "execution_count": null,
   "id": "37aec0fa",
   "metadata": {},
   "outputs": [],
   "source": []
  }
 ],
 "metadata": {
  "kernelspec": {
   "display_name": "Python 3 (ipykernel)",
   "language": "python",
   "name": "python3"
  },
  "language_info": {
   "codemirror_mode": {
    "name": "ipython",
    "version": 3
   },
   "file_extension": ".py",
   "mimetype": "text/x-python",
   "name": "python",
   "nbconvert_exporter": "python",
   "pygments_lexer": "ipython3",
   "version": "3.9.7"
  }
 },
 "nbformat": 4,
 "nbformat_minor": 5
}
