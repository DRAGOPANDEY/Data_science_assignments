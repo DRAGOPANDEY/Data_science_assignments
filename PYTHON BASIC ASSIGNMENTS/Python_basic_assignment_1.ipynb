{
 "cells": [
  {
   "cell_type": "markdown",
   "id": "a91d1e0f",
   "metadata": {},
   "source": [
    "# Assignment_1(Python Basic)"
   ]
  },
  {
   "cell_type": "markdown",
   "id": "d3eb5419",
   "metadata": {},
   "source": [
    " __question 1__:- In the below elements which of them are values or an expression? eg:- values can be\n",
    "integer or string and expressions will be mathematical operators.<br>\n",
    " \n",
    "Ans:-<br>\n",
    "\n",
    "1.(*) = Expression,<br>\n",
    "2.('hello'):Value  , <br>\n",
    "3.(-87.8)= Expression,<br>\n",
    "4. (-) = Expression ,<br>\n",
    "5. (/) = Expression ,<br>\n",
    "6. (+) = Expression ,<br>\n",
    "7. (6) = Value<br>"
   ]
  },
  {
   "cell_type": "markdown",
   "id": "9c25be05",
   "metadata": {},
   "source": [
    "__2. What is the difference between string and variable?__<br>\n",
    "\n",
    "Ans:- A Variable is used to store of information, and a String is a type of information you would store in a Variable.<br>\n",
    "A String is a group of characters or a single character usually enclosed in Double quotes \" \" or single quotes ' '<br>\n",
    " ex:-  name = \"ineuron\" (here is name is variable and ineuron is string in double quotes)<br>"
   ]
  },
  {
   "cell_type": "markdown",
   "id": "ab200171",
   "metadata": {},
   "source": [
    "__3. Describe three different data types.__\n",
    "\n",
    "Ans:- These are some datatypes are:-<br> \n",
    "      __int data type__: We can use int data type to represent whole numbers (integral values) ex: 4<br>\n",
    "      __float data type:__ We can use float data type to represent floating point values (decimal values) ex: 4.56<br>\n",
    "      __complex data type:__ Complex number is represented by complex class. It is specified as (real part) + (imaginary part)j. <br>ex:4+5j (4 is real part , and 5j is imaginary part)<br>"
   ]
  },
  {
   "cell_type": "markdown",
   "id": "f04fb165",
   "metadata": {},
   "source": [
    "4. What is an expression made up of? What do all expressions do?\n",
    "\n",
    "Ans:-  An expression is a combination of values, variables, operators, and calls to functions. Expressions need to be evaluated. If we ask Python to print an expression, the interpreter evaluates the expression and displays the result."
   ]
  },
  {
   "cell_type": "code",
   "execution_count": 1,
   "id": "dc1f1513",
   "metadata": {},
   "outputs": [
    {
     "data": {
      "text/plain": [
       "0"
      ]
     },
     "execution_count": 1,
     "metadata": {},
     "output_type": "execute_result"
    }
   ],
   "source": [
    "(4*5)-10+(20-40)+10 # This example is an Expression, The Python Interpreter Evaluates it to 0\n",
    "#                   # first preference to evaluates is bodmass (),/,*,+,-"
   ]
  },
  {
   "cell_type": "markdown",
   "id": "a3ed40c8",
   "metadata": {},
   "source": [
    "__5. This assignment statements, like spam = 10. What is the difference between an\n",
    "expression and a statement?__\n",
    "\n",
    "Ans: An expression is a combination of values, variables, and operators.When we type an expression at the prompt, the interpreter evaluates it, which means that it finds the value of the expression.<br>\n",
    "\n",
    "eg: 4*5+20-40 is an example of a expression<br>\n",
    "\n",
    "A statement is a unit of code that has an effect, like creating a variable or displaying a value.When we type a statement, the interpreter executes it, which means that it does whatever the statement says. In general, statements don’t have values.<br>\n",
    "\n",
    "eg: variable declaration and assignment are statements because they do not return a value.<br>"
   ]
  },
  {
   "cell_type": "code",
   "execution_count": 7,
   "id": "6fb2e567",
   "metadata": {},
   "outputs": [
    {
     "name": "stdout",
     "output_type": "stream",
     "text": [
      "Hello World !\n"
     ]
    }
   ],
   "source": [
    "#Example:\n",
    "4*5+20-40 # Is a Expression\n",
    "courseName = 'INeuron FullStack DataScience' # Is a Statement\n",
    "print(\"Hello World !\") # Is a Expression Statement"
   ]
  },
  {
   "cell_type": "markdown",
   "id": "2bb1802a",
   "metadata": {},
   "source": [
    "__6. After running the following code, what does the variable bacon contain?__\n",
    "bacon = 22<br>\n",
    "bacon + 1'<br>\n",
    "\n",
    "\n",
    "Ans:- The bacon variable is set to 22. The bacon + 1 expression does not reassign<br>\n",
    "the value in bacon (that would need an assignment statement: bacon = bacon + 1).<br>"
   ]
  },
  {
   "cell_type": "code",
   "execution_count": 9,
   "id": "ea2a1743",
   "metadata": {},
   "outputs": [
    {
     "name": "stdout",
     "output_type": "stream",
     "text": [
      "22\n"
     ]
    }
   ],
   "source": [
    "# ex expression\n",
    "bacon=22\n",
    "bacon+1\n",
    "print(bacon)"
   ]
  },
  {
   "cell_type": "code",
   "execution_count": 10,
   "id": "6a621182",
   "metadata": {},
   "outputs": [
    {
     "name": "stdout",
     "output_type": "stream",
     "text": [
      "23\n"
     ]
    }
   ],
   "source": [
    "# ex expression 2\n",
    "bacon=22\n",
    "bacon=bacon+1 \n",
    "print(bacon)"
   ]
  },
  {
   "cell_type": "markdown",
   "id": "02302478",
   "metadata": {},
   "source": [
    "__7. What should the values of the following two terms be?__<br>\n",
    "'spam'+'spamspam'<br>\n",
    "'spam'*3<br>\n",
    "\n",
    "Ans:- Both expressions evaluate to the string 'spamspamspam',Where as the first expression follows String Concatentation and the second expression follows String Multiplication<br>"
   ]
  },
  {
   "cell_type": "code",
   "execution_count": 11,
   "id": "078eb0dc",
   "metadata": {},
   "outputs": [
    {
     "name": "stdout",
     "output_type": "stream",
     "text": [
      "spamspamspam\n",
      "spamspamspam\n"
     ]
    }
   ],
   "source": [
    "print('spam'+'spamspam') #String Concatentation\n",
    "print('spam'*3)          #String Multiplication"
   ]
  },
  {
   "cell_type": "markdown",
   "id": "da5813fd",
   "metadata": {},
   "source": [
    "__8. Why is eggs a valid variable name while 100 is invalid?__<br>\n",
    "\n",
    "Ans:s: As per python,Variable names cannot begin with a number. The python rules for naming a variable are :-<br>\n",
    "\n",
    "1.Variable name must start with a letter or the underscore character.<br>\n",
    "2.Variable name cannot start with a number.<br>\n",
    "3.Variable name can only contain alpha-numeric characters and underscores (A-z, 0-9, & _ ).<br>\n",
    "4.Variable names are case-sensitive (name, INEURON and ineuron are three different variables).<br>\n",
    "5.The reserved words(keywords) cannot be used naming the variable.<br>"
   ]
  },
  {
   "cell_type": "code",
   "execution_count": 13,
   "id": "620065ed",
   "metadata": {},
   "outputs": [
    {
     "ename": "SyntaxError",
     "evalue": "cannot assign to literal (Temp/ipykernel_15432/471469548.py, line 3)",
     "output_type": "error",
     "traceback": [
      "\u001b[1;36m  File \u001b[1;32m\"C:\\Users\\91844\\AppData\\Local\\Temp/ipykernel_15432/471469548.py\"\u001b[1;36m, line \u001b[1;32m3\u001b[0m\n\u001b[1;33m    100='hello' # Invalid Variable Initilization\u001b[0m\n\u001b[1;37m    ^\u001b[0m\n\u001b[1;31mSyntaxError\u001b[0m\u001b[1;31m:\u001b[0m cannot assign to literal\n"
     ]
    }
   ],
   "source": [
    "# example:-\n",
    "egg='Assignment' # Valid variable Initilization\n",
    "100='hello' # Invalid Variable Initilization\n",
    "print(egg) #prints the value of egg ie Ineuron\n",
    "print(100) # Raises a Syntax Error as 100 is not a valid variable name"
   ]
  },
  {
   "cell_type": "markdown",
   "id": "e20ca7ea",
   "metadata": {},
   "source": [
    "__9. What three functions can be used to get the integer, floating-point number, or string\n",
    "version of a value?__<br>\n",
    "\n",
    "__Ans:__-<br>\n",
    "    The int(), float(), and str() functions will evaluate to the integer, floating-point number, and string versions of the value passed to them.<br>"
   ]
  },
  {
   "cell_type": "code",
   "execution_count": 14,
   "id": "6f739d4f",
   "metadata": {},
   "outputs": [
    {
     "name": "stdout",
     "output_type": "stream",
     "text": [
      "int(10.0) ->  10\n",
      "float(10) ->  10.0\n",
      "str(10) ->  10\n"
     ]
    }
   ],
   "source": [
    "# Examples:\n",
    "print('int(10.0) -> ',int(10.0)) # int() function converts given input to int\n",
    "print('float(10) -> ',float(10)) # float() function converts given input to float\n",
    "print('str(10) -> ',str(10)) # str() function converts given input to string"
   ]
  },
  {
   "cell_type": "markdown",
   "id": "6557f7cb",
   "metadata": {},
   "source": [
    "__10. Why does this expression cause an error? How can you fix it?__<br>\n",
    "'I have eaten ' + 99 + 'burritos.'<br>\n",
    "\n",
    "Ans:- Ans: This cause of error is 99.because 99 is not a string. 99 must be typecasted to a string to fix this error. the correct way is:<br>\n",
    "Input: 'I have eaten ' + str(99) + 'burritos.'<br>\n",
    "Output: 'I have eaten 99 burritos.'<br>\n"
   ]
  },
  {
   "cell_type": "code",
   "execution_count": 2,
   "id": "fcd1f46f",
   "metadata": {},
   "outputs": [
    {
     "name": "stdout",
     "output_type": "stream",
     "text": [
      "I have eaten  99burritos.\n"
     ]
    }
   ],
   "source": [
    "# Example:\n",
    "print('I have eaten  ' + str(99) + 'burritos.')"
   ]
  },
  {
   "cell_type": "code",
   "execution_count": null,
   "id": "eb600972",
   "metadata": {},
   "outputs": [],
   "source": []
  }
 ],
 "metadata": {
  "kernelspec": {
   "display_name": "Python 3 (ipykernel)",
   "language": "python",
   "name": "python3"
  },
  "language_info": {
   "codemirror_mode": {
    "name": "ipython",
    "version": 3
   },
   "file_extension": ".py",
   "mimetype": "text/x-python",
   "name": "python",
   "nbconvert_exporter": "python",
   "pygments_lexer": "ipython3",
   "version": "3.9.7"
  }
 },
 "nbformat": 4,
 "nbformat_minor": 5
}
